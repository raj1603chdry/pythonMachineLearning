{
 "cells": [
  {
   "cell_type": "markdown",
   "metadata": {},
   "source": [
    "# Classifying Images with Deep Convolutional Neural Networks "
   ]
  },
  {
   "cell_type": "markdown",
   "metadata": {},
   "source": [
    "## Determining the size of convolution output "
   ]
  },
  {
   "cell_type": "code",
   "execution_count": 1,
   "metadata": {},
   "outputs": [],
   "source": [
    "import numpy as np"
   ]
  },
  {
   "cell_type": "markdown",
   "metadata": {},
   "source": [
    "Discrete Convolution in 1D"
   ]
  },
  {
   "cell_type": "code",
   "execution_count": 2,
   "metadata": {},
   "outputs": [
    {
     "name": "stdout",
     "output_type": "stream",
     "text": [
      "Conv1d Implementation:  [ 5. 14. 16. 26. 24. 34. 19. 22.]\n",
      "Numpy results:  [ 5 14 16 26 24 34 19 22]\n"
     ]
    }
   ],
   "source": [
    "def conv1d(x, w, p = 0, s = 1):\n",
    "    w_rot = np.array(w[::-1])\n",
    "    x_padded = np.array(x)\n",
    "    if p > 0:\n",
    "        zero_pad = np.zeros(p)\n",
    "        x_padded = np.concatenate([zero_pad, x_padded, zero_pad])\n",
    "    res = []\n",
    "    for i in range(0, int(len(x)/s), s):\n",
    "        res.append(np.sum(x_padded[i:i+w_rot.shape[0]] * w_rot))\n",
    "    return np.array(res)\n",
    "\n",
    "x = [1, 3, 2, 4, 5, 6, 1, 3]\n",
    "w = [1, 0, 3, 1, 2]\n",
    "print('Conv1d Implementation: ', \n",
    "      conv1d(x, w, p=2, s=1))\n",
    "print('Numpy results: ',\n",
    "      np.convolve(x, w, mode = 'same'))"
   ]
  },
  {
   "cell_type": "markdown",
   "metadata": {},
   "source": [
    "Discrete Convolution in 2D"
   ]
  },
  {
   "cell_type": "code",
   "execution_count": 3,
   "metadata": {},
   "outputs": [],
   "source": [
    "import scipy.signal"
   ]
  },
  {
   "cell_type": "code",
   "execution_count": 4,
   "metadata": {},
   "outputs": [
    {
     "name": "stdout",
     "output_type": "stream",
     "text": [
      "Conv2d Implementation: \n",
      " [[11. 25. 32. 13.]\n",
      " [19. 25. 24. 13.]\n",
      " [13. 28. 25. 17.]\n",
      " [11. 17. 14.  9.]]\n",
      "Scipy results: \n",
      " [[11 25 32 13]\n",
      " [19 25 24 13]\n",
      " [13 28 25 17]\n",
      " [11 17 14  9]]\n"
     ]
    }
   ],
   "source": [
    "def conv2d(X, W, p = (0, 0), s = (1, 1)):\n",
    "    W_rot = np.array(W)[::-1, ::-1]\n",
    "    X_orig = np.array(X)\n",
    "    n1 = X_orig.shape[0] + 2*p[0]\n",
    "    n2 = X_orig.shape[1] + 2*p[1]\n",
    "    X_padded = np.zeros(shape = (n1, n2))\n",
    "    X_padded[p[0]:p[0] + X_orig.shape[0],\n",
    "             p[1]:p[1] + X_orig.shape[1]] = X_orig\n",
    "    res = []\n",
    "    for i in range(0, int((X_padded.shape[0] - W_rot.shape[0])/s[0])+1, s[0]):\n",
    "        res.append([])\n",
    "        for j in range(0, int((X_padded.shape[1] - W_rot.shape[1])/s[1])+1, s[1]):\n",
    "            X_sub = X_padded[i:i + W_rot.shape[0], j:j + W_rot.shape[1]]\n",
    "            res[-1].append(np.sum(X_sub*W_rot))\n",
    "    return np.array(res)\n",
    "\n",
    "X = [[1, 3, 2, 4], [5, 6, 1, 3], [1 , 2,0, 2], [3, 4, 3, 2]]\n",
    "W = [[1, 0, 3], [1, 2, 1], [0, 1, 1]]\n",
    "print('Conv2d Implementation: \\n', \n",
    "      conv2d(X, W, p=(1,1), s=(1,1)))\n",
    "print('Scipy results: \\n',\n",
    "      scipy.signal.convolve2d(X, W, mode = 'same'))"
   ]
  },
  {
   "cell_type": "markdown",
   "metadata": {},
   "source": [
    "## Working with multiple inputs or color channels "
   ]
  },
  {
   "cell_type": "code",
   "execution_count": 5,
   "metadata": {},
   "outputs": [],
   "source": [
    "import imageio"
   ]
  },
  {
   "cell_type": "code",
   "execution_count": 6,
   "metadata": {},
   "outputs": [
    {
     "name": "stdout",
     "output_type": "stream",
     "text": [
      "Image shape: (252, 221, 3)\n",
      "Number of channels:  3\n",
      "Image data type:  uint8\n",
      "[[[179 134 110]\n",
      "  [182 136 112]]\n",
      "\n",
      " [[180 135 111]\n",
      "  [182 137 113]]]\n"
     ]
    }
   ],
   "source": [
    "try:\n",
    "    img = imageio.imread('./example-image.png', pilmode = 'RGB')\n",
    "except AttributeError:\n",
    "    s = (\"imageio.imread requires Python's image library PIL\"\n",
    "         \" You can satisfy this requirement by installing the\"\n",
    "         \" userfriendly fork PILLOW via `pip install pillow`.\")\n",
    "    raise AttributeError(s)\n",
    "\n",
    "print('Image shape:', img.shape)\n",
    "print('Number of channels: ', img.shape[2])\n",
    "print('Image data type: ', img.dtype)\n",
    "\n",
    "print(img[100:102, 100:102, :])"
   ]
  },
  {
   "cell_type": "markdown",
   "metadata": {},
   "source": [
    "# Implementing deep convolutional neural network using Tensorflow "
   ]
  },
  {
   "cell_type": "markdown",
   "metadata": {},
   "source": [
    "## Loading and preprocessing the data "
   ]
  },
  {
   "cell_type": "code",
   "execution_count": 8,
   "metadata": {},
   "outputs": [
    {
     "name": "stdout",
     "output_type": "stream",
     "text": [
      "Rows: 60000,  Columns: 784\n",
      "Rows: 10000,  Columns: 784\n",
      "Training:    (50000, 784) (50000,)\n",
      "Validation:  (10000, 784) (10000,)\n",
      "Test Set:    (10000, 784) (10000,)\n"
     ]
    }
   ],
   "source": [
    "import struct\n",
    "import numpy as np\n",
    "import os\n",
    "\n",
    "def load_mnist(path, kind='train'):\n",
    "    \"\"\"Load MNIST data from `path`\"\"\"\n",
    "    labels_path = os.path.join(path,\n",
    "                               '%s-labels-idx1-ubyte'\n",
    "                                % kind)\n",
    "    images_path = os.path.join(path,\n",
    "                               '%s-images-idx3-ubyte'\n",
    "                               % kind)\n",
    "\n",
    "    with open(labels_path, 'rb') as lbpath:\n",
    "        magic, n = struct.unpack('>II',\n",
    "                                 lbpath.read(8))\n",
    "        labels = np.fromfile(lbpath,\n",
    "                             dtype=np.uint8)\n",
    "\n",
    "    with open(images_path, 'rb') as imgpath:\n",
    "        magic, num, rows, cols = struct.unpack(\">IIII\",\n",
    "                                               imgpath.read(16))\n",
    "        images = np.fromfile(imgpath,\n",
    "                             dtype=np.uint8).reshape(len(labels), 784)\n",
    "\n",
    "    return images, labels\n",
    "\n",
    "\n",
    "X_data, y_data = load_mnist('./', kind='train')\n",
    "print('Rows: %d,  Columns: %d' % (X_data.shape[0], X_data.shape[1]))\n",
    "X_test, y_test = load_mnist('./', kind='t10k')\n",
    "print('Rows: %d,  Columns: %d' % (X_test.shape[0], X_test.shape[1]))\n",
    "\n",
    "X_train, y_train = X_data[:50000,:], y_data[:50000]\n",
    "X_valid, y_valid = X_data[50000:,:], y_data[50000:]\n",
    "\n",
    "print('Training:   ', X_train.shape, y_train.shape)\n",
    "print('Validation: ', X_valid.shape, y_valid.shape)\n",
    "print('Test Set:   ', X_test.shape, y_test.shape)"
   ]
  },
  {
   "cell_type": "code",
   "execution_count": 9,
   "metadata": {},
   "outputs": [],
   "source": [
    "def batch_generator(X, y, batch_size=64, \n",
    "                    shuffle=False, random_seed=None):\n",
    "    \n",
    "    idx = np.arange(y.shape[0])\n",
    "    \n",
    "    if shuffle:\n",
    "        rng = np.random.RandomState(random_seed)\n",
    "        rng.shuffle(idx)\n",
    "        X = X[idx]\n",
    "        y = y[idx]\n",
    "    \n",
    "    for i in range(0, X.shape[0], batch_size):\n",
    "        yield (X[i:i+batch_size, :], y[i:i+batch_size])"
   ]
  },
  {
   "cell_type": "code",
   "execution_count": 10,
   "metadata": {},
   "outputs": [],
   "source": [
    "mean_vals = np.mean(X_train, axis=0)\n",
    "std_val = np.std(X_train)\n",
    "\n",
    "X_train_centered = (X_train - mean_vals)/std_val\n",
    "X_valid_centered = (X_valid - mean_vals)/std_val\n",
    "X_test_centered = (X_test - mean_vals)/std_val\n",
    "\n",
    "del X_data, y_data, X_train, X_valid, X_test"
   ]
  },
  {
   "cell_type": "markdown",
   "metadata": {},
   "source": [
    "## Implementing CNN in low level Tensorflow API "
   ]
  },
  {
   "cell_type": "code",
   "execution_count": 12,
   "metadata": {},
   "outputs": [],
   "source": [
    "import tensorflow as tf\n",
    "import numpy as np"
   ]
  },
  {
   "cell_type": "code",
   "execution_count": 14,
   "metadata": {},
   "outputs": [
    {
     "name": "stdout",
     "output_type": "stream",
     "text": [
      "<tf.Variable 'convtest/_weights:0' shape=(3, 3, 1, 32) dtype=float32_ref>\n",
      "<tf.Variable 'convtest/_biases:0' shape=(32,) dtype=float32_ref>\n",
      "Tensor(\"convtest/Conv2D:0\", shape=(?, 28, 28, 32), dtype=float32)\n",
      "Tensor(\"convtest/net_pre-activation:0\", shape=(?, 28, 28, 32), dtype=float32)\n",
      "Tensor(\"convtest/activation:0\", shape=(?, 28, 28, 32), dtype=float32)\n"
     ]
    }
   ],
   "source": [
    "## wrapper functions\n",
    "\n",
    "def conv_layer(input_tensor, name,\n",
    "               kernel_size, n_output_channels,\n",
    "               padding_mode = 'SAME', strides = (1, 1, 1, 1)):\n",
    "    with tf.variable_scope(name):\n",
    "        ## get n_input_channels:\n",
    "        ##   input tensor shape:\n",
    "        ##   [batch x width x height x channels_in]\n",
    "        input_shape = input_tensor.get_shape().as_list()\n",
    "        n_input_channels = input_shape[-1]\n",
    "        \n",
    "        weights_shape = (list(kernel_size) + \n",
    "                         [n_input_channels, n_output_channels])\n",
    "        \n",
    "        weights = tf.get_variable(name = '_weights',\n",
    "                                  shape = weights_shape)\n",
    "        print(weights)\n",
    "        biases = tf.get_variable(name = '_biases',\n",
    "                                 initializer = tf.zeros(shape = n_output_channels))\n",
    "        print(biases)\n",
    "        conv = tf.nn.conv2d(input = input_tensor,\n",
    "                            filter = weights,\n",
    "                            strides = strides,\n",
    "                            padding = padding_mode)\n",
    "        print(conv)\n",
    "        conv = tf.nn.bias_add(conv, biases, name = 'net_pre-activation')\n",
    "        print(conv)\n",
    "        conv = tf.nn.relu(conv, name = 'activation')\n",
    "        print(conv)\n",
    "        \n",
    "        return conv\n",
    "    \n",
    "## testing\n",
    "g = tf.Graph()\n",
    "with g.as_default():\n",
    "    x = tf.placeholder(tf.float32, shape=[None, 28, 28, 1])\n",
    "    conv_layer(x, name='convtest', kernel_size=(3, 3), n_output_channels=32)\n",
    "    \n",
    "del g, x"
   ]
  },
  {
   "cell_type": "code",
   "execution_count": 17,
   "metadata": {},
   "outputs": [
    {
     "name": "stdout",
     "output_type": "stream",
     "text": [
      "<tf.Variable 'fctest/_weights:0' shape=(784, 32) dtype=float32_ref>\n",
      "<tf.Variable 'fctest/_biases:0' shape=(32,) dtype=float32_ref>\n",
      "Tensor(\"fctest/MatMul:0\", shape=(?, 32), dtype=float32)\n",
      "Tensor(\"fctest/net_pre-activation:0\", shape=(?, 32), dtype=float32)\n",
      "Tensor(\"fctest/activation:0\", shape=(?, 32), dtype=float32)\n"
     ]
    }
   ],
   "source": [
    "def fc_layer(input_tensor, name,\n",
    "             n_output_units, activation_fn = None):\n",
    "    with tf.variable_scope(name):\n",
    "        input_shape = input_tensor.get_shape().as_list()[1:]\n",
    "        n_input_units = np.prod(input_shape)\n",
    "        if len(input_shape) > 1:\n",
    "            input_tensor = tf.reshape(input_tensor,\n",
    "                                      shape = (-1, n_input_units))\n",
    "            \n",
    "        weights_shape = [n_input_units, n_output_units]\n",
    "        weights = tf.get_variable(name = '_weights',\n",
    "                                  shape = weights_shape)\n",
    "        print(weights)\n",
    "        biases = tf.get_variable(name = '_biases',\n",
    "                                 initializer = tf.zeros(shape = n_output_units))\n",
    "        print(biases)\n",
    "        layer = tf.matmul(input_tensor, weights)\n",
    "        print(layer)\n",
    "        layer = tf.nn.bias_add(layer, biases, name = 'net_pre-activation')\n",
    "        print(layer)\n",
    "        if activation_fn is None:\n",
    "            return layer\n",
    "        \n",
    "        layer = activation_fn(layer, name = 'activation')\n",
    "        print(layer)\n",
    "        return layer\n",
    "    \n",
    "## testing\n",
    "## testing:\n",
    "g = tf.Graph()\n",
    "with g.as_default():\n",
    "    x = tf.placeholder(tf.float32, \n",
    "                       shape=[None, 28, 28, 1])\n",
    "    fc_layer(x, name='fctest', n_output_units=32, \n",
    "             activation_fn=tf.nn.relu)\n",
    "    \n",
    "del g, x"
   ]
  },
  {
   "cell_type": "code",
   "execution_count": 21,
   "metadata": {},
   "outputs": [],
   "source": [
    "def build_cnn(learning_rate = 1e-4):\n",
    "    ## Placeholders for X and y\n",
    "    tf_x = tf.placeholder(tf.float32, shape = [None, 784],\n",
    "                          name = 'tf_x')\n",
    "    tf_y = tf.placeholder(tf.int32, shape = [None],\n",
    "                          name = 'tf_y')\n",
    "    \n",
    "    ## reshape X to 4D tensor:\n",
    "    ## [batchsize, width, height, 1]\n",
    "    tf_x_image = tf.reshape(tf_x, shape = [-1, 28, 28, 1],\n",
    "                            name = 'tf_x_reshaped')\n",
    "    ## One-hot encoding\n",
    "    tf_y_onehot = tf.one_hot(indices = tf_y,\n",
    "                             depth = 10,\n",
    "                             dtype = tf.float32,\n",
    "                             name = 'tf_y_onehot')\n",
    "    \n",
    "    ## 1st layer: Conv1\n",
    "    print('\\nBuilding 1st layer: ')\n",
    "    h1 = conv_layer(tf_x_image, name = 'conv1',\n",
    "                    kernel_size = (5, 5),\n",
    "                    padding_mode = 'VALID',\n",
    "                    n_output_channels = 32)\n",
    "    ## MaxPooling\n",
    "    h1_pool = tf.nn.max_pool(h1,\n",
    "                         ksize = [1, 2, 2, 1],\n",
    "                         strides = [1, 2, 2, 1],\n",
    "                         padding = 'SAME')\n",
    "    ## 2n layer: Conv_2\n",
    "    print('\\nBuilding 2nd layer: ')\n",
    "    h2 = conv_layer(h1_pool, name = 'conv_2', \n",
    "                    kernel_size = (5,5), \n",
    "                    padding_mode = 'VALID',\n",
    "                    n_output_channels = 64)\n",
    "    ## MaxPooling \n",
    "    h2_pool = tf.nn.max_pool(h2, \n",
    "                             ksize = [1, 2, 2, 1],\n",
    "                             strides = [1, 2, 2, 1], \n",
    "                             padding = 'SAME')\n",
    "    \n",
    "    ## 3rd layer: Fully connected\n",
    "    print('\\nBuilding 3rd layer:')\n",
    "    h3 = fc_layer(h2_pool, name = 'fc_3',\n",
    "                  n_output_units = 1024, \n",
    "                  activation_fn = tf.nn.relu)\n",
    "    \n",
    "    ## Dropout\n",
    "    keep_prob = tf.placeholder(tf.float32, name = 'fc_keep_prob')\n",
    "    h3_drop = tf.nn.dropout(h3, keep_prob = keep_prob, name = 'dropout-layer')\n",
    "    \n",
    "    ## 4th layer: Fully Connected (linear activation)\n",
    "    print('\\nBuilding 4th layer:')\n",
    "    h4 = fc_layer(h3_drop, name = 'fc_4',\n",
    "                  n_output_units = 10, \n",
    "                  activation_fn = None)\n",
    "    \n",
    "    ## Prediction\n",
    "    predictions = {\n",
    "        'probabilities': tf.nn.softmax(h4, name = 'probabilities'),\n",
    "        'labels': tf.cast(tf.argmax(h4, axis =1), tf.int32, name = 'labels')\n",
    "    }\n",
    "    \n",
    "    ## Visualize the graph using TensorBoard\n",
    "    \n",
    "    ## Loss Function and Optimisation\n",
    "    cross_entropy_loss = tf.reduce_mean(\n",
    "        tf.nn.softmax_cross_entropy_with_logits(\n",
    "            logits = h4, labels = tf_y_onehot),\n",
    "        name = 'cross_entropy_loss')\n",
    "    \n",
    "    ## Optimizer:\n",
    "    optimizer = tf.train.AdamOptimizer(learning_rate)\n",
    "    optimizer = optimizer.minimize(cross_entropy_loss, name = 'train_op')\n",
    "    \n",
    "    ## Computing prediction accuracy\n",
    "    correct_predictions = tf.equal(\n",
    "        predictions['labels'], tf_y,\n",
    "        name = 'correct_preds')\n",
    "    \n",
    "    accuracy = tf.reduce_mean(tf.cast(correct_predictions, tf.float32), name = 'accuracy')\n",
    "    \n",
    "def save(saver, sess, epoch, path = './model/'):\n",
    "    if not os.path.isdir(path):\n",
    "        os.makedirs(path)\n",
    "    print('Saving model in %s' % path)\n",
    "    saver.save(sess, os.path.join(path,'cnn-model.ckpt'),\n",
    "               global_step = epoch)\n",
    "    \n",
    "def load(saver, sess, path, epoch):\n",
    "    print('Loading model from %s' % path)\n",
    "    saver.restore(sess, os.path.join(\n",
    "            path, 'cnn-model.ckpt-%d' % epoch))\n",
    "    \n",
    "def train(sess, training_set, validation_set = None,\n",
    "          initialize = True, epochs = 20, shuffle = True,\n",
    "          dropout = 0.5, random_seed = None):\n",
    "\n",
    "    X_data = np.array(training_set[0])\n",
    "    y_data = np.array(training_set[1])\n",
    "    training_loss = []\n",
    "\n",
    "    ## initialize variables\n",
    "    if initialize:\n",
    "        sess.run(tf.global_variables_initializer())\n",
    "\n",
    "    np.random.seed(random_seed) # for shuflling in batch_generator\n",
    "    for epoch in range(1, epochs+1):\n",
    "        batch_gen = batch_generator(\n",
    "                        X_data, y_data, \n",
    "                        shuffle = shuffle)\n",
    "        avg_loss = 0.0\n",
    "        for i,(batch_x,batch_y) in enumerate(batch_gen):\n",
    "            feed = {'tf_x:0': batch_x, \n",
    "                    'tf_y:0': batch_y, \n",
    "                    'fc_keep_prob:0': dropout}\n",
    "            loss, _ = sess.run(\n",
    "                    ['cross_entropy_loss:0', 'train_op'],\n",
    "                    feed_dict = feed)\n",
    "            avg_loss += loss\n",
    "\n",
    "        training_loss.append(avg_loss / (i+1))\n",
    "        print('Epoch %02d Training Avg. Loss: %7.3f' % (\n",
    "            epoch, avg_loss), end=' ')\n",
    "        if validation_set is not None:\n",
    "            feed = {'tf_x:0': validation_set[0],\n",
    "                    'tf_y:0': validation_set[1],\n",
    "                    'fc_keep_prob:0':1.0}\n",
    "            valid_acc = sess.run('accuracy:0', feed_dict = feed)\n",
    "            print(' Validation Acc: %7.3f' % valid_acc)\n",
    "        else:\n",
    "            print()\n",
    "\n",
    "            \n",
    "def predict(sess, X_test, return_proba = False):\n",
    "    feed = {'tf_x:0': X_test, \n",
    "            'fc_keep_prob:0': 1.0}\n",
    "    if return_proba:\n",
    "        return sess.run('probabilities:0', feed_dict = feed)\n",
    "    else:\n",
    "        return sess.run('labels:0', feed_dict = feed)"
   ]
  },
  {
   "cell_type": "code",
   "execution_count": 22,
   "metadata": {},
   "outputs": [],
   "source": [
    "## Define random seed\n",
    "random_seed = 123\n",
    "np.random.seed(random_seed)"
   ]
  },
  {
   "cell_type": "code",
   "execution_count": 23,
   "metadata": {},
   "outputs": [
    {
     "name": "stdout",
     "output_type": "stream",
     "text": [
      "\n",
      "Building 1st layer: \n",
      "<tf.Variable 'conv1/_weights:0' shape=(5, 5, 1, 32) dtype=float32_ref>\n",
      "<tf.Variable 'conv1/_biases:0' shape=(32,) dtype=float32_ref>\n",
      "Tensor(\"conv1/Conv2D:0\", shape=(?, 24, 24, 32), dtype=float32)\n",
      "Tensor(\"conv1/net_pre-activation:0\", shape=(?, 24, 24, 32), dtype=float32)\n",
      "Tensor(\"conv1/activation:0\", shape=(?, 24, 24, 32), dtype=float32)\n",
      "\n",
      "Building 2nd layer: \n",
      "<tf.Variable 'conv_2/_weights:0' shape=(5, 5, 32, 64) dtype=float32_ref>\n",
      "<tf.Variable 'conv_2/_biases:0' shape=(64,) dtype=float32_ref>\n",
      "Tensor(\"conv_2/Conv2D:0\", shape=(?, 8, 8, 64), dtype=float32)\n",
      "Tensor(\"conv_2/net_pre-activation:0\", shape=(?, 8, 8, 64), dtype=float32)\n",
      "Tensor(\"conv_2/activation:0\", shape=(?, 8, 8, 64), dtype=float32)\n",
      "\n",
      "Building 3rd layer:\n",
      "<tf.Variable 'fc_3/_weights:0' shape=(1024, 1024) dtype=float32_ref>\n",
      "<tf.Variable 'fc_3/_biases:0' shape=(1024,) dtype=float32_ref>\n",
      "Tensor(\"fc_3/MatMul:0\", shape=(?, 1024), dtype=float32)\n",
      "Tensor(\"fc_3/net_pre-activation:0\", shape=(?, 1024), dtype=float32)\n",
      "Tensor(\"fc_3/activation:0\", shape=(?, 1024), dtype=float32)\n",
      "\n",
      "Building 4th layer:\n",
      "<tf.Variable 'fc_4/_weights:0' shape=(1024, 10) dtype=float32_ref>\n",
      "<tf.Variable 'fc_4/_biases:0' shape=(10,) dtype=float32_ref>\n",
      "Tensor(\"fc_4/MatMul:0\", shape=(?, 10), dtype=float32)\n",
      "Tensor(\"fc_4/net_pre-activation:0\", shape=(?, 10), dtype=float32)\n",
      "WARNING:tensorflow:From <ipython-input-21-faf4dcf60201>:68: softmax_cross_entropy_with_logits (from tensorflow.python.ops.nn_ops) is deprecated and will be removed in a future version.\n",
      "Instructions for updating:\n",
      "\n",
      "Future major versions of TensorFlow will allow gradients to flow\n",
      "into the labels input on backprop by default.\n",
      "\n",
      "See @{tf.nn.softmax_cross_entropy_with_logits_v2}.\n",
      "\n"
     ]
    }
   ],
   "source": [
    "## create a graph\n",
    "g = tf.Graph()\n",
    "with g.as_default():\n",
    "    tf.set_random_seed(random_seed)\n",
    "    ## build the graph\n",
    "    build_cnn()\n",
    "    ## saver:\n",
    "    saver = tf.train.Saver()"
   ]
  },
  {
   "cell_type": "code",
   "execution_count": 24,
   "metadata": {},
   "outputs": [
    {
     "name": "stdout",
     "output_type": "stream",
     "text": [
      "Epoch 01 Training Avg. Loss: 278.617  Validation Acc:   0.972\n",
      "Epoch 02 Training Avg. Loss:  74.391  Validation Acc:   0.981\n",
      "Epoch 03 Training Avg. Loss:  50.751  Validation Acc:   0.986\n",
      "Epoch 04 Training Avg. Loss:  39.466  Validation Acc:   0.988\n",
      "Epoch 05 Training Avg. Loss:  31.170  Validation Acc:   0.988\n",
      "Epoch 06 Training Avg. Loss:  27.540  Validation Acc:   0.990\n",
      "Epoch 07 Training Avg. Loss:  23.661  Validation Acc:   0.990\n",
      "Epoch 08 Training Avg. Loss:  20.069  Validation Acc:   0.990\n",
      "Epoch 09 Training Avg. Loss:  17.496  Validation Acc:   0.992\n",
      "Epoch 10 Training Avg. Loss:  15.789  Validation Acc:   0.991\n",
      "Epoch 11 Training Avg. Loss:  13.648  Validation Acc:   0.991\n",
      "Epoch 12 Training Avg. Loss:  11.264  Validation Acc:   0.991\n",
      "Epoch 13 Training Avg. Loss:  10.604  Validation Acc:   0.991\n",
      "Epoch 14 Training Avg. Loss:   9.730  Validation Acc:   0.992\n",
      "Epoch 15 Training Avg. Loss:   7.627  Validation Acc:   0.992\n",
      "Epoch 16 Training Avg. Loss:   7.087  Validation Acc:   0.991\n",
      "Epoch 17 Training Avg. Loss:   7.027  Validation Acc:   0.992\n",
      "Epoch 18 Training Avg. Loss:   5.898  Validation Acc:   0.993\n",
      "Epoch 19 Training Avg. Loss:   4.986  Validation Acc:   0.992\n",
      "Epoch 20 Training Avg. Loss:   3.910  Validation Acc:   0.994\n",
      "Saving model in ./model/\n"
     ]
    }
   ],
   "source": [
    "## create a TF session \n",
    "## and train the CNN model\n",
    "\n",
    "with tf.Session(graph = g) as sess:\n",
    "    train(sess, \n",
    "          training_set = (X_train_centered, y_train), \n",
    "          validation_set = (X_valid_centered, y_valid), \n",
    "          initialize = True,\n",
    "          random_seed = 123)\n",
    "    save(saver, sess, epoch = 20)"
   ]
  },
  {
   "cell_type": "code",
   "execution_count": 25,
   "metadata": {},
   "outputs": [
    {
     "name": "stdout",
     "output_type": "stream",
     "text": [
      "\n",
      "Building 1st layer: \n",
      "<tf.Variable 'conv1/_weights:0' shape=(5, 5, 1, 32) dtype=float32_ref>\n",
      "<tf.Variable 'conv1/_biases:0' shape=(32,) dtype=float32_ref>\n",
      "Tensor(\"conv1/Conv2D:0\", shape=(?, 24, 24, 32), dtype=float32)\n",
      "Tensor(\"conv1/net_pre-activation:0\", shape=(?, 24, 24, 32), dtype=float32)\n",
      "Tensor(\"conv1/activation:0\", shape=(?, 24, 24, 32), dtype=float32)\n",
      "\n",
      "Building 2nd layer: \n",
      "<tf.Variable 'conv_2/_weights:0' shape=(5, 5, 32, 64) dtype=float32_ref>\n",
      "<tf.Variable 'conv_2/_biases:0' shape=(64,) dtype=float32_ref>\n",
      "Tensor(\"conv_2/Conv2D:0\", shape=(?, 8, 8, 64), dtype=float32)\n",
      "Tensor(\"conv_2/net_pre-activation:0\", shape=(?, 8, 8, 64), dtype=float32)\n",
      "Tensor(\"conv_2/activation:0\", shape=(?, 8, 8, 64), dtype=float32)\n",
      "\n",
      "Building 3rd layer:\n",
      "<tf.Variable 'fc_3/_weights:0' shape=(1024, 1024) dtype=float32_ref>\n",
      "<tf.Variable 'fc_3/_biases:0' shape=(1024,) dtype=float32_ref>\n",
      "Tensor(\"fc_3/MatMul:0\", shape=(?, 1024), dtype=float32)\n",
      "Tensor(\"fc_3/net_pre-activation:0\", shape=(?, 1024), dtype=float32)\n",
      "Tensor(\"fc_3/activation:0\", shape=(?, 1024), dtype=float32)\n",
      "\n",
      "Building 4th layer:\n",
      "<tf.Variable 'fc_4/_weights:0' shape=(1024, 10) dtype=float32_ref>\n",
      "<tf.Variable 'fc_4/_biases:0' shape=(10,) dtype=float32_ref>\n",
      "Tensor(\"fc_4/MatMul:0\", shape=(?, 10), dtype=float32)\n",
      "Tensor(\"fc_4/net_pre-activation:0\", shape=(?, 10), dtype=float32)\n",
      "Loading model from ./model/\n",
      "INFO:tensorflow:Restoring parameters from ./model/cnn-model.ckpt-20\n",
      "Test Accuracy: 99.330%\n"
     ]
    }
   ],
   "source": [
    "### Calculate prediction accuracy\n",
    "### on test set\n",
    "### restoring the saved model\n",
    "\n",
    "del g\n",
    "\n",
    "## create a new graph \n",
    "## and build the model\n",
    "g2 = tf.Graph()\n",
    "with g2.as_default():\n",
    "    tf.set_random_seed(random_seed)\n",
    "    ## build the graph\n",
    "    build_cnn()\n",
    "\n",
    "    ## saver:\n",
    "    saver = tf.train.Saver()\n",
    "\n",
    "## create a new session \n",
    "## and restore the model\n",
    "with tf.Session(graph = g2) as sess:\n",
    "    load(saver, sess, \n",
    "         epoch = 20, path = './model/')\n",
    "    \n",
    "    preds = predict(sess, X_test_centered, \n",
    "                    return_proba = False)\n",
    "\n",
    "    print('Test Accuracy: %.3f%%' % (100*\n",
    "                np.sum(preds == y_test)/len(y_test)))\n",
    "    "
   ]
  },
  {
   "cell_type": "code",
   "execution_count": 26,
   "metadata": {},
   "outputs": [
    {
     "name": "stdout",
     "output_type": "stream",
     "text": [
      "Loading model from ./model/\n",
      "INFO:tensorflow:Restoring parameters from ./model/cnn-model.ckpt-20\n",
      "[7 2 1 0 4 1 4 9 5 9]\n",
      "[[0. 0. 0. 0. 0. 0. 0. 1. 0. 0.]\n",
      " [0. 0. 1. 0. 0. 0. 0. 0. 0. 0.]\n",
      " [0. 1. 0. 0. 0. 0. 0. 0. 0. 0.]\n",
      " [1. 0. 0. 0. 0. 0. 0. 0. 0. 0.]\n",
      " [0. 0. 0. 0. 1. 0. 0. 0. 0. 0.]\n",
      " [0. 1. 0. 0. 0. 0. 0. 0. 0. 0.]\n",
      " [0. 0. 0. 0. 1. 0. 0. 0. 0. 0.]\n",
      " [0. 0. 0. 0. 0. 0. 0. 0. 0. 1.]\n",
      " [0. 0. 0. 0. 0. 1. 0. 0. 0. 0.]\n",
      " [0. 0. 0. 0. 0. 0. 0. 0. 0. 1.]]\n"
     ]
    }
   ],
   "source": [
    "## run the prediction on \n",
    "##  some test samples\n",
    "\n",
    "np.set_printoptions(precision = 2, suppress = True)\n",
    "\n",
    "with tf.Session(graph = g2) as sess:\n",
    "    load(saver, sess, \n",
    "         epoch = 20, path = './model/')\n",
    "        \n",
    "    print(predict(sess, X_test_centered[:10], \n",
    "              return_proba = False))\n",
    "    \n",
    "    print(predict(sess, X_test_centered[:10], \n",
    "                  return_proba = True))"
   ]
  },
  {
   "cell_type": "code",
   "execution_count": 27,
   "metadata": {},
   "outputs": [
    {
     "name": "stdout",
     "output_type": "stream",
     "text": [
      "Loading model from ./model/\n",
      "INFO:tensorflow:Restoring parameters from ./model/cnn-model.ckpt-20\n",
      "Epoch 01 Training Avg. Loss:   4.409  Validation Acc:   0.992\n",
      "Epoch 02 Training Avg. Loss:   4.612  Validation Acc:   0.992\n",
      "Epoch 03 Training Avg. Loss:   4.052  Validation Acc:   0.991\n",
      "Epoch 04 Training Avg. Loss:   2.938  Validation Acc:   0.991\n",
      "Epoch 05 Training Avg. Loss:   2.942  Validation Acc:   0.993\n",
      "Epoch 06 Training Avg. Loss:   3.031  Validation Acc:   0.993\n",
      "Epoch 07 Training Avg. Loss:   4.060  Validation Acc:   0.992\n",
      "Epoch 08 Training Avg. Loss:   2.818  Validation Acc:   0.993\n",
      "Epoch 09 Training Avg. Loss:   1.650  Validation Acc:   0.993\n",
      "Epoch 10 Training Avg. Loss:   2.548  Validation Acc:   0.993\n",
      "Epoch 11 Training Avg. Loss:   2.288  Validation Acc:   0.993\n",
      "Epoch 12 Training Avg. Loss:   2.405  Validation Acc:   0.993\n",
      "Epoch 13 Training Avg. Loss:   2.367  Validation Acc:   0.993\n",
      "Epoch 14 Training Avg. Loss:   1.498  Validation Acc:   0.992\n",
      "Epoch 15 Training Avg. Loss:   2.431  Validation Acc:   0.992\n",
      "Epoch 16 Training Avg. Loss:   1.975  Validation Acc:   0.992\n",
      "Epoch 17 Training Avg. Loss:   1.439  Validation Acc:   0.992\n",
      "Epoch 18 Training Avg. Loss:   1.449  Validation Acc:   0.993\n",
      "Epoch 19 Training Avg. Loss:   1.819  Validation Acc:   0.994\n",
      "Epoch 20 Training Avg. Loss:   1.998  Validation Acc:   0.993\n",
      "Saving model in ./model/\n",
      "Test Accuracy: 99.360%\n"
     ]
    }
   ],
   "source": [
    "## continue training for 20 more epochs\n",
    "## without re-initializing :: initialize=False\n",
    "## create a new session \n",
    "## and restore the model\n",
    "with tf.Session(graph = g2) as sess:\n",
    "    load(saver, sess, \n",
    "         epoch = 20, path = './model/')\n",
    "    \n",
    "    train(sess,\n",
    "          training_set = (X_train_centered, y_train), \n",
    "          validation_set = (X_valid_centered, y_valid),\n",
    "          initialize = False,\n",
    "          epochs = 20,\n",
    "          random_seed = 123)\n",
    "        \n",
    "    save(saver, sess, epoch = 40, path = './model/')\n",
    "    \n",
    "    preds = predict(sess, X_test_centered, \n",
    "                    return_proba = False)\n",
    "    \n",
    "    print('Test Accuracy: %.3f%%' % (100*\n",
    "                np.sum(preds == y_test)/len(y_test)))"
   ]
  },
  {
   "cell_type": "code",
   "execution_count": 33,
   "metadata": {},
   "outputs": [],
   "source": [
    "with tf.Session(graph = g2) as sess:\n",
    "    file_writer = tf.summary.FileWriter(logdir = './tensorboard/', graph = g2)"
   ]
  },
  {
   "cell_type": "markdown",
   "metadata": {},
   "source": [
    "## Implementing CNN in Tensorflow Layers API "
   ]
  },
  {
   "cell_type": "code",
   "execution_count": null,
   "metadata": {},
   "outputs": [],
   "source": []
  }
 ],
 "metadata": {
  "kernelspec": {
   "display_name": "Python 3",
   "language": "python",
   "name": "python3"
  },
  "language_info": {
   "codemirror_mode": {
    "name": "ipython",
    "version": 3
   },
   "file_extension": ".py",
   "mimetype": "text/x-python",
   "name": "python",
   "nbconvert_exporter": "python",
   "pygments_lexer": "ipython3",
   "version": "3.6.6"
  }
 },
 "nbformat": 4,
 "nbformat_minor": 2
}
