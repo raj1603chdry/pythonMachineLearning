{
 "cells": [
  {
   "cell_type": "markdown",
   "metadata": {},
   "source": [
    "# Going Deeper - The Mechanics of Tensorflow "
   ]
  },
  {
   "cell_type": "markdown",
   "metadata": {},
   "source": [
    "## How to get the rank and shape of a tensor "
   ]
  },
  {
   "cell_type": "code",
   "execution_count": 2,
   "metadata": {},
   "outputs": [],
   "source": [
    "import numpy as np\n",
    "import tensorflow as tf\n",
    "import matplotlib.pyplot as plt"
   ]
  },
  {
   "cell_type": "code",
   "execution_count": 4,
   "metadata": {},
   "outputs": [
    {
     "name": "stdout",
     "output_type": "stream",
     "text": [
      "Shapes:  () (4,) (2, 2)\n",
      "Ranks: 0 1 2\n"
     ]
    }
   ],
   "source": [
    "g = tf.Graph()\n",
    "\n",
    "## define the computation graph\n",
    "with g.as_default():\n",
    "    ## defining tensors\n",
    "    t1 = tf.constant(np.pi)\n",
    "    t2 = tf.constant([1, 2, 3, 4])\n",
    "    t3 = tf.constant([[1, 2], [3, 4]])\n",
    "    \n",
    "    ## get their ranks\n",
    "    r1 = tf.rank(t1)\n",
    "    r2 = tf.rank(t2)\n",
    "    r3 = tf.rank(t3)\n",
    "    \n",
    "    ## get their shapes\n",
    "    s1 = t1.get_shape()\n",
    "    s2 = t2.get_shape()\n",
    "    s3 = t3.get_shape()\n",
    "    print('Shapes: ', s1, s2, s3)\n",
    "    \n",
    "with tf.Session(graph = g) as sess:\n",
    "    print('Ranks:',\n",
    "          r1.eval(),\n",
    "          r2.eval(),\n",
    "          r3.eval())"
   ]
  },
  {
   "cell_type": "markdown",
   "metadata": {},
   "source": [
    "## Understanding Tensorflow's computation graph"
   ]
  },
  {
   "cell_type": "code",
   "execution_count": 5,
   "metadata": {},
   "outputs": [
    {
     "name": "stdout",
     "output_type": "stream",
     "text": [
      "2*(a-b) + c =  1\n"
     ]
    }
   ],
   "source": [
    "g = tf.Graph()\n",
    "\n",
    "## adding nodes to the graph\n",
    "with g.as_default():\n",
    "    a = tf.constant(1, name = 'a')\n",
    "    b = tf.constant(2, name = 'b')\n",
    "    c = tf.constant(3, name = 'c')\n",
    "    \n",
    "    z = 2*(a-b) + c\n",
    "    \n",
    "with tf.Session(graph = g) as sess:\n",
    "    print('2*(a-b) + c = ', sess.run(z))"
   ]
  },
  {
   "cell_type": "markdown",
   "metadata": {},
   "source": [
    "## Placeholders in Tensorflow "
   ]
  },
  {
   "cell_type": "code",
   "execution_count": 6,
   "metadata": {},
   "outputs": [],
   "source": [
    "g = tf.Graph()\n",
    "\n",
    "with g.as_default():\n",
    "    tf_a = tf.placeholder(dtype = tf.int32,\n",
    "                          shape = [],\n",
    "                          name = 'tf_a')\n",
    "    tf_b = tf.placeholder(dtype = tf.int32,\n",
    "                          shape = [],\n",
    "                          name = 'tf_b')\n",
    "    tf_c = tf.placeholder(dtype = tf.int32,\n",
    "                          shape = [],\n",
    "                          name = 'tf_c')\n",
    "    \n",
    "    r1 = tf_a-tf_b\n",
    "    r2 = 2*r1\n",
    "    z = r2 + tf_c"
   ]
  },
  {
   "cell_type": "code",
   "execution_count": 8,
   "metadata": {},
   "outputs": [
    {
     "name": "stdout",
     "output_type": "stream",
     "text": [
      "z: 1\n"
     ]
    }
   ],
   "source": [
    "## feeding placeholders with data\n",
    "with tf.Session(graph = g) as sess:\n",
    "    feed = {tf_a: 1,\n",
    "            tf_b: 2,\n",
    "            tf_c: 3}\n",
    "    print('z:', sess.run(z, feed_dict = feed))"
   ]
  },
  {
   "cell_type": "code",
   "execution_count": 9,
   "metadata": {},
   "outputs": [],
   "source": [
    "g = tf.Graph()\n",
    "\n",
    "with g.as_default():\n",
    "    tf_a = tf.placeholder(dtype = tf.float32,\n",
    "                          shape = [None, 2],\n",
    "                          name = 'tf_a')\n",
    "    x_mean = tf.reduce_mean(tf_a, axis = 0, name = 'mean')"
   ]
  },
  {
   "cell_type": "code",
   "execution_count": 10,
   "metadata": {},
   "outputs": [],
   "source": [
    "np.random.seed(123)\n",
    "np.set_printoptions(precision = 2)"
   ]
  },
  {
   "cell_type": "code",
   "execution_count": 11,
   "metadata": {},
   "outputs": [
    {
     "name": "stdout",
     "output_type": "stream",
     "text": [
      "Feeding data with shape: (5, 2)\n",
      "Mean [0.62 0.47]\n",
      "Feeding data with shape: (10, 2)\n",
      "Mean [0.46 0.49]\n"
     ]
    }
   ],
   "source": [
    "with tf.Session(graph = g) as sess:\n",
    "    x = np.random.uniform(low = 0, high = 1,\n",
    "                          size = (5, 2))\n",
    "    print('Feeding data with shape:', x.shape)\n",
    "    print('Mean', sess.run(x_mean, feed_dict = {tf_a: x}))\n",
    "    x = np.random.uniform(low = 0, high = 1,\n",
    "                          size = (10, 2))\n",
    "    print('Feeding data with shape:', x.shape)\n",
    "    print('Mean', sess.run(x_mean, feed_dict = {tf_a: x}))"
   ]
  },
  {
   "cell_type": "code",
   "execution_count": 13,
   "metadata": {},
   "outputs": [
    {
     "name": "stdout",
     "output_type": "stream",
     "text": [
      "Tensor(\"tf_a:0\", shape=(?, 2), dtype=float32)\n"
     ]
    }
   ],
   "source": [
    "print(tf_a)"
   ]
  },
  {
   "cell_type": "markdown",
   "metadata": {},
   "source": [
    "## Variables in Tensorflow"
   ]
  },
  {
   "cell_type": "code",
   "execution_count": 14,
   "metadata": {},
   "outputs": [
    {
     "name": "stdout",
     "output_type": "stream",
     "text": [
      "<tf.Variable 'w:0' shape=(2, 4) dtype=int64_ref>\n"
     ]
    }
   ],
   "source": [
    "g1 = tf.Graph()\n",
    "with g1.as_default():\n",
    "    w = tf.Variable(np.array([[1, 2, 3, 4],\n",
    "                              [5, 6, 7, 8]]), name = 'w')\n",
    "    print(w)"
   ]
  },
  {
   "cell_type": "code",
   "execution_count": 16,
   "metadata": {},
   "outputs": [
    {
     "name": "stdout",
     "output_type": "stream",
     "text": [
      "[[1 2 3 4]\n",
      " [5 6 7 8]]\n"
     ]
    }
   ],
   "source": [
    "with tf.Session(graph = g1) as sess:\n",
    "    sess.run(tf.global_variables_initializer())\n",
    "    print(sess.run(w))"
   ]
  },
  {
   "cell_type": "code",
   "execution_count": 17,
   "metadata": {},
   "outputs": [],
   "source": [
    "g2 = tf.Graph()\n",
    "\n",
    "with g2.as_default():\n",
    "    w1 = tf.Variable(1, name = 'w1')\n",
    "    init_op = tf.global_variables_initializer()\n",
    "    w2 = tf.Variable(2, name = 'w2')"
   ]
  },
  {
   "cell_type": "code",
   "execution_count": 20,
   "metadata": {},
   "outputs": [
    {
     "name": "stdout",
     "output_type": "stream",
     "text": [
      "w1 1\n",
      "Attempting to use uninitialized value w2\n",
      "\t [[Node: _retval_w2_0_0 = _Retval[T=DT_INT32, index=0, _device=\"/job:localhost/replica:0/task:0/device:CPU:0\"](w2)]]\n"
     ]
    }
   ],
   "source": [
    "with tf.Session(graph = g2) as sess:\n",
    "    sess.run(init_op)\n",
    "    try:\n",
    "        print('w1', sess.run(w1))\n",
    "        print('w2', sess.run(w2))\n",
    "    except tf.errors.FailedPreconditionError as e:\n",
    "        print(e)"
   ]
  },
  {
   "cell_type": "code",
   "execution_count": 21,
   "metadata": {},
   "outputs": [
    {
     "name": "stdout",
     "output_type": "stream",
     "text": [
      "<tf.Variable 'net_A/layer1/weights:0' shape=(10, 4) dtype=float32_ref>\n",
      "<tf.Variable 'net_A/layer2/weights:0' shape=(20, 10) dtype=float32_ref>\n",
      "<tf.Variable 'net_B/layer1/weights:0' shape=(10, 4) dtype=float32_ref>\n"
     ]
    }
   ],
   "source": [
    "g = tf.Graph()\n",
    "\n",
    "with g.as_default():\n",
    "    with tf.variable_scope('net_A'):\n",
    "        with tf.variable_scope('layer1'):\n",
    "            w1 = tf.Variable(tf.random_normal(shape = (10, 4)), name = 'weights')\n",
    "        with tf.variable_scope('layer2'):\n",
    "            w2 = tf.Variable(tf.random_normal(shape = (20, 10)), name = 'weights')\n",
    "    with tf.variable_scope('net_B'):\n",
    "        with tf.variable_scope('layer1'):\n",
    "            w3 = tf.Variable(tf.random_normal(shape = (10, 4)), name = 'weights')\n",
    "            \n",
    "    print(w1)\n",
    "    print(w2)\n",
    "    print(w3)"
   ]
  },
  {
   "cell_type": "markdown",
   "metadata": {},
   "source": [
    "### Reusing variables "
   ]
  },
  {
   "cell_type": "code",
   "execution_count": null,
   "metadata": {},
   "outputs": [],
   "source": [
    "########################\n",
    "##  Helper Functions  ##\n",
    "########################\n",
    "\n",
    "def build_classifier(data, labels, n_classes = 2):\n",
    "    data_shape = data.get_shape().as_list()\n",
    "    weights = tf.get_variable(name = 'weights',\n",
    "                              shape = (data_shape[1], n_classes),\n",
    "                              dtype = tf.float32)\n",
    "    bias = tf.get_variable(name = 'bias',\n",
    "                           initializer = tf.zeros(shape = n_classes))\n",
    "    print(weights)\n",
    "    print(bias)\n",
    "    logits = tf.add(tf.matmul(data, weights),\n",
    "                    bias,\n",
    "                    name = 'logits')\n",
    "    print(logits)\n",
    "    return logits, tf.nn.softmax(logits)\n",
    "\n",
    "def build_generator(data, n_hidden):\n",
    "    data_shape = data.get_shape().as_list()\n",
    "    w1 = tf.Variable(tf.random_normal(shape = (data_shape[1], n_hidden)), name = 'w1')\n",
    "    b1 = tf.Variable(tf.zeros(shape = n_hidden), name = 'b1')\n",
    "    hidden = tf.add(tf.matmul(data, w1), b1, name = 'hidden_pre-activation')\n",
    "    hidden = tf.nn.relu(hidden, 'hidden_activation')\n",
    "    \n",
    "    w2 = tf.Variable(tf.random_normal(shape = (n_hidden, data_shape[1])), name = 'w2')\n",
    "    b2 = tf.Variable(tf.zeros(shape = data_shape[1]), name = 'b2')\n",
    "    output = tf.add(tf.matmul(hidden, w2), b1, name = 'output')\n",
    "    \n",
    "    return output, tf.nn.sigmoid(output)\n",
    "\n",
    "########################\n",
    "## Defining the graph ##\n",
    "########################\n",
    "\n",
    "batch_size = 64\n",
    "g = tf.Graph()\n",
    "\n",
    "with g.as_default():\n",
    "    tf_X = tf.placeholder(shape = (batch_size, 100),\n",
    "                          dtype = tf.float32,\n",
    "                          name = 'tf_X')\n",
    "    ## build the generator\n",
    "    with tf.variable_scope('generator'):\n",
    "        gen_out1 = build_generator(data = tf_X, n_hidden = 50)\n",
    "        \n",
    "    "
   ]
  }
 ],
 "metadata": {
  "kernelspec": {
   "display_name": "Python 3",
   "language": "python",
   "name": "python3"
  },
  "language_info": {
   "codemirror_mode": {
    "name": "ipython",
    "version": 3
   },
   "file_extension": ".py",
   "mimetype": "text/x-python",
   "name": "python",
   "nbconvert_exporter": "python",
   "pygments_lexer": "ipython3",
   "version": "3.6.6"
  }
 },
 "nbformat": 4,
 "nbformat_minor": 2
}
