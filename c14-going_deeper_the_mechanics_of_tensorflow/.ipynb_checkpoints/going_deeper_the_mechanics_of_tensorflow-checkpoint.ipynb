{
 "cells": [
  {
   "cell_type": "markdown",
   "metadata": {},
   "source": [
    "# Going Deeper - The Mechanics of Tensorflow "
   ]
  },
  {
   "cell_type": "markdown",
   "metadata": {},
   "source": [
    "## How to get the rank and shape of a tensor "
   ]
  },
  {
   "cell_type": "code",
   "execution_count": 2,
   "metadata": {},
   "outputs": [],
   "source": [
    "import numpy as np\n",
    "import tensorflow as tf\n",
    "import matplotlib.pyplot as plt"
   ]
  },
  {
   "cell_type": "code",
   "execution_count": 4,
   "metadata": {},
   "outputs": [
    {
     "name": "stdout",
     "output_type": "stream",
     "text": [
      "Shapes:  () (4,) (2, 2)\n",
      "Ranks: 0 1 2\n"
     ]
    }
   ],
   "source": [
    "g = tf.Graph()\n",
    "\n",
    "## define the computation graph\n",
    "with g.as_default():\n",
    "    ## defining tensors\n",
    "    t1 = tf.constant(np.pi)\n",
    "    t2 = tf.constant([1, 2, 3, 4])\n",
    "    t3 = tf.constant([[1, 2], [3, 4]])\n",
    "    \n",
    "    ## get their ranks\n",
    "    r1 = tf.rank(t1)\n",
    "    r2 = tf.rank(t2)\n",
    "    r3 = tf.rank(t3)\n",
    "    \n",
    "    ## get their shapes\n",
    "    s1 = t1.get_shape()\n",
    "    s2 = t2.get_shape()\n",
    "    s3 = t3.get_shape()\n",
    "    print('Shapes: ', s1, s2, s3)\n",
    "    \n",
    "with tf.Session(graph = g) as sess:\n",
    "    print('Ranks:',\n",
    "          r1.eval(),\n",
    "          r2.eval(),\n",
    "          r3.eval())"
   ]
  },
  {
   "cell_type": "markdown",
   "metadata": {},
   "source": [
    "## Understanding Tensorflow's computation graph"
   ]
  },
  {
   "cell_type": "code",
   "execution_count": 5,
   "metadata": {},
   "outputs": [
    {
     "name": "stdout",
     "output_type": "stream",
     "text": [
      "2*(a-b) + c =  1\n"
     ]
    }
   ],
   "source": [
    "g = tf.Graph()\n",
    "\n",
    "## adding nodes to the graph\n",
    "with g.as_default():\n",
    "    a = tf.constant(1, name = 'a')\n",
    "    b = tf.constant(2, name = 'b')\n",
    "    c = tf.constant(3, name = 'c')\n",
    "    \n",
    "    z = 2*(a-b) + c\n",
    "    \n",
    "with tf.Session(graph = g) as sess:\n",
    "    print('2*(a-b) + c = ', sess.run(z))"
   ]
  },
  {
   "cell_type": "markdown",
   "metadata": {},
   "source": [
    "## Placeholders in Tensorflow "
   ]
  },
  {
   "cell_type": "code",
   "execution_count": 6,
   "metadata": {},
   "outputs": [],
   "source": [
    "g = tf.Graph()\n",
    "\n",
    "with g.as_default():\n",
    "    tf_a = tf.placeholder(dtype = tf.int32,\n",
    "                          shape = [],\n",
    "                          name = 'tf_a')\n",
    "    tf_b = tf.placeholder(dtype = tf.int32,\n",
    "                          shape = [],\n",
    "                          name = 'tf_b')\n",
    "    tf_c = tf.placeholder(dtype = tf.int32,\n",
    "                          shape = [],\n",
    "                          name = 'tf_c')\n",
    "    \n",
    "    r1 = tf_a-tf_b\n",
    "    r2 = 2*r1\n",
    "    z = r2 + tf_c"
   ]
  },
  {
   "cell_type": "code",
   "execution_count": 8,
   "metadata": {},
   "outputs": [
    {
     "name": "stdout",
     "output_type": "stream",
     "text": [
      "z: 1\n"
     ]
    }
   ],
   "source": [
    "## feeding placeholders with data\n",
    "with tf.Session(graph = g) as sess:\n",
    "    feed = {tf_a: 1,\n",
    "            tf_b: 2,\n",
    "            tf_c: 3}\n",
    "    print('z:', sess.run(z, feed_dict = feed))"
   ]
  },
  {
   "cell_type": "code",
   "execution_count": 9,
   "metadata": {},
   "outputs": [],
   "source": [
    "g = tf.Graph()\n",
    "\n",
    "with g.as_default():\n",
    "    tf_a = tf.placeholder(dtype = tf.float32,\n",
    "                          shape = [None, 2],\n",
    "                          name = 'tf_a')\n",
    "    x_mean = tf.reduce_mean(tf_a, axis = 0, name = 'mean')"
   ]
  },
  {
   "cell_type": "code",
   "execution_count": 10,
   "metadata": {},
   "outputs": [],
   "source": [
    "np.random.seed(123)\n",
    "np.set_printoptions(precision = 2)"
   ]
  },
  {
   "cell_type": "code",
   "execution_count": 11,
   "metadata": {},
   "outputs": [
    {
     "name": "stdout",
     "output_type": "stream",
     "text": [
      "Feeding data with shape: (5, 2)\n",
      "Mean [0.62 0.47]\n",
      "Feeding data with shape: (10, 2)\n",
      "Mean [0.46 0.49]\n"
     ]
    }
   ],
   "source": [
    "with tf.Session(graph = g) as sess:\n",
    "    x = np.random.uniform(low = 0, high = 1,\n",
    "                          size = (5, 2))\n",
    "    print('Feeding data with shape:', x.shape)\n",
    "    print('Mean', sess.run(x_mean, feed_dict = {tf_a: x}))\n",
    "    x = np.random.uniform(low = 0, high = 1,\n",
    "                          size = (10, 2))\n",
    "    print('Feeding data with shape:', x.shape)\n",
    "    print('Mean', sess.run(x_mean, feed_dict = {tf_a: x}))"
   ]
  },
  {
   "cell_type": "code",
   "execution_count": 13,
   "metadata": {},
   "outputs": [
    {
     "name": "stdout",
     "output_type": "stream",
     "text": [
      "Tensor(\"tf_a:0\", shape=(?, 2), dtype=float32)\n"
     ]
    }
   ],
   "source": [
    "print(tf_a)"
   ]
  },
  {
   "cell_type": "markdown",
   "metadata": {},
   "source": [
    "## Variables in Tensorflow"
   ]
  },
  {
   "cell_type": "code",
   "execution_count": 14,
   "metadata": {},
   "outputs": [
    {
     "name": "stdout",
     "output_type": "stream",
     "text": [
      "<tf.Variable 'w:0' shape=(2, 4) dtype=int64_ref>\n"
     ]
    }
   ],
   "source": [
    "g1 = tf.Graph()\n",
    "with g1.as_default():\n",
    "    w = tf.Variable(np.array([[1, 2, 3, 4],\n",
    "                              [5, 6, 7, 8]]), name = 'w')\n",
    "    print(w)"
   ]
  },
  {
   "cell_type": "code",
   "execution_count": 16,
   "metadata": {},
   "outputs": [
    {
     "name": "stdout",
     "output_type": "stream",
     "text": [
      "[[1 2 3 4]\n",
      " [5 6 7 8]]\n"
     ]
    }
   ],
   "source": [
    "with tf.Session(graph = g1) as sess:\n",
    "    sess.run(tf.global_variables_initializer())\n",
    "    print(sess.run(w))"
   ]
  },
  {
   "cell_type": "code",
   "execution_count": 17,
   "metadata": {},
   "outputs": [],
   "source": [
    "g2 = tf.Graph()\n",
    "\n",
    "with g2.as_default():\n",
    "    w1 = tf.Variable(1, name = 'w1')\n",
    "    init_op = tf.global_variables_initializer()\n",
    "    w2 = tf.Variable(2, name = 'w2')"
   ]
  },
  {
   "cell_type": "code",
   "execution_count": 20,
   "metadata": {},
   "outputs": [
    {
     "name": "stdout",
     "output_type": "stream",
     "text": [
      "w1 1\n",
      "Attempting to use uninitialized value w2\n",
      "\t [[Node: _retval_w2_0_0 = _Retval[T=DT_INT32, index=0, _device=\"/job:localhost/replica:0/task:0/device:CPU:0\"](w2)]]\n"
     ]
    }
   ],
   "source": [
    "with tf.Session(graph = g2) as sess:\n",
    "    sess.run(init_op)\n",
    "    try:\n",
    "        print('w1', sess.run(w1))\n",
    "        print('w2', sess.run(w2))\n",
    "    except tf.errors.FailedPreconditionError as e:\n",
    "        print(e)"
   ]
  },
  {
   "cell_type": "code",
   "execution_count": 21,
   "metadata": {},
   "outputs": [
    {
     "name": "stdout",
     "output_type": "stream",
     "text": [
      "<tf.Variable 'net_A/layer1/weights:0' shape=(10, 4) dtype=float32_ref>\n",
      "<tf.Variable 'net_A/layer2/weights:0' shape=(20, 10) dtype=float32_ref>\n",
      "<tf.Variable 'net_B/layer1/weights:0' shape=(10, 4) dtype=float32_ref>\n"
     ]
    }
   ],
   "source": [
    "g = tf.Graph()\n",
    "\n",
    "with g.as_default():\n",
    "    with tf.variable_scope('net_A'):\n",
    "        with tf.variable_scope('layer1'):\n",
    "            w1 = tf.Variable(tf.random_normal(shape = (10, 4)), name = 'weights')\n",
    "        with tf.variable_scope('layer2'):\n",
    "            w2 = tf.Variable(tf.random_normal(shape = (20, 10)), name = 'weights')\n",
    "    with tf.variable_scope('net_B'):\n",
    "        with tf.variable_scope('layer1'):\n",
    "            w3 = tf.Variable(tf.random_normal(shape = (10, 4)), name = 'weights')\n",
    "            \n",
    "    print(w1)\n",
    "    print(w2)\n",
    "    print(w3)"
   ]
  },
  {
   "cell_type": "markdown",
   "metadata": {},
   "source": [
    "### Reusing variables "
   ]
  },
  {
   "cell_type": "code",
   "execution_count": 23,
   "metadata": {},
   "outputs": [
    {
     "name": "stdout",
     "output_type": "stream",
     "text": [
      "<tf.Variable 'classifier/weights:0' shape=(100, 2) dtype=float32_ref>\n",
      "<tf.Variable 'classifier/bias:0' shape=(2,) dtype=float32_ref>\n",
      "Tensor(\"classifier/logits:0\", shape=(64, 2), dtype=float32)\n",
      "<tf.Variable 'classifier/weights:0' shape=(100, 2) dtype=float32_ref>\n",
      "<tf.Variable 'classifier/bias:0' shape=(2,) dtype=float32_ref>\n",
      "Tensor(\"classifier/logits_1:0\", shape=(64, 2), dtype=float32)\n"
     ]
    }
   ],
   "source": [
    "######################\n",
    "## Helper functions ##\n",
    "######################\n",
    "\n",
    "def build_classifier(data, labels, n_classes=2):\n",
    "    data_shape = data.get_shape().as_list()\n",
    "    weights = tf.get_variable(name='weights',\n",
    "                              shape=(data_shape[1], n_classes),\n",
    "                              dtype=tf.float32)\n",
    "    bias = tf.get_variable(name='bias', \n",
    "                           initializer=tf.zeros(shape=n_classes))\n",
    "    print(weights)\n",
    "    print(bias)\n",
    "    logits = tf.add(tf.matmul(data, weights), \n",
    "                    bias, \n",
    "                    name='logits')\n",
    "    print(logits)\n",
    "    return logits, tf.nn.softmax(logits)\n",
    "\n",
    "def build_generator(data, n_hidden):\n",
    "    data_shape = data.get_shape().as_list()\n",
    "    w1 = tf.Variable(\n",
    "        tf.random_normal(shape=(data_shape[1], \n",
    "                                n_hidden)),\n",
    "        name='w1')\n",
    "    b1 = tf.Variable(tf.zeros(shape=n_hidden),\n",
    "                     name='b1')\n",
    "    hidden = tf.add(tf.matmul(data, w1), b1, \n",
    "                    name='hidden_pre-activation')\n",
    "    hidden = tf.nn.relu(hidden, 'hidden_activation')\n",
    "        \n",
    "    w2 = tf.Variable(\n",
    "        tf.random_normal(shape=(n_hidden, \n",
    "                                data_shape[1])),\n",
    "        name='w2')\n",
    "    b2 = tf.Variable(tf.zeros(shape=data_shape[1]),\n",
    "                     name='b2')\n",
    "    output = tf.add(tf.matmul(hidden, w2), b2, \n",
    "                    name = 'output')\n",
    "    return output, tf.nn.sigmoid(output)\n",
    "    \n",
    "########################\n",
    "## Defining the graph ##\n",
    "########################\n",
    "\n",
    "batch_size=64\n",
    "g = tf.Graph()\n",
    "\n",
    "with g.as_default():\n",
    "    tf_X = tf.placeholder(shape=(batch_size, 100), \n",
    "                          dtype=tf.float32,\n",
    "                          name='tf_X')\n",
    "    ## build the generator\n",
    "    with tf.variable_scope('generator'):\n",
    "        gen_out1 = build_generator(data=tf_X, \n",
    "                                   n_hidden=50)\n",
    "    \n",
    "    ## build the classifier\n",
    "    with tf.variable_scope('classifier') as scope:\n",
    "        ## classifier for the original data:\n",
    "        cls_out1 = build_classifier(data=tf_X, \n",
    "                                    labels=tf.ones(\n",
    "                                        shape=batch_size))\n",
    "        \n",
    "        ## reuse the classifier for generated data\n",
    "        scope.reuse_variables()\n",
    "        cls_out2 = build_classifier(data=gen_out1[1],\n",
    "                                    labels=tf.zeros(\n",
    "                                        shape=batch_size))\n",
    "        \n",
    "        init_op = tf.global_variables_initializer()"
   ]
  },
  {
   "cell_type": "code",
   "execution_count": 24,
   "metadata": {},
   "outputs": [
    {
     "name": "stdout",
     "output_type": "stream",
     "text": [
      "<tf.Variable 'classifier/weights:0' shape=(100, 2) dtype=float32_ref>\n",
      "<tf.Variable 'classifier/bias:0' shape=(2,) dtype=float32_ref>\n",
      "Tensor(\"classifier/logits:0\", shape=(64, 2), dtype=float32)\n",
      "<tf.Variable 'classifier/weights:0' shape=(100, 2) dtype=float32_ref>\n",
      "<tf.Variable 'classifier/bias:0' shape=(2,) dtype=float32_ref>\n",
      "Tensor(\"classifier_1/logits:0\", shape=(64, 2), dtype=float32)\n"
     ]
    }
   ],
   "source": [
    "## alternative way\n",
    "\n",
    "g = tf.Graph()\n",
    "\n",
    "with g.as_default():\n",
    "    tf_X = tf.placeholder(shape=(batch_size, 100), \n",
    "                          dtype=tf.float32,\n",
    "                          name='tf_X')\n",
    "    ## build the generator\n",
    "    with tf.variable_scope('generator'):\n",
    "        gen_out1 = build_generator(data=tf_X, \n",
    "                                   n_hidden=50)\n",
    "    \n",
    "    ## build the classifier\n",
    "    with tf.variable_scope('classifier'):\n",
    "        ## classifier for the original data:\n",
    "        cls_out1 = build_classifier(data=tf_X, \n",
    "                                    labels=tf.ones(\n",
    "                                        shape=batch_size))\n",
    "        \n",
    "    with tf.variable_scope('classifier', reuse=True):\n",
    "        ## reuse the classifier for generated data\n",
    "        cls_out2 = build_classifier(data=gen_out1[1],\n",
    "                                    labels=tf.zeros(\n",
    "                                        shape=batch_size))\n",
    "        \n",
    "        init_op = tf.global_variables_initializer()"
   ]
  },
  {
   "cell_type": "markdown",
   "metadata": {},
   "source": [
    "## Building a regression model "
   ]
  },
  {
   "cell_type": "code",
   "execution_count": 29,
   "metadata": {},
   "outputs": [
    {
     "name": "stdout",
     "output_type": "stream",
     "text": [
      "Tensor(\"y_hat:0\", dtype=float32)\n",
      "Tensor(\"cost:0\", shape=(), dtype=float32)\n"
     ]
    }
   ],
   "source": [
    "g = tf.Graph()\n",
    "\n",
    "with g.as_default():\n",
    "    tf.set_random_seed(123)\n",
    "    ## placeholders\n",
    "    tf_x = tf.placeholder(dtype = tf.float32,\n",
    "                          shape = (None),\n",
    "                          name = 'tf_x')\n",
    "    tf_y = tf.placeholder(dtype = tf.float32,\n",
    "                          shape = (None),\n",
    "                          name = 'tf_y')\n",
    "    \n",
    "    ## define variables (model parameters)\n",
    "    weight = tf.Variable(tf.random_normal(shape = (1, 1),\n",
    "                                          stddev = 0.25),\n",
    "                         name = 'weight')\n",
    "    bias = tf.Variable(0.0, name = 'bias')\n",
    "    \n",
    "    ## build the model\n",
    "    y_hat = tf.add(weight*tf_x, bias, name = 'y_hat')\n",
    "    print(y_hat)\n",
    "    \n",
    "    ## compute the cost\n",
    "    cost = tf.reduce_mean(tf.square(tf_y - y_hat), name = 'cost')\n",
    "    print(cost)\n",
    "    \n",
    "    ## train\n",
    "    optim = tf.train.GradientDescentOptimizer(learning_rate = 0.001)\n",
    "    train_op = optim.minimize(cost, name = 'train_op')"
   ]
  },
  {
   "cell_type": "code",
   "execution_count": 28,
   "metadata": {},
   "outputs": [
    {
     "data": {
      "image/png": "[encoded data removed]",
      "text/plain": [
       "<Figure size 432x288 with 1 Axes>"
      ]
     },
     "metadata": {},
     "output_type": "display_data"
    }
   ],
   "source": [
    "## create a random toy dataset for regression\n",
    "np.random.seed(0)\n",
    "\n",
    "def make_random_data():\n",
    "    x = np.random.uniform(low=-2, high=4, size=200)\n",
    "    y = []\n",
    "    for t in x:\n",
    "        r = np.random.normal(loc=0.0, \n",
    "                             scale=(0.5 + t*t/3), \n",
    "                             size=None)\n",
    "        y.append(r)\n",
    "    return  x, 1.726*x -0.84 + np.array(y)\n",
    "\n",
    "\n",
    "x, y = make_random_data() \n",
    "\n",
    "plt.plot(x, y, 'o')\n",
    "plt.show()"
   ]
  },
  {
   "cell_type": "code",
   "execution_count": 30,
   "metadata": {},
   "outputs": [],
   "source": [
    "## train/test splits:\n",
    "x_train, y_train = x[:100], y[:100]\n",
    "x_test, y_test = x[100:], y[100:]"
   ]
  },
  {
   "cell_type": "code",
   "execution_count": 31,
   "metadata": {},
   "outputs": [
    {
     "name": "stdout",
     "output_type": "stream",
     "text": [
      "Epoch    0: 12.2230\n",
      "Epoch   50: 8.3876\n",
      "Epoch  100: 6.5721\n",
      "Epoch  150: 5.6844\n",
      "Epoch  200: 5.2269\n",
      "Epoch  250: 4.9725\n",
      "Epoch  300: 4.8169\n",
      "Epoch  350: 4.7119\n",
      "Epoch  400: 4.6347\n",
      "Epoch  450: 4.5742\n"
     ]
    },
    {
     "data": {
      "text/plain": [
       "[<matplotlib.lines.Line2D at 0xb2cb138d0>]"
      ]
     },
     "execution_count": 31,
     "metadata": {},
     "output_type": "execute_result"
    },
    {
     "data": {
      "image/png": "[encoded data removed]",
      "text/plain": [
       "<Figure size 432x288 with 1 Axes>"
      ]
     },
     "metadata": {},
     "output_type": "display_data"
    }
   ],
   "source": [
    "## training the model\n",
    "n_epochs = 500\n",
    "training_costs = []\n",
    "with tf.Session(graph=g) as sess:\n",
    "    ## first, run the variables initializer\n",
    "    sess.run(tf.global_variables_initializer())\n",
    "    \n",
    "    ## train the model for n_epochs\n",
    "    for e in range(n_epochs):\n",
    "        c, _ = sess.run([cost, train_op], \n",
    "                        feed_dict={tf_x: x_train,\n",
    "                                   tf_y: y_train})\n",
    "        training_costs.append(c)\n",
    "        if not e % 50:\n",
    "            print('Epoch %4d: %.4f' % (e, c))\n",
    "            \n",
    "\n",
    "plt.plot(training_costs)"
   ]
  },
  {
   "cell_type": "code",
   "execution_count": 32,
   "metadata": {},
   "outputs": [
    {
     "name": "stdout",
     "output_type": "stream",
     "text": [
      "Epoch    0: 12.2230\n",
      "Epoch   50: 8.3876\n",
      "Epoch  100: 6.5721\n",
      "Epoch  150: 5.6844\n",
      "Epoch  200: 5.2269\n",
      "Epoch  250: 4.9725\n",
      "Epoch  300: 4.8169\n",
      "Epoch  350: 4.7119\n",
      "Epoch  400: 4.6347\n",
      "Epoch  450: 4.5742\n"
     ]
    }
   ],
   "source": [
    "## training the model\n",
    "n_epochs = 500\n",
    "training_costs = []\n",
    "with tf.Session(graph=g) as sess:\n",
    "    ## first, run the variables initializer\n",
    "    sess.run(tf.global_variables_initializer())\n",
    "    \n",
    "    ## train the model for n_eopchs\n",
    "    for e in range(n_epochs):\n",
    "        c, _ = sess.run(['cost:0', 'train_op'], \n",
    "                        feed_dict={'tf_x:0': x_train,\n",
    "                                   'tf_y:0': y_train})\n",
    "        training_costs.append(c)\n",
    "        if not e % 50:\n",
    "            print('Epoch %4d: %.4f' % (e, c))"
   ]
  },
  {
   "cell_type": "markdown",
   "metadata": {},
   "source": [
    "## Saving and restoring a model in Tensorflow "
   ]
  },
  {
   "cell_type": "code",
   "execution_count": 33,
   "metadata": {},
   "outputs": [
    {
     "name": "stdout",
     "output_type": "stream",
     "text": [
      "Epoch    0: 12.2230\n",
      "Epoch   50: 8.3876\n",
      "Epoch  100: 6.5721\n",
      "Epoch  150: 5.6844\n",
      "Epoch  200: 5.2269\n",
      "Epoch  250: 4.9725\n",
      "Epoch  300: 4.8169\n",
      "Epoch  350: 4.7119\n",
      "Epoch  400: 4.6347\n",
      "Epoch  450: 4.5742\n"
     ]
    }
   ],
   "source": [
    "## add saver to the graph\n",
    "with g.as_default():\n",
    "    saver = tf.train.Saver()\n",
    "    \n",
    "## training the model\n",
    "n_epochs = 500\n",
    "training_costs = []\n",
    "\n",
    "with tf.Session(graph=g) as sess:\n",
    "    ## first, run the variables initializer\n",
    "    sess.run(tf.global_variables_initializer())\n",
    "    \n",
    "    ## train the model for n_epochs\n",
    "    for e in range(n_epochs):\n",
    "        c, _ = sess.run(['cost:0', 'train_op'], \n",
    "                        feed_dict={'tf_x:0':x_train,\n",
    "                                   'tf_y:0':y_train})\n",
    "        training_costs.append(c)\n",
    "        if not e % 50:\n",
    "            print('Epoch %4d: %.4f' % (e, c))\n",
    "            \n",
    "    saver.save(sess, './trained-model')"
   ]
  },
  {
   "cell_type": "code",
   "execution_count": 34,
   "metadata": {},
   "outputs": [
    {
     "name": "stdout",
     "output_type": "stream",
     "text": [
      "INFO:tensorflow:Restoring parameters from ./trained-model\n"
     ]
    }
   ],
   "source": [
    "g2 = tf.Graph()\n",
    "\n",
    "with tf.Session(graph = g2) as sess:\n",
    "    new_saver = tf.train.import_meta_graph('./trained-model.meta')\n",
    "    new_saver.restore(sess, './trained-model')\n",
    "    \n",
    "    y_pred = sess.run('y_hat:0', \n",
    "                      feed_dict={'tf_x:0' : x_test})"
   ]
  },
  {
   "cell_type": "code",
   "execution_count": 35,
   "metadata": {},
   "outputs": [
    {
     "name": "stdout",
     "output_type": "stream",
     "text": [
      "SSE: 538.8118\n"
     ]
    }
   ],
   "source": [
    "print('SSE: %.4f' % (np.sum(np.square(y_pred - y_test))))"
   ]
  },
  {
   "cell_type": "code",
   "execution_count": 36,
   "metadata": {},
   "outputs": [
    {
     "name": "stdout",
     "output_type": "stream",
     "text": [
      "INFO:tensorflow:Restoring parameters from ./trained-model\n"
     ]
    },
    {
     "data": {
      "image/png": "[encoded data removed]",
      "text/plain": [
       "<Figure size 432x288 with 1 Axes>"
      ]
     },
     "metadata": {},
     "output_type": "display_data"
    }
   ],
   "source": [
    "x_arr = np.arange(-2, 4, 0.1)\n",
    "\n",
    "g2 = tf.Graph()\n",
    "with tf.Session(graph=g2) as sess:\n",
    "    new_saver = tf.train.import_meta_graph(\n",
    "        './trained-model.meta')\n",
    "    new_saver.restore(sess, './trained-model')\n",
    "    \n",
    "    y_arr = sess.run('y_hat:0', \n",
    "                      feed_dict={'tf_x:0' : x_arr})\n",
    "\n",
    "plt.figure()\n",
    "plt.plot(x_train, y_train, 'bo')\n",
    "plt.plot(x_test, y_test, 'bo', alpha=0.3)\n",
    "plt.plot(x_arr, y_arr.T[:, 0], '-r', lw=3)\n",
    "plt.show()"
   ]
  },
  {
   "cell_type": "code",
   "execution_count": null,
   "metadata": {},
   "outputs": [],
   "source": []
  }
 ],
 "metadata": {
  "kernelspec": {
   "display_name": "Python 3",
   "language": "python",
   "name": "python3"
  },
  "language_info": {
   "codemirror_mode": {
    "name": "ipython",
    "version": 3
   },
   "file_extension": ".py",
   "mimetype": "text/x-python",
   "name": "python",
   "nbconvert_exporter": "python",
   "pygments_lexer": "ipython3",
   "version": "3.6.6"
  }
 },
 "nbformat": 4,
 "nbformat_minor": 2
}
