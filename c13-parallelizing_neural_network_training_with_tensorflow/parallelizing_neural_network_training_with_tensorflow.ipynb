{
 "cells": [
  {
   "cell_type": "markdown",
   "metadata": {},
   "source": [
    "# Parallelizing Neural Network Training with Tensorflow "
   ]
  },
  {
   "cell_type": "code",
   "execution_count": 4,
   "metadata": {},
   "outputs": [],
   "source": [
    "import tensorflow as tf\n",
    "import numpy as np"
   ]
  },
  {
   "cell_type": "code",
   "execution_count": 2,
   "metadata": {},
   "outputs": [
    {
     "name": "stdout",
     "output_type": "stream",
     "text": [
      "x =  1.0 ==> z =  2.7\n",
      "x =  0.6 ==> z =  1.9\n",
      "x = -1.8 ==> z = -2.9\n"
     ]
    }
   ],
   "source": [
    "# Create a graph\n",
    "g = tf.Graph()\n",
    "with g.as_default():\n",
    "    x = tf.placeholder(dtype = tf.float32,\n",
    "                       shape = (None), name = 'x')\n",
    "    w = tf.Variable(2.0, name = 'weight')\n",
    "    b = tf.Variable(0.7, name = 'bias')\n",
    "    \n",
    "    z = w*x + b\n",
    "    init = tf.global_variables_initializer()\n",
    "\n",
    "# Create a session and pass in graph g\n",
    "with tf.Session(graph = g) as sess:\n",
    "    # Initialize w and b\n",
    "    sess.run(init)\n",
    "    # Evaluate z\n",
    "    for t in [1.0, 0.6, -1.8]:\n",
    "        print('x = %4.1f ==> z = %4.1f' % (t, sess.run(z, feed_dict = {x:t})))"
   ]
  },
  {
   "cell_type": "code",
   "execution_count": 3,
   "metadata": {},
   "outputs": [
    {
     "name": "stdout",
     "output_type": "stream",
     "text": [
      "[2.7 4.7 6.7]\n"
     ]
    }
   ],
   "source": [
    "with tf.Session(graph = g) as sess:\n",
    "    sess.run(init)\n",
    "    print(sess.run(z, feed_dict = {x:[1., 2., 3.]}))"
   ]
  },
  {
   "cell_type": "markdown",
   "metadata": {},
   "source": [
    "## Working with array structures "
   ]
  },
  {
   "cell_type": "code",
   "execution_count": 7,
   "metadata": {},
   "outputs": [
    {
     "name": "stdout",
     "output_type": "stream",
     "text": [
      "Input shape:  (3, 2, 3)\n",
      "Reshaped:\n",
      " [[ 0.  1.  2.  3.  4.  5.]\n",
      " [ 6.  7.  8.  9. 10. 11.]\n",
      " [12. 13. 14. 15. 16. 17.]]\n",
      "Column sum:  [18. 21. 24. 27. 30. 33.]\n",
      "Column mean:  [ 6.  7.  8.  9. 10. 11.]\n"
     ]
    }
   ],
   "source": [
    "g = tf.Graph()\n",
    "with g.as_default():\n",
    "    x = tf.placeholder(dtype = tf.float32,\n",
    "                       shape = (None, 2, 3), name = 'input_x')\n",
    "    x2 = tf.reshape(x, shape = (-1, 6),\n",
    "                    name = 'x2')\n",
    "    \n",
    "    ## Calculate the sum of each column\n",
    "    xsum = tf.reduce_sum(x2, axis = 0, name = 'col_sum')\n",
    "    \n",
    "    ## Calculate mean of each column\n",
    "    xmean = tf.reduce_mean(x2, axis = 0, name = 'col_mean')\n",
    "    \n",
    "# Create a session and pass graph to it\n",
    "with tf.Session(graph = g) as sess:\n",
    "    x_array = np.arange(18).reshape(3, 2, 3)\n",
    "    \n",
    "    print('Input shape: ', x_array.shape)\n",
    "    print('Reshaped:\\n', sess.run(x2, feed_dict = {x:x_array}))\n",
    "    print('Column sum: ', sess.run(xsum, feed_dict = {x:x_array}))\n",
    "    print('Column mean: ', sess.run(xmean, feed_dict = {x:x_array}))"
   ]
  },
  {
   "cell_type": "markdown",
   "metadata": {},
   "source": [
    "## Developing a simple model with low level tensorflow API "
   ]
  },
  {
   "cell_type": "code",
   "execution_count": null,
   "metadata": {},
   "outputs": [],
   "source": []
  }
 ],
 "metadata": {
  "kernelspec": {
   "display_name": "Python 3",
   "language": "python",
   "name": "python3"
  },
  "language_info": {
   "codemirror_mode": {
    "name": "ipython",
    "version": 3
   },
   "file_extension": ".py",
   "mimetype": "text/x-python",
   "name": "python",
   "nbconvert_exporter": "python",
   "pygments_lexer": "ipython3",
   "version": "3.6.6"
  }
 },
 "nbformat": 4,
 "nbformat_minor": 2
}
