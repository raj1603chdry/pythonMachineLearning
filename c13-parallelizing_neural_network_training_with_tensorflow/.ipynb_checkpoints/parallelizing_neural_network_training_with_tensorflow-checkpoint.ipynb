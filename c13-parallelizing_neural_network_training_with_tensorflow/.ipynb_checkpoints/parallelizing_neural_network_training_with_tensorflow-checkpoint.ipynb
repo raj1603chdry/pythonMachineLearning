{
 "cells": [
  {
   "cell_type": "markdown",
   "metadata": {},
   "source": [
    "# Parallelizing Neural Network Training with Tensorflow "
   ]
  },
  {
   "cell_type": "code",
   "execution_count": 13,
   "metadata": {},
   "outputs": [],
   "source": [
    "import tensorflow as tf\n",
    "import numpy as np"
   ]
  },
  {
   "cell_type": "code",
   "execution_count": 2,
   "metadata": {},
   "outputs": [
    {
     "name": "stdout",
     "output_type": "stream",
     "text": [
      "x =  1.0 ==> z =  2.7\n",
      "x =  0.6 ==> z =  1.9\n",
      "x = -1.8 ==> z = -2.9\n"
     ]
    }
   ],
   "source": [
    "# Create a graph\n",
    "g = tf.Graph()\n",
    "with g.as_default():\n",
    "    x = tf.placeholder(dtype = tf.float32,\n",
    "                       shape = (None), name = 'x')\n",
    "    w = tf.Variable(2.0, name = 'weight')\n",
    "    b = tf.Variable(0.7, name = 'bias')\n",
    "    \n",
    "    z = w*x + b\n",
    "    init = tf.global_variables_initializer()\n",
    "\n",
    "# Create a session and pass in graph g\n",
    "with tf.Session(graph = g) as sess:\n",
    "    # Initialize w and b\n",
    "    sess.run(init)\n",
    "    # Evaluate z\n",
    "    for t in [1.0, 0.6, -1.8]:\n",
    "        print('x = %4.1f ==> z = %4.1f' % (t, sess.run(z, feed_dict = {x:t})))"
   ]
  },
  {
   "cell_type": "code",
   "execution_count": 3,
   "metadata": {},
   "outputs": [
    {
     "name": "stdout",
     "output_type": "stream",
     "text": [
      "[2.7 4.7 6.7]\n"
     ]
    }
   ],
   "source": [
    "with tf.Session(graph = g) as sess:\n",
    "    sess.run(init)\n",
    "    print(sess.run(z, feed_dict = {x:[1., 2., 3.]}))"
   ]
  },
  {
   "cell_type": "markdown",
   "metadata": {},
   "source": [
    "## Working with array structures "
   ]
  },
  {
   "cell_type": "code",
   "execution_count": 4,
   "metadata": {},
   "outputs": [
    {
     "name": "stdout",
     "output_type": "stream",
     "text": [
      "Input shape:  (3, 2, 3)\n",
      "Reshaped:\n",
      " [[ 0.  1.  2.  3.  4.  5.]\n",
      " [ 6.  7.  8.  9. 10. 11.]\n",
      " [12. 13. 14. 15. 16. 17.]]\n",
      "Column sum:  [18. 21. 24. 27. 30. 33.]\n",
      "Column mean:  [ 6.  7.  8.  9. 10. 11.]\n"
     ]
    }
   ],
   "source": [
    "g = tf.Graph()\n",
    "with g.as_default():\n",
    "    x = tf.placeholder(dtype = tf.float32,\n",
    "                       shape = (None, 2, 3), name = 'input_x')\n",
    "    x2 = tf.reshape(x, shape = (-1, 6),\n",
    "                    name = 'x2')\n",
    "    \n",
    "    ## Calculate the sum of each column\n",
    "    xsum = tf.reduce_sum(x2, axis = 0, name = 'col_sum')\n",
    "    \n",
    "    ## Calculate mean of each column\n",
    "    xmean = tf.reduce_mean(x2, axis = 0, name = 'col_mean')\n",
    "    \n",
    "# Create a session and pass graph to it\n",
    "with tf.Session(graph = g) as sess:\n",
    "    x_array = np.arange(18).reshape(3, 2, 3)\n",
    "    \n",
    "    print('Input shape: ', x_array.shape)\n",
    "    print('Reshaped:\\n', sess.run(x2, feed_dict = {x:x_array}))\n",
    "    print('Column sum: ', sess.run(xsum, feed_dict = {x:x_array}))\n",
    "    print('Column mean: ', sess.run(xmean, feed_dict = {x:x_array}))"
   ]
  },
  {
   "cell_type": "markdown",
   "metadata": {},
   "source": [
    "## Developing a simple model with low level tensorflow API "
   ]
  },
  {
   "cell_type": "code",
   "execution_count": 5,
   "metadata": {},
   "outputs": [],
   "source": [
    "X_train = np.arange(10).reshape((10, 1))\n",
    "y_train = np.array([1.0, 1.3, 3.1,\n",
    "                    2.0, 5.0, 6.3, \n",
    "                    6.6, 7.4, 8.0, \n",
    "                    9.0])"
   ]
  },
  {
   "cell_type": "code",
   "execution_count": 6,
   "metadata": {},
   "outputs": [],
   "source": [
    "class TfLinreg(object):\n",
    "    def __init__(self, x_dim, learning_rate = 0.01, random_seed = None):\n",
    "        self.x_dim = x_dim\n",
    "        self.learning_rate = learning_rate\n",
    "        self.g = tf.Graph()\n",
    "        ## Build the model\n",
    "        with self.g.as_default():\n",
    "            ## set graph-level random seed\n",
    "            tf.set_random_seed(random_seed)\n",
    "            \n",
    "            self.build()\n",
    "            ## create initializer\n",
    "            self.init_op = tf.global_variables_initializer()\n",
    "            \n",
    "    def build(self):\n",
    "        ## define placeholders for input\n",
    "        self.X = tf.placeholder(dtype = tf.float32,\n",
    "                                shape = (None, self.x_dim),\n",
    "                                name = 'x_input')\n",
    "        self.y = tf.placeholder(dtype = tf.float32,\n",
    "                                shape = (None),\n",
    "                                name = 'y_input')\n",
    "        print(self.X)\n",
    "        print(self.y)\n",
    "        ## define weight matrix and bias vector\n",
    "        w = tf.Variable(tf.zeros(shape = (1)),\n",
    "                        name = 'weight')\n",
    "        b = tf.Variable(tf.zeros(shape = (1)),\n",
    "                        name = 'bias')\n",
    "        print(w)\n",
    "        print(b)\n",
    "        self.z_net = tf.squeeze(w*self.X + b,\n",
    "                                name = 'z_net')\n",
    "        print(self.z_net)\n",
    "        \n",
    "        sqr_errors = tf.square(self.y - self.z_net,\n",
    "                               name = 'sqr_errors')\n",
    "        print(sqr_errors)\n",
    "        self.mean_cost = tf.reduce_mean(sqr_errors,\n",
    "                                        name = 'mean_cost')\n",
    "        \n",
    "        optimizer = tf.train.GradientDescentOptimizer(\n",
    "                    learning_rate = self.learning_rate,\n",
    "                    name = 'GradientDescent')\n",
    "        self.optimizer = optimizer.minimize(self.mean_cost)"
   ]
  },
  {
   "cell_type": "code",
   "execution_count": 7,
   "metadata": {},
   "outputs": [
    {
     "name": "stdout",
     "output_type": "stream",
     "text": [
      "Tensor(\"x_input:0\", shape=(?, 1), dtype=float32)\n",
      "Tensor(\"y_input:0\", dtype=float32)\n",
      "<tf.Variable 'weight:0' shape=(1,) dtype=float32_ref>\n",
      "<tf.Variable 'bias:0' shape=(1,) dtype=float32_ref>\n",
      "Tensor(\"z_net:0\", dtype=float32)\n",
      "Tensor(\"sqr_errors:0\", dtype=float32)\n"
     ]
    }
   ],
   "source": [
    "lrmodel = TfLinreg(x_dim = X_train.shape[1], learning_rate = 0.01)"
   ]
  },
  {
   "cell_type": "code",
   "execution_count": 8,
   "metadata": {},
   "outputs": [],
   "source": [
    "def train_linreg(sess, model, X_train, y_train, num_epochs = 10):\n",
    "    ## initialize the variables w and b\n",
    "    sess.run(model.init_op)\n",
    "    \n",
    "    training_costs = []\n",
    "    for i in range(num_epochs):\n",
    "        _, cost = sess.run([model.optimizer, model.mean_cost],\n",
    "                           feed_dict = {model.X: X_train,\n",
    "                                        model.y: y_train})\n",
    "        training_costs.append(cost)\n",
    "    return training_costs"
   ]
  },
  {
   "cell_type": "code",
   "execution_count": 9,
   "metadata": {},
   "outputs": [],
   "source": [
    "sess = tf.Session(graph = lrmodel.g)\n",
    "training_costs = train_linreg(sess, lrmodel, X_train, y_train)"
   ]
  },
  {
   "cell_type": "code",
   "execution_count": 10,
   "metadata": {},
   "outputs": [
    {
     "data": {
      "image/png": "[encoded data removed]",
      "text/plain": [
       "<Figure size 432x288 with 1 Axes>"
      ]
     },
     "metadata": {},
     "output_type": "display_data"
    }
   ],
   "source": [
    "import matplotlib.pyplot as plt\n",
    "%matplotlib inline\n",
    "plt.plot(range(1,len(training_costs) + 1), training_costs)\n",
    "plt.tight_layout()\n",
    "plt.xlabel('Epoch')\n",
    "plt.ylabel('Training Cost')\n",
    "plt.show()"
   ]
  },
  {
   "cell_type": "code",
   "execution_count": 11,
   "metadata": {},
   "outputs": [],
   "source": [
    "def predict_linreg(sess, model, X_test):\n",
    "    y_pred = sess.run(model.z_net,\n",
    "                      feed_dict = {model.X: X_test})\n",
    "    return y_pred"
   ]
  },
  {
   "cell_type": "code",
   "execution_count": 12,
   "metadata": {},
   "outputs": [
    {
     "data": {
      "image/png": "[encoded data removed]",
      "text/plain": [
       "<Figure size 432x288 with 1 Axes>"
      ]
     },
     "metadata": {},
     "output_type": "display_data"
    }
   ],
   "source": [
    "plt.scatter(X_train, y_train,\n",
    "            marker='s', s=50,\n",
    "            label='Training Data')\n",
    "plt.plot(range(X_train.shape[0]), \n",
    "         predict_linreg(sess, lrmodel, X_train),\n",
    "         color='gray', marker='o', \n",
    "         markersize=6, linewidth=3,\n",
    "         label='LinReg Model')\n",
    "plt.xlabel('x')\n",
    "plt.ylabel('y')\n",
    "plt.legend()\n",
    "plt.tight_layout()\n",
    "plt.show()"
   ]
  },
  {
   "cell_type": "markdown",
   "metadata": {},
   "source": [
    "## Training neural networks efficiently with high level tensorflow API"
   ]
  },
  {
   "cell_type": "code",
   "execution_count": 14,
   "metadata": {},
   "outputs": [],
   "source": [
    "import struct\n",
    "import os\n",
    " \n",
    "def load_mnist(path, kind='train'):\n",
    "    \"\"\"Load MNIST data from `path`\"\"\"\n",
    "    labels_path = os.path.join(path, \n",
    "                               '%s-labels-idx1-ubyte' % kind)\n",
    "    images_path = os.path.join(path, \n",
    "                               '%s-images-idx3-ubyte' % kind)\n",
    "        \n",
    "    with open(labels_path, 'rb') as lbpath:\n",
    "        magic, n = struct.unpack('>II', \n",
    "                                 lbpath.read(8))\n",
    "        labels = np.fromfile(lbpath, \n",
    "                             dtype=np.uint8)\n",
    "\n",
    "    with open(images_path, 'rb') as imgpath:\n",
    "        magic, num, rows, cols = struct.unpack(\">IIII\", \n",
    "                                               imgpath.read(16))\n",
    "        images = np.fromfile(imgpath, \n",
    "                             dtype=np.uint8).reshape(len(labels), 784)\n",
    "        images = ((images / 255.) - .5) * 2\n",
    " \n",
    "    return images, labels"
   ]
  },
  {
   "cell_type": "code",
   "execution_count": 17,
   "metadata": {},
   "outputs": [
    {
     "name": "stdout",
     "output_type": "stream",
     "text": [
      "Rows: 60000,  Columns: 784\n",
      "Rows: 10000,  Columns: 784\n"
     ]
    }
   ],
   "source": [
    "## loading the data\n",
    "X_train, y_train = load_mnist('./mnist/', kind='train')\n",
    "print('Rows: %d,  Columns: %d' %(X_train.shape[0], \n",
    "                                 X_train.shape[1]))\n",
    "\n",
    "X_test, y_test = load_mnist('./mnist/', kind='t10k')\n",
    "print('Rows: %d,  Columns: %d' %(X_test.shape[0], \n",
    "                                     X_test.shape[1]))"
   ]
  },
  {
   "cell_type": "code",
   "execution_count": 18,
   "metadata": {},
   "outputs": [
    {
     "name": "stdout",
     "output_type": "stream",
     "text": [
      "(60000, 784) (60000,)\n",
      "(10000, 784) (10000,)\n"
     ]
    }
   ],
   "source": [
    "## mean centering and normalization:\n",
    "mean_vals = np.mean(X_train, axis=0)\n",
    "std_val = np.std(X_train)\n",
    "\n",
    "X_train_centered = (X_train - mean_vals)/std_val\n",
    "X_test_centered = (X_test - mean_vals)/std_val\n",
    "\n",
    "del X_train, X_test\n",
    "\n",
    "print(X_train_centered.shape, y_train.shape)\n",
    "\n",
    "print(X_test_centered.shape, y_test.shape)"
   ]
  },
  {
   "cell_type": "code",
   "execution_count": 21,
   "metadata": {},
   "outputs": [],
   "source": [
    "n_features = X_train_centered.shape[1]\n",
    "n_classes = 10\n",
    "random_seed = 123\n",
    "np.random.seed(random_seed)\n",
    "\n",
    "g = tf.Graph()\n",
    "with g.as_default():\n",
    "    tf.set_random_seed(random_seed)\n",
    "    tf_x = tf.placeholder(dtype = tf.float32,\n",
    "                          shape = (None, n_features),\n",
    "                          name = 'tf_x')\n",
    "    tf_y = tf.placeholder(dtype = tf.int32,\n",
    "                          shape = (None),\n",
    "                          name = 'tf_y')\n",
    "    y_onehot = tf.one_hot(indices = tf_y, depth = n_classes)\n",
    "    \n",
    "    h1 = tf.layers.dense(inputs = tf_x,\n",
    "                         units = 50,\n",
    "                         activation = tf.tanh,\n",
    "                         name = 'layer1')\n",
    "    h2 = tf.layers.dense(inputs = h1,\n",
    "                         units = 50,\n",
    "                         activation = tf.tanh,\n",
    "                         name = 'layer2')\n",
    "    logits = tf.layers.dense(inputs = h2,\n",
    "                         units = 10,\n",
    "                         activation = None,\n",
    "                         name = 'layer3')\n",
    "    \n",
    "    predictions = {\n",
    "        'classes': tf.argmax(logits, axis = 1,\n",
    "                             name = 'predicted_classes'),\n",
    "        'probabilities': tf.nn.softmax(logits,\n",
    "                                       name = 'softmax_tensor')\n",
    "    }"
   ]
  },
  {
   "cell_type": "code",
   "execution_count": 23,
   "metadata": {},
   "outputs": [],
   "source": [
    "## define cost function and optimizer:\n",
    "with g.as_default():\n",
    "    cost = tf.losses.softmax_cross_entropy(onehot_labels = y_onehot,\n",
    "                                           logits = logits)\n",
    "    optimizer = tf.train.GradientDescentOptimizer(learning_rate = 0.001)\n",
    "    train_op = optimizer.minimize(loss = cost)\n",
    "    init_op = tf.global_variables_initializer()"
   ]
  },
  {
   "cell_type": "code",
   "execution_count": 24,
   "metadata": {},
   "outputs": [],
   "source": [
    "def create_batch_generator(X, y, batch_size=128, shuffle=False):\n",
    "    X_copy = np.array(X)\n",
    "    y_copy = np.array(y)\n",
    "    \n",
    "    if shuffle:\n",
    "        data = np.column_stack((X_copy, y_copy))\n",
    "        np.random.shuffle(data)\n",
    "        X_copy = data[:, :-1]\n",
    "        y_copy = data[:, -1].astype(int)\n",
    "    \n",
    "    for i in range(0, X.shape[0], batch_size):\n",
    "        yield (X_copy[i:i+batch_size, :], y_copy[i:i+batch_size])"
   ]
  },
  {
   "cell_type": "code",
   "execution_count": 25,
   "metadata": {},
   "outputs": [
    {
     "name": "stdout",
     "output_type": "stream",
     "text": [
      "-- Epoch  1\tAverage Training Loss: 1.5573\n",
      "-- Epoch  2\tAverage Training Loss: 0.9492\n",
      "-- Epoch  3\tAverage Training Loss: 0.7499\n",
      "-- Epoch  4\tAverage Training Loss: 0.6387\n",
      "-- Epoch  5\tAverage Training Loss: 0.5668\n",
      "-- Epoch  6\tAverage Training Loss: 0.5160\n",
      "-- Epoch  7\tAverage Training Loss: 0.4781\n",
      "-- Epoch  8\tAverage Training Loss: 0.4486\n",
      "-- Epoch  9\tAverage Training Loss: 0.4247\n",
      "-- Epoch 10\tAverage Training Loss: 0.4051\n",
      "-- Epoch 11\tAverage Training Loss: 0.3884\n",
      "-- Epoch 12\tAverage Training Loss: 0.3741\n",
      "-- Epoch 13\tAverage Training Loss: 0.3617\n",
      "-- Epoch 14\tAverage Training Loss: 0.3507\n",
      "-- Epoch 15\tAverage Training Loss: 0.3408\n",
      "-- Epoch 16\tAverage Training Loss: 0.3320\n",
      "-- Epoch 17\tAverage Training Loss: 0.3239\n",
      "-- Epoch 18\tAverage Training Loss: 0.3165\n",
      "-- Epoch 19\tAverage Training Loss: 0.3097\n",
      "-- Epoch 20\tAverage Training Loss: 0.3035\n",
      "-- Epoch 21\tAverage Training Loss: 0.2976\n",
      "-- Epoch 22\tAverage Training Loss: 0.2921\n",
      "-- Epoch 23\tAverage Training Loss: 0.2870\n",
      "-- Epoch 24\tAverage Training Loss: 0.2822\n",
      "-- Epoch 25\tAverage Training Loss: 0.2776\n",
      "-- Epoch 26\tAverage Training Loss: 0.2733\n",
      "-- Epoch 27\tAverage Training Loss: 0.2693\n",
      "-- Epoch 28\tAverage Training Loss: 0.2654\n",
      "-- Epoch 29\tAverage Training Loss: 0.2617\n",
      "-- Epoch 30\tAverage Training Loss: 0.2581\n",
      "-- Epoch 31\tAverage Training Loss: 0.2547\n",
      "-- Epoch 32\tAverage Training Loss: 0.2515\n",
      "-- Epoch 33\tAverage Training Loss: 0.2483\n",
      "-- Epoch 34\tAverage Training Loss: 0.2453\n",
      "-- Epoch 35\tAverage Training Loss: 0.2425\n",
      "-- Epoch 36\tAverage Training Loss: 0.2397\n",
      "-- Epoch 37\tAverage Training Loss: 0.2370\n",
      "-- Epoch 38\tAverage Training Loss: 0.2344\n",
      "-- Epoch 39\tAverage Training Loss: 0.2319\n",
      "-- Epoch 40\tAverage Training Loss: 0.2294\n",
      "-- Epoch 41\tAverage Training Loss: 0.2271\n",
      "-- Epoch 42\tAverage Training Loss: 0.2248\n",
      "-- Epoch 43\tAverage Training Loss: 0.2226\n",
      "-- Epoch 44\tAverage Training Loss: 0.2204\n",
      "-- Epoch 45\tAverage Training Loss: 0.2183\n",
      "-- Epoch 46\tAverage Training Loss: 0.2163\n",
      "-- Epoch 47\tAverage Training Loss: 0.2143\n",
      "-- Epoch 48\tAverage Training Loss: 0.2124\n",
      "-- Epoch 49\tAverage Training Loss: 0.2105\n",
      "-- Epoch 50\tAverage Training Loss: 0.2086\n"
     ]
    }
   ],
   "source": [
    "## create a session to launch the graph\n",
    "sess = tf.Session(graph = g)\n",
    "## run the variable initialization operator\n",
    "sess.run(init_op)\n",
    "\n",
    "## 50 epochs of training\n",
    "for epoch in range(50):\n",
    "    training_costs = []\n",
    "    batch_generator = create_batch_generator(X_train_centered, y_train, batch_size = 64)\n",
    "    for batch_X, batch_y in batch_generator:\n",
    "        ## dictionary to feed data into the network\n",
    "        feed = {tf_x: batch_X, tf_y: batch_y}\n",
    "        _, batch_cost = sess.run([train_op, cost], feed_dict = feed)\n",
    "        training_costs.append(batch_cost)\n",
    "    print('-- Epoch %2d\\tAverage Training Loss: %.4f' % (epoch+1, np.mean(training_costs)))"
   ]
  },
  {
   "cell_type": "code",
   "execution_count": 29,
   "metadata": {},
   "outputs": [
    {
     "name": "stdout",
     "output_type": "stream",
     "text": [
      "Test Accuracy: 93.89%\n"
     ]
    }
   ],
   "source": [
    "## predicting test set\n",
    "y_pred = sess.run(predictions['classes'], feed_dict = {tf_x: X_test_centered})\n",
    "\n",
    "print('Test Accuracy: %.2f%%' % (100 * np.sum(y_test == y_pred) / y_test.shape[0]))"
   ]
  },
  {
   "cell_type": "markdown",
   "metadata": {},
   "source": [
    "## Developing a multilayer neural network using Keras "
   ]
  },
  {
   "cell_type": "code",
   "execution_count": 32,
   "metadata": {},
   "outputs": [
    {
     "name": "stdout",
     "output_type": "stream",
     "text": [
      "Rows: 60000,  Columns: 784\n",
      "Rows: 10000,  Columns: 784\n"
     ]
    }
   ],
   "source": [
    "## loading the data\n",
    "X_train, y_train = load_mnist('./mnist/', kind='train')\n",
    "print('Rows: %d,  Columns: %d' %(X_train.shape[0], \n",
    "                                 X_train.shape[1]))\n",
    "\n",
    "X_test, y_test = load_mnist('./mnist/', kind='t10k')\n",
    "print('Rows: %d,  Columns: %d' %(X_test.shape[0], \n",
    "                                     X_test.shape[1]))"
   ]
  },
  {
   "cell_type": "code",
   "execution_count": 33,
   "metadata": {},
   "outputs": [
    {
     "name": "stdout",
     "output_type": "stream",
     "text": [
      "(60000, 784) (60000,)\n",
      "(10000, 784) (10000,)\n"
     ]
    }
   ],
   "source": [
    "## mean centering and normalization:\n",
    "mean_vals = np.mean(X_train, axis=0)\n",
    "std_val = np.std(X_train)\n",
    "\n",
    "X_train_centered = (X_train - mean_vals)/std_val\n",
    "X_test_centered = (X_test - mean_vals)/std_val\n",
    "\n",
    "del X_train, X_test\n",
    "\n",
    "print(X_train_centered.shape, y_train.shape)\n",
    "\n",
    "print(X_test_centered.shape, y_test.shape)"
   ]
  },
  {
   "cell_type": "code",
   "execution_count": 34,
   "metadata": {},
   "outputs": [],
   "source": [
    "import tensorflow as tf\n",
    "import tensorflow.keras as keras\n",
    "\n",
    "np.random.seed(123)\n",
    "tf.set_random_seed(123)"
   ]
  },
  {
   "cell_type": "code",
   "execution_count": 35,
   "metadata": {},
   "outputs": [
    {
     "name": "stdout",
     "output_type": "stream",
     "text": [
      "First 3 labels:  [5 0 4]\n",
      "\n",
      "First 3 labels (one-hot):\n",
      " [[0. 0. 0. 0. 0. 1. 0. 0. 0. 0.]\n",
      " [1. 0. 0. 0. 0. 0. 0. 0. 0. 0.]\n",
      " [0. 0. 0. 0. 1. 0. 0. 0. 0. 0.]]\n"
     ]
    }
   ],
   "source": [
    "y_train_onehot = keras.utils.to_categorical(y_train)\n",
    "\n",
    "print('First 3 labels: ', y_train[:3])\n",
    "print('\\nFirst 3 labels (one-hot):\\n', y_train_onehot[:3])"
   ]
  },
  {
   "cell_type": "code",
   "execution_count": 37,
   "metadata": {},
   "outputs": [],
   "source": [
    "model = keras.models.Sequential()\n",
    "\n",
    "model.add(\n",
    "    keras.layers.Dense(\n",
    "        units = 50,\n",
    "        input_dim = X_train_centered.shape[1],\n",
    "        kernel_initializer = 'glorot_uniform',\n",
    "        bias_initializer = 'zeros',\n",
    "        activation = 'tanh'))\n",
    "model.add(\n",
    "    keras.layers.Dense(\n",
    "        units = 50,\n",
    "        input_dim = 50,\n",
    "        kernel_initializer = 'glorot_uniform',\n",
    "        bias_initializer = 'zeros',\n",
    "        activation = 'tanh'))\n",
    "model.add(\n",
    "    keras.layers.Dense(\n",
    "        units = y_train_onehot.shape[1],\n",
    "        input_dim = 50,\n",
    "        kernel_initializer = 'glorot_uniform',\n",
    "        bias_initializer = 'zeros',\n",
    "        activation = 'softmax'))\n",
    "\n",
    "sgd_optimizer = keras.optimizers.SGD(lr = 0.001,\n",
    "                                     decay = 1e-7,\n",
    "                                     momentum = .9)\n",
    "model.compile(optimizer = sgd_optimizer,\n",
    "              loss = 'categorical_crossentropy')"
   ]
  },
  {
   "cell_type": "code",
   "execution_count": 41,
   "metadata": {},
   "outputs": [
    {
     "name": "stdout",
     "output_type": "stream",
     "text": [
      "Train on 54000 samples, validate on 6000 samples\n",
      "Epoch 1/50\n",
      "54000/54000 [==============================] - 1s 24us/step - loss: 0.7116 - val_loss: 0.3566\n",
      "Epoch 2/50\n",
      "54000/54000 [==============================] - 1s 21us/step - loss: 0.3650 - val_loss: 0.2742\n",
      "Epoch 3/50\n",
      "54000/54000 [==============================] - 1s 21us/step - loss: 0.3008 - val_loss: 0.2382\n",
      "Epoch 4/50\n",
      "54000/54000 [==============================] - 1s 25us/step - loss: 0.2652 - val_loss: 0.2160\n",
      "Epoch 5/50\n",
      "54000/54000 [==============================] - 1s 25us/step - loss: 0.2407 - val_loss: 0.2000\n",
      "Epoch 6/50\n",
      "54000/54000 [==============================] - 1s 26us/step - loss: 0.2218 - val_loss: 0.1884\n",
      "Epoch 7/50\n",
      "54000/54000 [==============================] - 1s 26us/step - loss: 0.2065 - val_loss: 0.1785\n",
      "Epoch 8/50\n",
      "54000/54000 [==============================] - 1s 23us/step - loss: 0.1935 - val_loss: 0.1694\n",
      "Epoch 9/50\n",
      "54000/54000 [==============================] - 1s 21us/step - loss: 0.1820 - val_loss: 0.1626\n",
      "Epoch 10/50\n",
      "54000/54000 [==============================] - 1s 23us/step - loss: 0.1720 - val_loss: 0.1564\n",
      "Epoch 11/50\n",
      "54000/54000 [==============================] - 1s 26us/step - loss: 0.1631 - val_loss: 0.1516\n",
      "Epoch 12/50\n",
      "54000/54000 [==============================] - 1s 26us/step - loss: 0.1552 - val_loss: 0.1460\n",
      "Epoch 13/50\n",
      "54000/54000 [==============================] - 1s 26us/step - loss: 0.1481 - val_loss: 0.1412\n",
      "Epoch 14/50\n",
      "54000/54000 [==============================] - 1s 28us/step - loss: 0.1415 - val_loss: 0.1378\n",
      "Epoch 15/50\n",
      "54000/54000 [==============================] - 1s 28us/step - loss: 0.1355 - val_loss: 0.1350\n",
      "Epoch 16/50\n",
      "54000/54000 [==============================] - 1s 21us/step - loss: 0.1299 - val_loss: 0.1321\n",
      "Epoch 17/50\n",
      "54000/54000 [==============================] - 1s 20us/step - loss: 0.1249 - val_loss: 0.1292\n",
      "Epoch 18/50\n",
      "54000/54000 [==============================] - 1s 18us/step - loss: 0.1201 - val_loss: 0.1275\n",
      "Epoch 19/50\n",
      "54000/54000 [==============================] - 1s 19us/step - loss: 0.1157 - val_loss: 0.1249\n",
      "Epoch 20/50\n",
      "54000/54000 [==============================] - 1s 18us/step - loss: 0.1115 - val_loss: 0.1227\n",
      "Epoch 21/50\n",
      "54000/54000 [==============================] - 1s 18us/step - loss: 0.1077 - val_loss: 0.1215\n",
      "Epoch 22/50\n",
      "54000/54000 [==============================] - 1s 18us/step - loss: 0.1040 - val_loss: 0.1204\n",
      "Epoch 23/50\n",
      "54000/54000 [==============================] - 1s 19us/step - loss: 0.1007 - val_loss: 0.1183\n",
      "Epoch 24/50\n",
      "54000/54000 [==============================] - 1s 19us/step - loss: 0.0974 - val_loss: 0.1173\n",
      "Epoch 25/50\n",
      "54000/54000 [==============================] - 1s 18us/step - loss: 0.0943 - val_loss: 0.1159\n",
      "Epoch 26/50\n",
      "54000/54000 [==============================] - 1s 18us/step - loss: 0.0915 - val_loss: 0.1158\n",
      "Epoch 27/50\n",
      "54000/54000 [==============================] - 1s 19us/step - loss: 0.0886 - val_loss: 0.1154\n",
      "Epoch 28/50\n",
      "54000/54000 [==============================] - 1s 26us/step - loss: 0.0861 - val_loss: 0.1149\n",
      "Epoch 29/50\n",
      "54000/54000 [==============================] - 1s 25us/step - loss: 0.0834 - val_loss: 0.1141\n",
      "Epoch 30/50\n",
      "54000/54000 [==============================] - 1s 24us/step - loss: 0.0811 - val_loss: 0.1139\n",
      "Epoch 31/50\n",
      "54000/54000 [==============================] - 1s 24us/step - loss: 0.0788 - val_loss: 0.1133\n",
      "Epoch 32/50\n",
      "54000/54000 [==============================] - 1s 24us/step - loss: 0.0765 - val_loss: 0.1141\n",
      "Epoch 33/50\n",
      "54000/54000 [==============================] - 2s 28us/step - loss: 0.0744 - val_loss: 0.1138\n",
      "Epoch 34/50\n",
      "54000/54000 [==============================] - 1s 27us/step - loss: 0.0723 - val_loss: 0.1144\n",
      "Epoch 35/50\n",
      "54000/54000 [==============================] - 1s 25us/step - loss: 0.0704 - val_loss: 0.1135\n",
      "Epoch 36/50\n",
      "54000/54000 [==============================] - 1s 24us/step - loss: 0.0685 - val_loss: 0.1134\n",
      "Epoch 37/50\n",
      "54000/54000 [==============================] - 1s 19us/step - loss: 0.0666 - val_loss: 0.1140\n",
      "Epoch 38/50\n",
      "54000/54000 [==============================] - 1s 23us/step - loss: 0.0648 - val_loss: 0.1150\n",
      "Epoch 39/50\n",
      "54000/54000 [==============================] - 1s 20us/step - loss: 0.0631 - val_loss: 0.1139\n",
      "Epoch 40/50\n",
      "54000/54000 [==============================] - 1s 20us/step - loss: 0.0614 - val_loss: 0.1139\n",
      "Epoch 41/50\n",
      "54000/54000 [==============================] - 1s 22us/step - loss: 0.0599 - val_loss: 0.1147\n",
      "Epoch 42/50\n",
      "54000/54000 [==============================] - 1s 19us/step - loss: 0.0583 - val_loss: 0.1152\n",
      "Epoch 43/50\n",
      "54000/54000 [==============================] - 1s 19us/step - loss: 0.0567 - val_loss: 0.1149\n",
      "Epoch 44/50\n",
      "54000/54000 [==============================] - 1s 21us/step - loss: 0.0552 - val_loss: 0.1154\n",
      "Epoch 45/50\n",
      "54000/54000 [==============================] - 1s 22us/step - loss: 0.0537 - val_loss: 0.1151\n",
      "Epoch 46/50\n",
      "54000/54000 [==============================] - 1s 24us/step - loss: 0.0524 - val_loss: 0.1147\n",
      "Epoch 47/50\n",
      "54000/54000 [==============================] - 1s 21us/step - loss: 0.0511 - val_loss: 0.1162\n",
      "Epoch 48/50\n",
      "54000/54000 [==============================] - 1s 20us/step - loss: 0.0496 - val_loss: 0.1165\n",
      "Epoch 49/50\n",
      "54000/54000 [==============================] - 1s 22us/step - loss: 0.0484 - val_loss: 0.1160\n",
      "Epoch 50/50\n",
      "54000/54000 [==============================] - 1s 23us/step - loss: 0.0472 - val_loss: 0.1175\n"
     ]
    }
   ],
   "source": [
    "history = model.fit(X_train_centered, y_train_onehot,\n",
    "                    batch_size = 64, epochs = 50,\n",
    "                    validation_split = 0.1,\n",
    "                    verbose = 1)"
   ]
  },
  {
   "cell_type": "code",
   "execution_count": null,
   "metadata": {},
   "outputs": [],
   "source": []
  }
 ],
 "metadata": {
  "kernelspec": {
   "display_name": "Python 3",
   "language": "python",
   "name": "python3"
  },
  "language_info": {
   "codemirror_mode": {
    "name": "ipython",
    "version": 3
   },
   "file_extension": ".py",
   "mimetype": "text/x-python",
   "name": "python",
   "nbconvert_exporter": "python",
   "pygments_lexer": "ipython3",
   "version": "3.6.6"
  }
 },
 "nbformat": 4,
 "nbformat_minor": 2
}
