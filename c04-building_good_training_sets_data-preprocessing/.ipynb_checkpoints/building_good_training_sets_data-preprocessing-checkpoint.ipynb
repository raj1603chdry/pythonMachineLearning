{
 "cells": [
  {
   "cell_type": "markdown",
   "metadata": {},
   "source": [
    "### Dealing with missing data "
   ]
  },
  {
   "cell_type": "code",
   "execution_count": 2,
   "metadata": {},
   "outputs": [],
   "source": [
    "import pandas as pd\n",
    "import numpy as np\n",
    "import matplotlib.pyplot as plt\n",
    "%matplotlib inline"
   ]
  },
  {
   "cell_type": "code",
   "execution_count": 3,
   "metadata": {},
   "outputs": [],
   "source": [
    "from io import StringIO"
   ]
  },
  {
   "cell_type": "code",
   "execution_count": 4,
   "metadata": {},
   "outputs": [],
   "source": [
    "csv_data = '''A,B,C,D\n",
    "1.0,2.0,3.0,4.0\n",
    "5.0,6.0,,8.0\n",
    "10.0,11.0,12.0,'''"
   ]
  },
  {
   "cell_type": "code",
   "execution_count": 5,
   "metadata": {},
   "outputs": [
    {
     "data": {
      "text/html": [
       "<div>\n",
       "<style scoped>\n",
       "    .dataframe tbody tr th:only-of-type {\n",
       "        vertical-align: middle;\n",
       "    }\n",
       "\n",
       "    .dataframe tbody tr th {\n",
       "        vertical-align: top;\n",
       "    }\n",
       "\n",
       "    .dataframe thead th {\n",
       "        text-align: right;\n",
       "    }\n",
       "</style>\n",
       "<table border=\"1\" class=\"dataframe\">\n",
       "  <thead>\n",
       "    <tr style=\"text-align: right;\">\n",
       "      <th></th>\n",
       "      <th>A</th>\n",
       "      <th>B</th>\n",
       "      <th>C</th>\n",
       "      <th>D</th>\n",
       "    </tr>\n",
       "  </thead>\n",
       "  <tbody>\n",
       "    <tr>\n",
       "      <th>0</th>\n",
       "      <td>1.0</td>\n",
       "      <td>2.0</td>\n",
       "      <td>3.0</td>\n",
       "      <td>4.0</td>\n",
       "    </tr>\n",
       "    <tr>\n",
       "      <th>1</th>\n",
       "      <td>5.0</td>\n",
       "      <td>6.0</td>\n",
       "      <td>NaN</td>\n",
       "      <td>8.0</td>\n",
       "    </tr>\n",
       "    <tr>\n",
       "      <th>2</th>\n",
       "      <td>10.0</td>\n",
       "      <td>11.0</td>\n",
       "      <td>12.0</td>\n",
       "      <td>NaN</td>\n",
       "    </tr>\n",
       "  </tbody>\n",
       "</table>\n",
       "</div>"
      ],
      "text/plain": [
       "      A     B     C    D\n",
       "0   1.0   2.0   3.0  4.0\n",
       "1   5.0   6.0   NaN  8.0\n",
       "2  10.0  11.0  12.0  NaN"
      ]
     },
     "execution_count": 5,
     "metadata": {},
     "output_type": "execute_result"
    }
   ],
   "source": [
    "df = pd.read_csv(StringIO(csv_data))\n",
    "df"
   ]
  },
  {
   "cell_type": "code",
   "execution_count": 6,
   "metadata": {},
   "outputs": [
    {
     "data": {
      "text/plain": [
       "A    0\n",
       "B    0\n",
       "C    1\n",
       "D    1\n",
       "dtype: int64"
      ]
     },
     "execution_count": 6,
     "metadata": {},
     "output_type": "execute_result"
    }
   ],
   "source": [
    "df.isnull().sum()"
   ]
  },
  {
   "cell_type": "code",
   "execution_count": 7,
   "metadata": {},
   "outputs": [
    {
     "data": {
      "text/plain": [
       "array([[ 1.,  2.,  3.,  4.],\n",
       "       [ 5.,  6., nan,  8.],\n",
       "       [10., 11., 12., nan]])"
      ]
     },
     "execution_count": 7,
     "metadata": {},
     "output_type": "execute_result"
    }
   ],
   "source": [
    "df.values"
   ]
  },
  {
   "cell_type": "code",
   "execution_count": 8,
   "metadata": {},
   "outputs": [
    {
     "data": {
      "text/html": [
       "<div>\n",
       "<style scoped>\n",
       "    .dataframe tbody tr th:only-of-type {\n",
       "        vertical-align: middle;\n",
       "    }\n",
       "\n",
       "    .dataframe tbody tr th {\n",
       "        vertical-align: top;\n",
       "    }\n",
       "\n",
       "    .dataframe thead th {\n",
       "        text-align: right;\n",
       "    }\n",
       "</style>\n",
       "<table border=\"1\" class=\"dataframe\">\n",
       "  <thead>\n",
       "    <tr style=\"text-align: right;\">\n",
       "      <th></th>\n",
       "      <th>A</th>\n",
       "      <th>B</th>\n",
       "      <th>C</th>\n",
       "      <th>D</th>\n",
       "    </tr>\n",
       "  </thead>\n",
       "  <tbody>\n",
       "    <tr>\n",
       "      <th>0</th>\n",
       "      <td>1.0</td>\n",
       "      <td>2.0</td>\n",
       "      <td>3.0</td>\n",
       "      <td>4.0</td>\n",
       "    </tr>\n",
       "  </tbody>\n",
       "</table>\n",
       "</div>"
      ],
      "text/plain": [
       "     A    B    C    D\n",
       "0  1.0  2.0  3.0  4.0"
      ]
     },
     "execution_count": 8,
     "metadata": {},
     "output_type": "execute_result"
    }
   ],
   "source": [
    "df.dropna()"
   ]
  },
  {
   "cell_type": "code",
   "execution_count": 9,
   "metadata": {},
   "outputs": [
    {
     "data": {
      "text/html": [
       "<div>\n",
       "<style scoped>\n",
       "    .dataframe tbody tr th:only-of-type {\n",
       "        vertical-align: middle;\n",
       "    }\n",
       "\n",
       "    .dataframe tbody tr th {\n",
       "        vertical-align: top;\n",
       "    }\n",
       "\n",
       "    .dataframe thead th {\n",
       "        text-align: right;\n",
       "    }\n",
       "</style>\n",
       "<table border=\"1\" class=\"dataframe\">\n",
       "  <thead>\n",
       "    <tr style=\"text-align: right;\">\n",
       "      <th></th>\n",
       "      <th>A</th>\n",
       "      <th>B</th>\n",
       "    </tr>\n",
       "  </thead>\n",
       "  <tbody>\n",
       "    <tr>\n",
       "      <th>0</th>\n",
       "      <td>1.0</td>\n",
       "      <td>2.0</td>\n",
       "    </tr>\n",
       "    <tr>\n",
       "      <th>1</th>\n",
       "      <td>5.0</td>\n",
       "      <td>6.0</td>\n",
       "    </tr>\n",
       "    <tr>\n",
       "      <th>2</th>\n",
       "      <td>10.0</td>\n",
       "      <td>11.0</td>\n",
       "    </tr>\n",
       "  </tbody>\n",
       "</table>\n",
       "</div>"
      ],
      "text/plain": [
       "      A     B\n",
       "0   1.0   2.0\n",
       "1   5.0   6.0\n",
       "2  10.0  11.0"
      ]
     },
     "execution_count": 9,
     "metadata": {},
     "output_type": "execute_result"
    }
   ],
   "source": [
    "df.dropna(axis = 1)"
   ]
  },
  {
   "cell_type": "code",
   "execution_count": 10,
   "metadata": {},
   "outputs": [
    {
     "data": {
      "text/html": [
       "<div>\n",
       "<style scoped>\n",
       "    .dataframe tbody tr th:only-of-type {\n",
       "        vertical-align: middle;\n",
       "    }\n",
       "\n",
       "    .dataframe tbody tr th {\n",
       "        vertical-align: top;\n",
       "    }\n",
       "\n",
       "    .dataframe thead th {\n",
       "        text-align: right;\n",
       "    }\n",
       "</style>\n",
       "<table border=\"1\" class=\"dataframe\">\n",
       "  <thead>\n",
       "    <tr style=\"text-align: right;\">\n",
       "      <th></th>\n",
       "      <th>A</th>\n",
       "      <th>B</th>\n",
       "      <th>C</th>\n",
       "      <th>D</th>\n",
       "    </tr>\n",
       "  </thead>\n",
       "  <tbody>\n",
       "    <tr>\n",
       "      <th>0</th>\n",
       "      <td>1.0</td>\n",
       "      <td>2.0</td>\n",
       "      <td>3.0</td>\n",
       "      <td>4.0</td>\n",
       "    </tr>\n",
       "    <tr>\n",
       "      <th>1</th>\n",
       "      <td>5.0</td>\n",
       "      <td>6.0</td>\n",
       "      <td>NaN</td>\n",
       "      <td>8.0</td>\n",
       "    </tr>\n",
       "    <tr>\n",
       "      <th>2</th>\n",
       "      <td>10.0</td>\n",
       "      <td>11.0</td>\n",
       "      <td>12.0</td>\n",
       "      <td>NaN</td>\n",
       "    </tr>\n",
       "  </tbody>\n",
       "</table>\n",
       "</div>"
      ],
      "text/plain": [
       "      A     B     C    D\n",
       "0   1.0   2.0   3.0  4.0\n",
       "1   5.0   6.0   NaN  8.0\n",
       "2  10.0  11.0  12.0  NaN"
      ]
     },
     "execution_count": 10,
     "metadata": {},
     "output_type": "execute_result"
    }
   ],
   "source": [
    "#only drop rows where all columns are NaN\n",
    "df.dropna(how = 'all')"
   ]
  },
  {
   "cell_type": "code",
   "execution_count": 12,
   "metadata": {},
   "outputs": [
    {
     "data": {
      "text/html": [
       "<div>\n",
       "<style scoped>\n",
       "    .dataframe tbody tr th:only-of-type {\n",
       "        vertical-align: middle;\n",
       "    }\n",
       "\n",
       "    .dataframe tbody tr th {\n",
       "        vertical-align: top;\n",
       "    }\n",
       "\n",
       "    .dataframe thead th {\n",
       "        text-align: right;\n",
       "    }\n",
       "</style>\n",
       "<table border=\"1\" class=\"dataframe\">\n",
       "  <thead>\n",
       "    <tr style=\"text-align: right;\">\n",
       "      <th></th>\n",
       "      <th>A</th>\n",
       "      <th>B</th>\n",
       "      <th>C</th>\n",
       "      <th>D</th>\n",
       "    </tr>\n",
       "  </thead>\n",
       "  <tbody>\n",
       "    <tr>\n",
       "      <th>0</th>\n",
       "      <td>1.0</td>\n",
       "      <td>2.0</td>\n",
       "      <td>3.0</td>\n",
       "      <td>4.0</td>\n",
       "    </tr>\n",
       "  </tbody>\n",
       "</table>\n",
       "</div>"
      ],
      "text/plain": [
       "     A    B    C    D\n",
       "0  1.0  2.0  3.0  4.0"
      ]
     },
     "execution_count": 12,
     "metadata": {},
     "output_type": "execute_result"
    }
   ],
   "source": [
    "# drop rows that have not at least 4 non-NaN values\n",
    "df.dropna(thresh = 4)"
   ]
  },
  {
   "cell_type": "code",
   "execution_count": 14,
   "metadata": {},
   "outputs": [
    {
     "data": {
      "text/html": [
       "<div>\n",
       "<style scoped>\n",
       "    .dataframe tbody tr th:only-of-type {\n",
       "        vertical-align: middle;\n",
       "    }\n",
       "\n",
       "    .dataframe tbody tr th {\n",
       "        vertical-align: top;\n",
       "    }\n",
       "\n",
       "    .dataframe thead th {\n",
       "        text-align: right;\n",
       "    }\n",
       "</style>\n",
       "<table border=\"1\" class=\"dataframe\">\n",
       "  <thead>\n",
       "    <tr style=\"text-align: right;\">\n",
       "      <th></th>\n",
       "      <th>A</th>\n",
       "      <th>B</th>\n",
       "      <th>C</th>\n",
       "      <th>D</th>\n",
       "    </tr>\n",
       "  </thead>\n",
       "  <tbody>\n",
       "    <tr>\n",
       "      <th>0</th>\n",
       "      <td>1.0</td>\n",
       "      <td>2.0</td>\n",
       "      <td>3.0</td>\n",
       "      <td>4.0</td>\n",
       "    </tr>\n",
       "    <tr>\n",
       "      <th>2</th>\n",
       "      <td>10.0</td>\n",
       "      <td>11.0</td>\n",
       "      <td>12.0</td>\n",
       "      <td>NaN</td>\n",
       "    </tr>\n",
       "  </tbody>\n",
       "</table>\n",
       "</div>"
      ],
      "text/plain": [
       "      A     B     C    D\n",
       "0   1.0   2.0   3.0  4.0\n",
       "2  10.0  11.0  12.0  NaN"
      ]
     },
     "execution_count": 14,
     "metadata": {},
     "output_type": "execute_result"
    }
   ],
   "source": [
    "# only drop rows where NaN appear in specific columns\n",
    "df.dropna(subset = ['C'])"
   ]
  },
  {
   "cell_type": "markdown",
   "metadata": {},
   "source": [
    "### Imputing missing values "
   ]
  },
  {
   "cell_type": "code",
   "execution_count": 15,
   "metadata": {},
   "outputs": [],
   "source": [
    "from sklearn.preprocessing import Imputer"
   ]
  },
  {
   "cell_type": "code",
   "execution_count": 16,
   "metadata": {},
   "outputs": [
    {
     "data": {
      "text/plain": [
       "array([[ 1. ,  2. ,  3. ,  4. ],\n",
       "       [ 5. ,  6. ,  7.5,  8. ],\n",
       "       [10. , 11. , 12. ,  6. ]])"
      ]
     },
     "execution_count": 16,
     "metadata": {},
     "output_type": "execute_result"
    }
   ],
   "source": [
    "imr = Imputer(missing_values = 'NaN', strategy = 'mean', axis = 0)\n",
    "imr = imr.fit(df)\n",
    "imputed_data = imr.transform(df)\n",
    "imputed_data"
   ]
  },
  {
   "cell_type": "code",
   "execution_count": 17,
   "metadata": {},
   "outputs": [
    {
     "data": {
      "text/html": [
       "<div>\n",
       "<style scoped>\n",
       "    .dataframe tbody tr th:only-of-type {\n",
       "        vertical-align: middle;\n",
       "    }\n",
       "\n",
       "    .dataframe tbody tr th {\n",
       "        vertical-align: top;\n",
       "    }\n",
       "\n",
       "    .dataframe thead th {\n",
       "        text-align: right;\n",
       "    }\n",
       "</style>\n",
       "<table border=\"1\" class=\"dataframe\">\n",
       "  <thead>\n",
       "    <tr style=\"text-align: right;\">\n",
       "      <th></th>\n",
       "      <th>color</th>\n",
       "      <th>size</th>\n",
       "      <th>price</th>\n",
       "      <th>classlabel</th>\n",
       "    </tr>\n",
       "  </thead>\n",
       "  <tbody>\n",
       "    <tr>\n",
       "      <th>0</th>\n",
       "      <td>green</td>\n",
       "      <td>M</td>\n",
       "      <td>10.1</td>\n",
       "      <td>class1</td>\n",
       "    </tr>\n",
       "    <tr>\n",
       "      <th>1</th>\n",
       "      <td>red</td>\n",
       "      <td>L</td>\n",
       "      <td>13.5</td>\n",
       "      <td>class2</td>\n",
       "    </tr>\n",
       "    <tr>\n",
       "      <th>2</th>\n",
       "      <td>blue</td>\n",
       "      <td>XL</td>\n",
       "      <td>15.3</td>\n",
       "      <td>class1</td>\n",
       "    </tr>\n",
       "  </tbody>\n",
       "</table>\n",
       "</div>"
      ],
      "text/plain": [
       "   color size  price classlabel\n",
       "0  green    M   10.1     class1\n",
       "1    red    L   13.5     class2\n",
       "2   blue   XL   15.3     class1"
      ]
     },
     "execution_count": 17,
     "metadata": {},
     "output_type": "execute_result"
    }
   ],
   "source": [
    "df = pd.DataFrame([\n",
    "    ['green', 'M', 10.1, 'class1'],\n",
    "    ['red', 'L', 13.5, 'class2'],\n",
    "    ['blue', 'XL', 15.3, 'class1']\n",
    "])\n",
    "df.columns = ['color', 'size', 'price', 'classlabel']\n",
    "df"
   ]
  },
  {
   "cell_type": "markdown",
   "metadata": {},
   "source": [
    "### Mapping ordinal features "
   ]
  },
  {
   "cell_type": "code",
   "execution_count": 18,
   "metadata": {},
   "outputs": [
    {
     "data": {
      "text/html": [
       "<div>\n",
       "<style scoped>\n",
       "    .dataframe tbody tr th:only-of-type {\n",
       "        vertical-align: middle;\n",
       "    }\n",
       "\n",
       "    .dataframe tbody tr th {\n",
       "        vertical-align: top;\n",
       "    }\n",
       "\n",
       "    .dataframe thead th {\n",
       "        text-align: right;\n",
       "    }\n",
       "</style>\n",
       "<table border=\"1\" class=\"dataframe\">\n",
       "  <thead>\n",
       "    <tr style=\"text-align: right;\">\n",
       "      <th></th>\n",
       "      <th>color</th>\n",
       "      <th>size</th>\n",
       "      <th>price</th>\n",
       "      <th>classlabel</th>\n",
       "    </tr>\n",
       "  </thead>\n",
       "  <tbody>\n",
       "    <tr>\n",
       "      <th>0</th>\n",
       "      <td>green</td>\n",
       "      <td>1</td>\n",
       "      <td>10.1</td>\n",
       "      <td>class1</td>\n",
       "    </tr>\n",
       "    <tr>\n",
       "      <th>1</th>\n",
       "      <td>red</td>\n",
       "      <td>2</td>\n",
       "      <td>13.5</td>\n",
       "      <td>class2</td>\n",
       "    </tr>\n",
       "    <tr>\n",
       "      <th>2</th>\n",
       "      <td>blue</td>\n",
       "      <td>3</td>\n",
       "      <td>15.3</td>\n",
       "      <td>class1</td>\n",
       "    </tr>\n",
       "  </tbody>\n",
       "</table>\n",
       "</div>"
      ],
      "text/plain": [
       "   color  size  price classlabel\n",
       "0  green     1   10.1     class1\n",
       "1    red     2   13.5     class2\n",
       "2   blue     3   15.3     class1"
      ]
     },
     "execution_count": 18,
     "metadata": {},
     "output_type": "execute_result"
    }
   ],
   "source": [
    "size_mapping = {\n",
    "    'XL': 3,\n",
    "    'L': 2,\n",
    "    'M': 1\n",
    "}\n",
    "df['size'] = df['size'].map(size_mapping)\n",
    "df"
   ]
  },
  {
   "cell_type": "code",
   "execution_count": 19,
   "metadata": {},
   "outputs": [],
   "source": [
    "inv_size_mapping = {v: k for k, v in size_mapping.items()}"
   ]
  },
  {
   "cell_type": "code",
   "execution_count": 20,
   "metadata": {},
   "outputs": [
    {
     "data": {
      "text/plain": [
       "{1: 'M', 2: 'L', 3: 'XL'}"
      ]
     },
     "execution_count": 20,
     "metadata": {},
     "output_type": "execute_result"
    }
   ],
   "source": [
    "inv_size_mapping"
   ]
  },
  {
   "cell_type": "markdown",
   "metadata": {},
   "source": [
    "### Encoding class labels "
   ]
  },
  {
   "cell_type": "code",
   "execution_count": 21,
   "metadata": {},
   "outputs": [
    {
     "data": {
      "text/plain": [
       "{'class1': 0, 'class2': 1}"
      ]
     },
     "execution_count": 21,
     "metadata": {},
     "output_type": "execute_result"
    }
   ],
   "source": [
    "class_mapping = {label: idx for idx, label in enumerate(np.unique(df['classlabel']))}\n",
    "class_mapping"
   ]
  },
  {
   "cell_type": "code",
   "execution_count": 22,
   "metadata": {},
   "outputs": [
    {
     "data": {
      "text/html": [
       "<div>\n",
       "<style scoped>\n",
       "    .dataframe tbody tr th:only-of-type {\n",
       "        vertical-align: middle;\n",
       "    }\n",
       "\n",
       "    .dataframe tbody tr th {\n",
       "        vertical-align: top;\n",
       "    }\n",
       "\n",
       "    .dataframe thead th {\n",
       "        text-align: right;\n",
       "    }\n",
       "</style>\n",
       "<table border=\"1\" class=\"dataframe\">\n",
       "  <thead>\n",
       "    <tr style=\"text-align: right;\">\n",
       "      <th></th>\n",
       "      <th>color</th>\n",
       "      <th>size</th>\n",
       "      <th>price</th>\n",
       "      <th>classlabel</th>\n",
       "    </tr>\n",
       "  </thead>\n",
       "  <tbody>\n",
       "    <tr>\n",
       "      <th>0</th>\n",
       "      <td>green</td>\n",
       "      <td>1</td>\n",
       "      <td>10.1</td>\n",
       "      <td>0</td>\n",
       "    </tr>\n",
       "    <tr>\n",
       "      <th>1</th>\n",
       "      <td>red</td>\n",
       "      <td>2</td>\n",
       "      <td>13.5</td>\n",
       "      <td>1</td>\n",
       "    </tr>\n",
       "    <tr>\n",
       "      <th>2</th>\n",
       "      <td>blue</td>\n",
       "      <td>3</td>\n",
       "      <td>15.3</td>\n",
       "      <td>0</td>\n",
       "    </tr>\n",
       "  </tbody>\n",
       "</table>\n",
       "</div>"
      ],
      "text/plain": [
       "   color  size  price  classlabel\n",
       "0  green     1   10.1           0\n",
       "1    red     2   13.5           1\n",
       "2   blue     3   15.3           0"
      ]
     },
     "execution_count": 22,
     "metadata": {},
     "output_type": "execute_result"
    }
   ],
   "source": [
    "df['classlabel'] = df['classlabel'].map(class_mapping)\n",
    "df"
   ]
  },
  {
   "cell_type": "code",
   "execution_count": 23,
   "metadata": {},
   "outputs": [
    {
     "data": {
      "text/html": [
       "<div>\n",
       "<style scoped>\n",
       "    .dataframe tbody tr th:only-of-type {\n",
       "        vertical-align: middle;\n",
       "    }\n",
       "\n",
       "    .dataframe tbody tr th {\n",
       "        vertical-align: top;\n",
       "    }\n",
       "\n",
       "    .dataframe thead th {\n",
       "        text-align: right;\n",
       "    }\n",
       "</style>\n",
       "<table border=\"1\" class=\"dataframe\">\n",
       "  <thead>\n",
       "    <tr style=\"text-align: right;\">\n",
       "      <th></th>\n",
       "      <th>color</th>\n",
       "      <th>size</th>\n",
       "      <th>price</th>\n",
       "      <th>classlabel</th>\n",
       "    </tr>\n",
       "  </thead>\n",
       "  <tbody>\n",
       "    <tr>\n",
       "      <th>0</th>\n",
       "      <td>green</td>\n",
       "      <td>1</td>\n",
       "      <td>10.1</td>\n",
       "      <td>class1</td>\n",
       "    </tr>\n",
       "    <tr>\n",
       "      <th>1</th>\n",
       "      <td>red</td>\n",
       "      <td>2</td>\n",
       "      <td>13.5</td>\n",
       "      <td>class2</td>\n",
       "    </tr>\n",
       "    <tr>\n",
       "      <th>2</th>\n",
       "      <td>blue</td>\n",
       "      <td>3</td>\n",
       "      <td>15.3</td>\n",
       "      <td>class1</td>\n",
       "    </tr>\n",
       "  </tbody>\n",
       "</table>\n",
       "</div>"
      ],
      "text/plain": [
       "   color  size  price classlabel\n",
       "0  green     1   10.1     class1\n",
       "1    red     2   13.5     class2\n",
       "2   blue     3   15.3     class1"
      ]
     },
     "execution_count": 23,
     "metadata": {},
     "output_type": "execute_result"
    }
   ],
   "source": [
    "inv_class_mapping = {v:k for k,v in class_mapping.items()}\n",
    "df['classlabel'] = df['classlabel'].map(inv_class_mapping)\n",
    "df"
   ]
  },
  {
   "cell_type": "code",
   "execution_count": 24,
   "metadata": {},
   "outputs": [],
   "source": [
    "from sklearn.preprocessing import LabelEncoder"
   ]
  },
  {
   "cell_type": "code",
   "execution_count": 25,
   "metadata": {},
   "outputs": [
    {
     "data": {
      "text/plain": [
       "array([0, 1, 0])"
      ]
     },
     "execution_count": 25,
     "metadata": {},
     "output_type": "execute_result"
    }
   ],
   "source": [
    "class_le = LabelEncoder()\n",
    "y = class_le.fit_transform(df['classlabel'])\n",
    "y"
   ]
  },
  {
   "cell_type": "code",
   "execution_count": 26,
   "metadata": {},
   "outputs": [
    {
     "data": {
      "text/plain": [
       "array(['class1', 'class2', 'class1'], dtype=object)"
      ]
     },
     "execution_count": 26,
     "metadata": {},
     "output_type": "execute_result"
    }
   ],
   "source": [
    "class_le.inverse_transform(y)"
   ]
  },
  {
   "cell_type": "markdown",
   "metadata": {},
   "source": [
    "### Performing one hot encoding on nominal features "
   ]
  },
  {
   "cell_type": "code",
   "execution_count": 27,
   "metadata": {},
   "outputs": [
    {
     "data": {
      "text/plain": [
       "array([['green', 1, 10.1],\n",
       "       ['red', 2, 13.5],\n",
       "       ['blue', 3, 15.3]], dtype=object)"
      ]
     },
     "execution_count": 27,
     "metadata": {},
     "output_type": "execute_result"
    }
   ],
   "source": [
    "X = df[['color', 'size', 'price']].values\n",
    "X"
   ]
  },
  {
   "cell_type": "code",
   "execution_count": 29,
   "metadata": {},
   "outputs": [],
   "source": [
    "color_le = LabelEncoder()"
   ]
  },
  {
   "cell_type": "code",
   "execution_count": 30,
   "metadata": {},
   "outputs": [
    {
     "data": {
      "text/plain": [
       "array([[1, 1, 10.1],\n",
       "       [2, 2, 13.5],\n",
       "       [0, 3, 15.3]], dtype=object)"
      ]
     },
     "execution_count": 30,
     "metadata": {},
     "output_type": "execute_result"
    }
   ],
   "source": [
    "X[:, 0] = color_le.fit_transform(X[:, 0])\n",
    "X"
   ]
  },
  {
   "cell_type": "code",
   "execution_count": 31,
   "metadata": {},
   "outputs": [],
   "source": [
    "from sklearn.preprocessing import OneHotEncoder"
   ]
  },
  {
   "cell_type": "code",
   "execution_count": 32,
   "metadata": {},
   "outputs": [
    {
     "data": {
      "text/plain": [
       "array([[ 0. ,  1. ,  0. ,  1. , 10.1],\n",
       "       [ 0. ,  0. ,  1. ,  2. , 13.5],\n",
       "       [ 1. ,  0. ,  0. ,  3. , 15.3]])"
      ]
     },
     "execution_count": 32,
     "metadata": {},
     "output_type": "execute_result"
    }
   ],
   "source": [
    "ohe = OneHotEncoder(categorical_features = [0])\n",
    "ohe.fit_transform(X).toarray()"
   ]
  },
  {
   "cell_type": "code",
   "execution_count": 33,
   "metadata": {},
   "outputs": [
    {
     "data": {
      "text/html": [
       "<div>\n",
       "<style scoped>\n",
       "    .dataframe tbody tr th:only-of-type {\n",
       "        vertical-align: middle;\n",
       "    }\n",
       "\n",
       "    .dataframe tbody tr th {\n",
       "        vertical-align: top;\n",
       "    }\n",
       "\n",
       "    .dataframe thead th {\n",
       "        text-align: right;\n",
       "    }\n",
       "</style>\n",
       "<table border=\"1\" class=\"dataframe\">\n",
       "  <thead>\n",
       "    <tr style=\"text-align: right;\">\n",
       "      <th></th>\n",
       "      <th>price</th>\n",
       "      <th>size</th>\n",
       "      <th>color_blue</th>\n",
       "      <th>color_green</th>\n",
       "      <th>color_red</th>\n",
       "    </tr>\n",
       "  </thead>\n",
       "  <tbody>\n",
       "    <tr>\n",
       "      <th>0</th>\n",
       "      <td>10.1</td>\n",
       "      <td>1</td>\n",
       "      <td>0</td>\n",
       "      <td>1</td>\n",
       "      <td>0</td>\n",
       "    </tr>\n",
       "    <tr>\n",
       "      <th>1</th>\n",
       "      <td>13.5</td>\n",
       "      <td>2</td>\n",
       "      <td>0</td>\n",
       "      <td>0</td>\n",
       "      <td>1</td>\n",
       "    </tr>\n",
       "    <tr>\n",
       "      <th>2</th>\n",
       "      <td>15.3</td>\n",
       "      <td>3</td>\n",
       "      <td>1</td>\n",
       "      <td>0</td>\n",
       "      <td>0</td>\n",
       "    </tr>\n",
       "  </tbody>\n",
       "</table>\n",
       "</div>"
      ],
      "text/plain": [
       "   price  size  color_blue  color_green  color_red\n",
       "0   10.1     1           0            1          0\n",
       "1   13.5     2           0            0          1\n",
       "2   15.3     3           1            0          0"
      ]
     },
     "execution_count": 33,
     "metadata": {},
     "output_type": "execute_result"
    }
   ],
   "source": [
    "pd.get_dummies(df[['price', 'color', 'size']])"
   ]
  },
  {
   "cell_type": "markdown",
   "metadata": {},
   "source": [
    "### Splitting dataset into training set and test set "
   ]
  },
  {
   "cell_type": "code",
   "execution_count": 34,
   "metadata": {},
   "outputs": [],
   "source": [
    "df_wine = pd.read_csv('https://archive.ics.uci.edu/ml/machine-learning-databases/wine/wine.data', header = None)"
   ]
  },
  {
   "cell_type": "code",
   "execution_count": 36,
   "metadata": {},
   "outputs": [],
   "source": [
    "df_wine.columns = ['Class label',\n",
    "             'Alcohol',\n",
    "             'Malic Acid',\n",
    "             'Ash',\n",
    "             'Alcalinity of ash',\n",
    "             'Magnesium',\n",
    "             'Total phenols',\n",
    "             'Flavanoids',\n",
    "             'Nonflavanoid phenols',\n",
    "             'Proanthocyanins',\n",
    "             'Color intensity',\n",
    "             'Hue',\n",
    "             'OD280/OD315 of diluted wines',\n",
    "             'Proline']"
   ]
  },
  {
   "cell_type": "code",
   "execution_count": 39,
   "metadata": {},
   "outputs": [
    {
     "name": "stdout",
     "output_type": "stream",
     "text": [
      "Class labels  [1 2 3]\n"
     ]
    }
   ],
   "source": [
    "print('Class labels ', np.unique(df_wine['Class label']))"
   ]
  },
  {
   "cell_type": "code",
   "execution_count": 40,
   "metadata": {},
   "outputs": [
    {
     "data": {
      "text/html": [
       "<div>\n",
       "<style scoped>\n",
       "    .dataframe tbody tr th:only-of-type {\n",
       "        vertical-align: middle;\n",
       "    }\n",
       "\n",
       "    .dataframe tbody tr th {\n",
       "        vertical-align: top;\n",
       "    }\n",
       "\n",
       "    .dataframe thead th {\n",
       "        text-align: right;\n",
       "    }\n",
       "</style>\n",
       "<table border=\"1\" class=\"dataframe\">\n",
       "  <thead>\n",
       "    <tr style=\"text-align: right;\">\n",
       "      <th></th>\n",
       "      <th>Class label</th>\n",
       "      <th>Alcohol</th>\n",
       "      <th>Malic Acid</th>\n",
       "      <th>Ash</th>\n",
       "      <th>Alcalinity of ash</th>\n",
       "      <th>Magnesium</th>\n",
       "      <th>Total phenols</th>\n",
       "      <th>Flavanoids</th>\n",
       "      <th>Nonflavanoid phenols</th>\n",
       "      <th>Proanthocyanins</th>\n",
       "      <th>Color intensity</th>\n",
       "      <th>Hue</th>\n",
       "      <th>OD280/OD315 of diluted wines</th>\n",
       "      <th>Proline</th>\n",
       "    </tr>\n",
       "  </thead>\n",
       "  <tbody>\n",
       "    <tr>\n",
       "      <th>0</th>\n",
       "      <td>1</td>\n",
       "      <td>14.23</td>\n",
       "      <td>1.71</td>\n",
       "      <td>2.43</td>\n",
       "      <td>15.6</td>\n",
       "      <td>127</td>\n",
       "      <td>2.80</td>\n",
       "      <td>3.06</td>\n",
       "      <td>0.28</td>\n",
       "      <td>2.29</td>\n",
       "      <td>5.64</td>\n",
       "      <td>1.04</td>\n",
       "      <td>3.92</td>\n",
       "      <td>1065</td>\n",
       "    </tr>\n",
       "    <tr>\n",
       "      <th>1</th>\n",
       "      <td>1</td>\n",
       "      <td>13.20</td>\n",
       "      <td>1.78</td>\n",
       "      <td>2.14</td>\n",
       "      <td>11.2</td>\n",
       "      <td>100</td>\n",
       "      <td>2.65</td>\n",
       "      <td>2.76</td>\n",
       "      <td>0.26</td>\n",
       "      <td>1.28</td>\n",
       "      <td>4.38</td>\n",
       "      <td>1.05</td>\n",
       "      <td>3.40</td>\n",
       "      <td>1050</td>\n",
       "    </tr>\n",
       "    <tr>\n",
       "      <th>2</th>\n",
       "      <td>1</td>\n",
       "      <td>13.16</td>\n",
       "      <td>2.36</td>\n",
       "      <td>2.67</td>\n",
       "      <td>18.6</td>\n",
       "      <td>101</td>\n",
       "      <td>2.80</td>\n",
       "      <td>3.24</td>\n",
       "      <td>0.30</td>\n",
       "      <td>2.81</td>\n",
       "      <td>5.68</td>\n",
       "      <td>1.03</td>\n",
       "      <td>3.17</td>\n",
       "      <td>1185</td>\n",
       "    </tr>\n",
       "    <tr>\n",
       "      <th>3</th>\n",
       "      <td>1</td>\n",
       "      <td>14.37</td>\n",
       "      <td>1.95</td>\n",
       "      <td>2.50</td>\n",
       "      <td>16.8</td>\n",
       "      <td>113</td>\n",
       "      <td>3.85</td>\n",
       "      <td>3.49</td>\n",
       "      <td>0.24</td>\n",
       "      <td>2.18</td>\n",
       "      <td>7.80</td>\n",
       "      <td>0.86</td>\n",
       "      <td>3.45</td>\n",
       "      <td>1480</td>\n",
       "    </tr>\n",
       "    <tr>\n",
       "      <th>4</th>\n",
       "      <td>1</td>\n",
       "      <td>13.24</td>\n",
       "      <td>2.59</td>\n",
       "      <td>2.87</td>\n",
       "      <td>21.0</td>\n",
       "      <td>118</td>\n",
       "      <td>2.80</td>\n",
       "      <td>2.69</td>\n",
       "      <td>0.39</td>\n",
       "      <td>1.82</td>\n",
       "      <td>4.32</td>\n",
       "      <td>1.04</td>\n",
       "      <td>2.93</td>\n",
       "      <td>735</td>\n",
       "    </tr>\n",
       "  </tbody>\n",
       "</table>\n",
       "</div>"
      ],
      "text/plain": [
       "   Class label  Alcohol  Malic Acid   Ash  Alcalinity of ash  Magnesium  \\\n",
       "0            1    14.23        1.71  2.43               15.6        127   \n",
       "1            1    13.20        1.78  2.14               11.2        100   \n",
       "2            1    13.16        2.36  2.67               18.6        101   \n",
       "3            1    14.37        1.95  2.50               16.8        113   \n",
       "4            1    13.24        2.59  2.87               21.0        118   \n",
       "\n",
       "   Total phenols  Flavanoids  Nonflavanoid phenols  Proanthocyanins  \\\n",
       "0           2.80        3.06                  0.28             2.29   \n",
       "1           2.65        2.76                  0.26             1.28   \n",
       "2           2.80        3.24                  0.30             2.81   \n",
       "3           3.85        3.49                  0.24             2.18   \n",
       "4           2.80        2.69                  0.39             1.82   \n",
       "\n",
       "   Color intensity   Hue  OD280/OD315 of diluted wines  Proline  \n",
       "0             5.64  1.04                          3.92     1065  \n",
       "1             4.38  1.05                          3.40     1050  \n",
       "2             5.68  1.03                          3.17     1185  \n",
       "3             7.80  0.86                          3.45     1480  \n",
       "4             4.32  1.04                          2.93      735  "
      ]
     },
     "execution_count": 40,
     "metadata": {},
     "output_type": "execute_result"
    }
   ],
   "source": [
    "df_wine.head()"
   ]
  },
  {
   "cell_type": "code",
   "execution_count": 41,
   "metadata": {},
   "outputs": [],
   "source": [
    "X = df_wine.iloc[:, 1:].values\n",
    "y = df_wine.iloc[:, 0].values"
   ]
  },
  {
   "cell_type": "code",
   "execution_count": 42,
   "metadata": {},
   "outputs": [],
   "source": [
    "from sklearn.model_selection import train_test_split"
   ]
  },
  {
   "cell_type": "code",
   "execution_count": 43,
   "metadata": {},
   "outputs": [],
   "source": [
    "X_train, X_test, y_train, y_test = train_test_split(X, y, test_size = 0.3, random_state = 0)"
   ]
  },
  {
   "cell_type": "markdown",
   "metadata": {},
   "source": [
    "### Feature scaling "
   ]
  },
  {
   "cell_type": "code",
   "execution_count": 44,
   "metadata": {},
   "outputs": [],
   "source": [
    "from sklearn.preprocessing import MinMaxScaler\n",
    "mms = MinMaxScaler()\n",
    "X_train_mms = mms.fit_transform(X_train)\n",
    "X_test_mms = mms.transform(X_test)"
   ]
  },
  {
   "cell_type": "code",
   "execution_count": 46,
   "metadata": {},
   "outputs": [
    {
     "name": "stdout",
     "output_type": "stream",
     "text": [
      "[[0.72043011 0.20378151 0.53763441 ... 0.48717949 1.         0.5854251 ]\n",
      " [0.31989247 0.08403361 0.31182796 ... 0.27350427 0.64102564 0.        ]\n",
      " [0.60215054 0.71218487 0.48387097 ... 0.04273504 0.10622711 0.42348178]\n",
      " ...\n",
      " [0.37365591 0.1512605  0.44623656 ... 0.44444444 0.61904762 0.02672065]\n",
      " [0.77150538 0.16596639 0.40860215 ... 0.31623932 0.75457875 0.54493927]\n",
      " [0.84139785 0.34033613 0.60215054 ... 0.06837607 0.16117216 0.28178138]]\n"
     ]
    }
   ],
   "source": [
    "print(X_train_mms)"
   ]
  },
  {
   "cell_type": "code",
   "execution_count": 47,
   "metadata": {},
   "outputs": [
    {
     "name": "stdout",
     "output_type": "stream",
     "text": [
      "[[ 0.72849462  0.16386555  0.47849462  0.29896907  0.52173913  0.53956835\n",
      "   0.74311927  0.13461538  0.37974684  0.4364852   0.32478632  0.70695971\n",
      "   0.60566802]\n",
      " [ 0.47311828  0.37394958  0.60215054  0.58762887  0.45652174  0.13669065\n",
      "   0.27217125  0.19230769  0.26582278  0.90926457 -0.05128205  0.07326007\n",
      "   0.13603239]\n",
      " [ 0.36021505  0.05042017  0.43010753  0.43298969  0.18478261  0.86330935\n",
      "   0.80428135  0.09615385  0.45886076  0.30276982  0.58119658  0.58608059\n",
      "   0.08744939]\n",
      " [ 0.68010753  0.17647059  0.59139785  0.51030928  0.5         0.66906475\n",
      "   0.70642202  0.11538462  0.64240506  0.47468959  0.37606838  0.64468864\n",
      "   0.65425101]\n",
      " [ 0.54301075  1.03151261  0.41397849  0.56185567  0.17391304  0.54676259\n",
      "   0.66666667  0.30769231  0.50316456  0.1260745   0.16239316  0.67032967\n",
      "   0.05506073]\n",
      " [ 0.14247312  0.24369748  1.00537634  0.92268041  0.5326087   0.74820144\n",
      "   1.40978593  0.63461538  0.45886076  0.45081184  0.33333333  0.88644689\n",
      "   0.12388664]\n",
      " [ 0.81451613  0.26470588  0.67204301  0.36082474  0.55434783  0.53956835\n",
      "   0.62385321  0.32692308  0.26265823  0.36007641  0.44444444  0.84615385\n",
      "   0.79595142]\n",
      " [ 0.35752688  0.61764706  0.5483871   0.53608247  0.19565217  0.43165468\n",
      "   0.13761468  0.69230769  0.19620253  0.60840497  0.01709402  0.11355311\n",
      "   0.16842105]\n",
      " [ 0.32795699  0.17647059  0.40860215  0.43298969  0.10869565  0.19784173\n",
      "   0.47706422  0.44230769  0.38291139  0.20248329  0.39316239  0.6959707\n",
      "   0.16032389]\n",
      " [ 0.28225806  0.19747899  0.51612903  0.40721649  0.11956522  0.17985612\n",
      "   0.31498471  0.73076923  0.38607595  0.1069723   0.46153846  0.36630037\n",
      "   0.13603239]\n",
      " [ 0.62634409  0.35084034  0.53225806  0.48453608  0.20652174  0.10791367\n",
      "   0.00917431  0.44230769  0.06962025  0.41260745  0.13675214  0.43956044\n",
      "   0.37894737]\n",
      " [ 0.76612903  0.87184874  0.46774194  0.48453608  0.10869565 -0.04316547\n",
      "  -0.03975535  0.5         0.08227848  0.34574976  0.03418803  0.02197802\n",
      "   0.08340081]\n",
      " [ 0.85215054  0.18277311  0.58602151  0.2371134   0.45652174  0.78057554\n",
      "   0.89296636  0.38461538  0.49050633  0.52244508  0.43589744  0.57875458\n",
      "   0.92145749]\n",
      " [ 0.36021505  0.03781513  0.39784946  0.40721649  0.19565217  0.8705036\n",
      "   1.0030581   0.19230769  0.48417722  0.30754537  0.42735043  0.54945055\n",
      "   0.28178138]\n",
      " [ 0.68548387  0.35504202  0.71505376  0.71649485  0.38043478  0.1618705\n",
      "   0.11314985  0.48076923  0.35443038  0.70487106  0.17094017  0.19413919\n",
      "   0.35465587]\n",
      " [ 0.26075269  0.00630252  0.34408602  0.43298969  0.17391304  0.47482014\n",
      "   0.54740061  0.30769231  0.31962025  0.1165234   0.71794872  0.67765568\n",
      "  -0.02753036]\n",
      " [ 0.73387097  0.13445378  0.72043011  0.45876289  0.67391304  0.66546763\n",
      "   0.6941896   0.69230769  0.2943038   0.39350525  0.60683761  0.63369963\n",
      "   0.74736842]\n",
      " [ 0.84946237  0.14705882  0.60215054  0.30412371  0.41304348  0.79136691\n",
      "   1.05810398  0.34615385  0.4556962   0.7086915   0.58974359  0.56776557\n",
      "   1.10769231]\n",
      " [ 0.4327957   0.0987395   0.35483871  0.31958763  0.32608696  0.33093525\n",
      "   0.28746177  0.75        0.06329114  0.4269341   0.37606838  0.11721612\n",
      "   0.11174089]\n",
      " [ 0.75268817  0.15966387  0.66666667  0.34020619  0.26086957  0.48561151\n",
      "   0.7706422   0.15384615  0.59177215  0.41260745  0.5982906   0.76923077\n",
      "   0.77165992]\n",
      " [ 0.55913978  0.02521008  0.1827957   0.22680412  0.08695652  0.67625899\n",
      "   0.82874618  0.23076923  0.58860759  0.38395415  0.4957265   0.6996337\n",
      "   0.15384615]\n",
      " [ 0.54301075  0.15966387  0.63978495  0.3814433   0.30434783  0.48561151\n",
      "   0.59938838  0.28846154  0.32278481  0.28366762  0.4957265   0.45421245\n",
      "   0.64210526]\n",
      " [ 0.59408602  0.35714286  0.81182796  0.53608247  0.52173913  0.61151079\n",
      "   0.67889908  0.48076923  0.44303797  0.29035339  0.42735043  0.60805861\n",
      "   0.34251012]\n",
      " [ 0.39784946  0.17647059  0.33333333  0.51030928  0.16304348  0.39568345\n",
      "   0.44342508  0.34615385  0.33544304  0.15854823  0.42735043  0.84249084\n",
      "   0.29149798]\n",
      " [ 0.34946237  0.04411765  0.49462366  0.27835052  0.33695652  0.34172662\n",
      "   0.18960245  0.94230769 -0.00316456  0.19006686  0.60683761  0.14652015\n",
      "   0.29797571]\n",
      " [ 0.40053763  0.32352941  0.43548387  0.53608247  0.19565217  0.52158273\n",
      "   0.55045872  0.23076923  0.25316456  0.06876791  0.30769231  0.55311355\n",
      "   0.01052632]\n",
      " [ 0.37634409  0.13445378  0.5         0.56185567  0.17391304  0.58992806\n",
      "   0.81957187  0.48076923  0.42721519  0.25405922  0.12820513  0.57509158\n",
      "   0.03238866]\n",
      " [ 0.30376344  0.1512605   0.51075269  0.62886598  0.2173913   0.24460432\n",
      "   0.37308869  0.55769231  0.36075949  0.11174785  0.67521368  0.36263736\n",
      "   0.14817814]\n",
      " [ 0.19623656  0.37605042  0.83870968  0.48453608  0.35869565  0.23381295\n",
      "   0.47706422  0.88461538  0.19936709  0.24068768  0.58974359  0.45054945\n",
      "   0.2388664 ]\n",
      " [ 0.73924731  0.39285714  0.50537634  0.58762887  0.2173913   0.08992806\n",
      "   0.06422018  0.51923077  0.19303797  0.79274117  0.13675214  0.15018315\n",
      "   0.24534413]\n",
      " [ 0.6344086   0.18487395  0.67741935  0.28350515  0.25        0.6294964\n",
      "   0.75535168  0.38461538  0.32594937  0.33619866  0.32478632  0.71428571\n",
      "   0.71497976]\n",
      " [ 0.85752688  0.17016807  0.50537634  0.29381443  0.52173913  0.75539568\n",
      "   0.77370031  0.23076923  0.50949367  0.48710602  0.34188034  0.74725275\n",
      "   0.53279352]\n",
      " [ 0.27150538  0.71638655  0.5483871   0.58762887  0.10869565  0.35971223\n",
      "   0.39143731  0.53846154  0.2943038   0.1260745   0.21367521  0.47619048\n",
      "   0.21700405]\n",
      " [ 0.85483871  0.66176471  0.58064516  0.42783505  0.44565217  0.6294964\n",
      "   0.66666667  0.30769231  0.26265823  0.3782235   0.28205128  0.75457875\n",
      "   0.62186235]\n",
      " [ 1.02150538  0.15756303  0.43548387  0.17525773  0.29347826  0.61151079\n",
      "   0.7675841   0.28846154  0.49367089  0.37440306  0.46153846  0.57875458\n",
      "   0.59352227]\n",
      " [ 0.54301075  0.18487395  0.39784946  0.32989691  0.40217391  0.68345324\n",
      "   0.77370031  0.26923077  0.50949367  0.3591213   0.29059829  0.76190476\n",
      "   0.46396761]\n",
      " [ 0.71505376  0.49789916  0.6344086   0.48453608  0.40217391  0.26258993\n",
      "   0.02752294  0.69230769  0.12025316  0.43935053  0.35897436  0.2014652\n",
      "   0.29797571]\n",
      " [ 0.44623656  0.13445378  0.48387097  0.52061856  0.10869565  0.10071942\n",
      "   0.30275229  0.84615385  0.37974684  0.16905444  0.35897436  0.28937729\n",
      "   0.14817814]\n",
      " [ 0.15860215  0.23109244  0.49462366  0.3814433   0.30434783  0.69064748\n",
      "   0.54740061  0.05769231  0.2943038   0.18815664  0.52991453  0.61904762\n",
      "   0.02672065]\n",
      " [ 0.63709677  0.63445378  0.60215054  0.63917526  0.34782609  0.25179856\n",
      "   0.08562691  0.55769231  0.31329114  0.57497612  0.13675214  0.10622711\n",
      "   0.35465587]\n",
      " [ 0.66397849  0.19327731  0.67204301  0.48453608  0.2826087   0.51438849\n",
      "   0.65443425  0.26923077  0.39240506  0.2139446   0.4957265   0.93406593\n",
      "   0.43157895]\n",
      " [ 0.72580645  0.12815126  0.72043011  0.61340206  0.33695652  0.68345324\n",
      "   0.85015291  0.28846154  0.62025316  0.42215855  0.55555556  0.52747253\n",
      "   0.78785425]\n",
      " [ 0.33870968  0.40756303  0.46236559  0.3814433   0.19565217  0.48561151\n",
      "   0.54434251  0.21153846  0.49683544  0.08309456  0.52136752  0.74358974\n",
      "  -0.01781377]\n",
      " [ 0.42204301  0.09453782  0.29032258  0.40721649  0.19565217  0.12589928\n",
      "   0.27217125  0.28846154  0.2943038   0.11174785  0.42735043  0.54945055\n",
      "   0.20242915]\n",
      " [ 0.10215054 -0.03151261  0.61290323  0.53608247  0.19565217  0.49640288\n",
      "   0.47094801  0.53846154  0.32278481  0.17191977  0.47863248  0.38095238\n",
      "   0.09878543]\n",
      " [ 0.7016129   0.46428571  0.64516129  0.2371134   0.5         0.57553957\n",
      "   0.78287462  0.05769231  0.39240506  0.36485196  0.35897436  0.76556777\n",
      "   0.43157895]\n",
      " [ 0.42204301  0.32983193  0.4516129   0.40721649  0.26086957  0.18705036\n",
      "   0.05810398  0.94230769  0.16455696  0.55587393  0.16239316  0.11355311\n",
      "   0.31012146]\n",
      " [ 0.25        0.04201681  0.50537634  0.53608247  0.33695652  0.82014388\n",
      "   0.51070336 -0.01923077  0.38924051  0.1843362   0.38461538  0.68131868\n",
      "   0.46477733]\n",
      " [ 0.32795699  0.62815126  0.4516129   0.40721649  0.45652174  0.10071942\n",
      "   0.09480122  0.28846154  0.2278481   0.66189112  0.09401709  0.26739927\n",
      "   0.43967611]\n",
      " [ 0.87903226  0.21638655  0.7311828   0.48453608  0.54347826  0.61151079\n",
      "   0.81651376  0.36538462  0.49050633  0.46991404  0.45299145  0.50549451\n",
      "   0.78380567]\n",
      " [ 0.49731183  0.44117647  0.55913978  0.48453608  0.36956522  0.07194245\n",
      "   0.2293578   0.19230769  0.12974684  0.39350525  0.17094017  0.05494505\n",
      "   0.17651822]\n",
      " [ 0.66129032  0.56722689  0.44623656  0.45876289  0.19565217  0.18705036\n",
      "   0.0030581   0.84615385  0.14556962  0.42215855  0.23076923  0.2014652\n",
      "   0.21700405]\n",
      " [ 0.68010753  0.17226891  0.51075269  0.28865979  0.51086957  0.73741007\n",
      "   0.86238532  0.38461538  0.60759494  0.46322827  0.35042735  0.77289377\n",
      "   0.39109312]\n",
      " [ 0.88978495  0.16596639  0.72043011  0.74226804  0.30434783  0.61151079\n",
      "   0.25688073  0.75        0.72151899  1.11938873  0.02564103  0.25274725\n",
      "   0.28178138]]\n"
     ]
    }
   ],
   "source": [
    "print(X_test_mms)"
   ]
  },
  {
   "cell_type": "code",
   "execution_count": 48,
   "metadata": {},
   "outputs": [],
   "source": [
    "from sklearn.preprocessing import StandardScaler\n",
    "sc = StandardScaler()\n",
    "X_train_sc = sc.fit_transform(X_train)\n",
    "X_test_sc = sc.transform(X_test)"
   ]
  },
  {
   "cell_type": "code",
   "execution_count": 49,
   "metadata": {},
   "outputs": [
    {
     "name": "stdout",
     "output_type": "stream",
     "text": [
      "[[ 0.91083058 -0.46259897 -0.01142613 ...  0.65706596  1.94354495\n",
      "   0.93700997]\n",
      " [-0.95609928 -0.96608672 -1.53725357 ... -0.40859506  0.58118003\n",
      "  -1.41336684]\n",
      " [ 0.35952243  1.67501572 -0.37471838 ... -1.55950896 -1.44846566\n",
      "   0.28683658]\n",
      " ...\n",
      " [-0.70550467 -0.68342693 -0.62902295 ...  0.44393375  0.49776993\n",
      "  -1.30608823]\n",
      " [ 1.14889546 -0.6215951  -0.88332752 ... -0.19546286  1.0121322\n",
      "   0.77446662]\n",
      " [ 1.47466845  0.11155374  0.42452457 ... -1.43162964 -1.23994042\n",
      "  -0.28206514]]\n"
     ]
    }
   ],
   "source": [
    "print(X_train_sc)"
   ]
  },
  {
   "cell_type": "code",
   "execution_count": 50,
   "metadata": {},
   "outputs": [
    {
     "name": "stdout",
     "output_type": "stream",
     "text": [
      "[[ 0.94841977 -0.63042822 -0.4110476  -0.87677804  1.22679643  0.57147571\n",
      "   0.95620726 -1.24682729  0.01258759  0.36299992 -0.15283642  0.83141032\n",
      "   1.01828164]\n",
      " [-0.24190464  0.25288364  0.42452457  0.69400284  0.81583896 -1.30214437\n",
      "  -0.62636631 -1.00437054 -0.59161664  2.47674005 -2.02839981 -1.57358081\n",
      "  -0.86722119]\n",
      " [-0.76815332 -1.10741662 -0.73801062 -0.14748691 -0.89648384  2.07706327\n",
      "   1.16173629 -1.40846512  0.43217386 -0.23482557  1.1259568   0.37265479\n",
      "  -1.06227321]\n",
      " [ 0.72288462 -0.57742951  0.35186612  0.27325796  1.08981061  1.17371073\n",
      "   0.83288984 -1.3276462   1.40561401  0.5338072   0.10292223  0.59508171\n",
      "   1.21333366]\n",
      " [ 0.08386836  3.01764974 -0.8469983   0.55375455 -0.96497675  0.60493321\n",
      "   0.69929597 -0.51945706  0.66714217 -1.02480926 -0.96273879  0.69239349\n",
      "  -1.19230789]\n",
      " [-1.7830615  -0.29476971  3.14921644  2.51723066  1.29528934  1.54174325\n",
      "   3.19647374  0.85446449  0.43217386  0.42705265 -0.11020997  1.51259278\n",
      "  -0.9159842 ]\n",
      " [ 1.34937115 -0.20643853  0.89680449 -0.54018214  1.43227517  0.57147571\n",
      "   0.55542564 -0.43863814 -0.60840009  0.02138535  0.44393375  1.35967427\n",
      "   1.78223538]\n",
      " [-0.78068305  1.27752538  0.06123232  0.41350626 -0.82799093  0.06961319\n",
      "  -1.07853019  1.09692124 -0.96085256  1.13163269 -1.68738828 -1.4206623\n",
      "  -0.73718652]\n",
      " [-0.91851009 -0.57742951 -0.88332752 -0.14748691 -1.37593422 -1.01775561\n",
      "   0.06215596  0.04627535  0.02937104 -0.68319469  0.18817511  0.78970527\n",
      "  -0.76969519]\n",
      " [-1.13151551 -0.48909832 -0.15674303 -0.28773521 -1.30744131 -1.10139936\n",
      "  -0.48249598  1.25855906  0.04615449 -1.1102129   0.52918664 -0.46144618\n",
      "  -0.86722119]\n",
      " [ 0.47229001  0.15571933 -0.04775535  0.13300967 -0.75949802 -1.43597437\n",
      "  -1.51014116  0.04627535 -1.63219059  0.25624537 -1.09061811 -0.18341253\n",
      "   0.10803889]\n",
      " [ 1.123836    2.34633273 -0.48370605  0.13300967 -1.37593422 -2.1385819\n",
      "  -1.67456439  0.28873209 -1.56505679 -0.04266738 -1.6021354  -1.76820437\n",
      "  -1.07852755]\n",
      " [ 1.52478738 -0.55093015  0.3155369  -1.21337394  0.81583896  1.692302\n",
      "   1.45975339 -0.1961814   0.60000837  0.74731631  0.40130731  0.34485142\n",
      "   2.28611976]\n",
      " [-0.76815332 -1.16041533 -0.95598597 -0.28773521 -0.82799093  2.11052077\n",
      "   1.82970566 -1.00437054  0.56644147 -0.21347466  0.35868087  0.23363796\n",
      "  -0.28206514]\n",
      " [ 0.74794408  0.17338557  1.18743829  1.39524431  0.33638858 -1.18504311\n",
      "  -1.1607418   0.20791318 -0.12168002  1.56292109 -0.92011235 -1.11482528\n",
      "   0.01051288]\n",
      " [-1.23175335 -1.29291211 -1.31927822 -0.14748691 -0.96497675  0.2703582\n",
      "   0.29851435 -0.51945706 -0.30629798 -1.06751108  1.80797986  0.72019686\n",
      "  -1.52389632]\n",
      " [ 0.97347923 -0.75409188  1.22376752 -0.00723862  2.1856972   1.15698198\n",
      "   0.79178403  1.09692124 -0.44056558  0.17084172  1.25383613  0.55337667\n",
      "   1.58718336]\n",
      " [ 1.51225764 -0.70109317  0.42452457 -0.84872838  0.54186731  1.74248826\n",
      "   2.01468179 -0.35781923  0.41539041  1.58000181  1.16858325  0.30314637\n",
      "   3.03381916]\n",
      " [-0.4298506  -0.90425489 -1.24661977 -0.7645794  -0.00607598 -0.39879183\n",
      "  -0.57498405  1.33937798 -1.66575749  0.3202981   0.10292223 -1.40676062\n",
      "  -0.9647472 ]\n",
      " [ 1.06118734 -0.64809445  0.86047527 -0.65238077 -0.41703346  0.32054445\n",
      "   1.04869533 -1.16600837  1.13707879  0.25624537  1.21120969  1.06773893\n",
      "   1.68470937]\n",
      " [ 0.15904674 -1.21341404 -2.40915497 -1.26947326 -1.51292005  1.20716823\n",
      "   1.24394791 -0.84273271  1.12029534  0.1281399   0.6996924   0.80360696\n",
      "  -0.79570212]\n",
      " [ 0.08386836 -0.64809445  0.67882915 -0.4279835  -0.14306181  0.32054445\n",
      "   0.47321403 -0.60027597 -0.28951453 -0.32022922  0.6996924  -0.12780579\n",
      "   1.16457065]\n",
      " [ 0.32193324  0.18221869  1.84136434  0.41350626  1.22679643  0.90605072\n",
      "   0.74040177  0.20791318  0.3482566  -0.29033794  0.35868087  0.45606489\n",
      "  -0.03825012]\n",
      " [-0.59273709 -0.57742951 -1.39193667  0.27325796 -1.03346966 -0.09767432\n",
      "  -0.05088501 -0.35781923 -0.22238072 -0.87962307  0.35868087  1.34577259\n",
      "  -0.24305474]\n",
      " [-0.81827224 -1.13391597 -0.30205993 -0.98897667  0.06241693 -0.34860558\n",
      "  -0.90383051  2.14756713 -2.01820996 -0.73870706  1.25383613 -1.29554715\n",
      "  -0.2170478 ]\n",
      " [-0.58020736  0.04088879 -0.7016814   0.41350626 -0.82799093  0.48783196\n",
      "   0.3087908  -0.84273271 -0.65875045 -1.28102019 -0.2380893   0.24753964\n",
      "  -1.37110557]\n",
      " [-0.69297494 -0.75409188 -0.2657307   0.55375455 -0.96497675  0.80567822\n",
      "   1.21311855  0.20791318  0.26433935 -0.45260486 -1.13324455  0.33094974\n",
      "  -1.28333217]\n",
      " [-1.03127766 -0.68342693 -0.19307225  0.91840011 -0.6910051  -0.80028185\n",
      "  -0.2872434   0.53118883 -0.08811312 -1.08886199  1.59484765 -0.47534787\n",
      "  -0.81845819]\n",
      " [-1.53246689  0.26171675  2.02301047  0.13300967  0.19940275 -0.8504681\n",
      "   0.06215596  1.90511038 -0.94406911 -0.51238741  1.16858325 -0.14170748\n",
      "  -0.45436109]\n",
      " [ 0.99853869  0.3323817  -0.22940148  0.69400284 -0.6910051  -1.51961813\n",
      "  -1.32516503  0.369551   -0.97763601  1.95577784 -1.09061811 -1.28164547\n",
      "  -0.42835416]\n",
      " [ 0.5098792  -0.54209703  0.93313372 -0.96092702 -0.48552637  0.98969448\n",
      "   0.99731307 -0.1961814  -0.27273108 -0.0853692  -0.15283642  0.85921369\n",
      "   1.45714868]\n",
      " [ 1.54984684 -0.60392886 -0.22940148 -0.9048277   1.22679643  1.57520075\n",
      "   1.05897178 -0.84273271  0.70070907  0.58931957 -0.06758353  0.98432883\n",
      "   0.72570362]\n",
      " [-1.18163443  1.69268196  0.06123232  0.69400284 -1.37593422 -0.26496183\n",
      "  -0.22558469  0.45036992 -0.44056558 -1.02480926 -0.70698014 -0.0443957\n",
      "  -0.5421345 ]\n",
      " [ 1.53731711  1.46302087  0.27920767 -0.17553657  0.74734605  0.98969448\n",
      "   0.69929597 -0.51945706 -0.60840009  0.10251881 -0.36596862  1.0121322\n",
      "   1.08329898]\n",
      " [ 2.3141604  -0.65692757 -0.7016814  -1.54996985 -0.21155472  0.90605072\n",
      "   1.03841887 -0.60027597  0.61679182  0.08543808  0.52918664  0.34485142\n",
      "   0.96951864]\n",
      " [ 0.08386836 -0.54209703 -0.95598597 -0.70848009  0.4733744   1.24062574\n",
      "   1.05897178 -0.68109488  0.70070907  0.01711517 -0.32334218  1.03993557\n",
      "   0.44937992]\n",
      " [ 0.88577112  0.77403763  0.64249992  0.13300967  0.4733744  -0.71663809\n",
      "  -1.44848245  1.09692124 -1.36365538  0.37581046  0.01766935 -1.08702191\n",
      "  -0.2170478 ]\n",
      " [-0.36720194 -0.75409188 -0.37471838  0.32935728 -1.37593422 -1.46943187\n",
      "  -0.52360179  1.74347255  0.01258759 -0.83265107  0.01766935 -0.75338152\n",
      "  -0.81845819]\n",
      " [-1.70788312 -0.34776842 -0.30205993 -0.4279835  -0.14306181  1.27408324\n",
      "   0.29851435 -1.57010295 -0.44056558 -0.74724743  0.87019816  0.49776993\n",
      "  -1.30608823]\n",
      " [ 0.52240893  1.34819033  0.42452457  0.97449943  0.13090984 -0.76682435\n",
      "  -1.25322986  0.53118883 -0.33986488  0.98217632 -1.09061811 -1.44846566\n",
      "   0.01051288]\n",
      " [ 0.64770623 -0.50676456  0.89680449  0.13300967 -0.28004763  0.45437445\n",
      "   0.65819016 -0.68109488  0.07972139 -0.63195251  0.6996924   1.69331466\n",
      "   0.31934525]\n",
      " [ 0.93589004 -0.78059123  1.22376752  0.83425114  0.06241693  1.24062574\n",
      "   1.31588307 -0.60027597  1.28812985  0.29894719  0.99807748  0.15022786\n",
      "   1.74972671]\n",
      " [-0.86839117  0.39421353 -0.52003528 -0.4279835  -0.82799093  0.32054445\n",
      "   0.2882379  -0.92355163  0.63357527 -1.21696746  0.82757172  0.97042715\n",
      "  -1.48488592]\n",
      " [-0.47996952 -0.92192113 -1.68257047 -0.28773521 -0.82799093 -1.35233062\n",
      "  -0.62636631 -0.60027597 -0.44056558 -1.08886199  0.35868087  0.23363796\n",
      "  -0.6006501 ]\n",
      " [-1.97100746 -1.45190824  0.49718302  0.41350626 -0.82799093  0.3707307\n",
      "   0.04160305  0.45036992 -0.28951453 -0.81984052  0.61443952 -0.40583945\n",
      "  -1.01676107]\n",
      " [ 0.82312246  0.63270773  0.71515837 -1.21337394  1.08981061  0.73876322\n",
      "   1.08980113 -1.57010295  0.07972139  0.04273626  0.01766935  1.05383725\n",
      "   0.31934525]\n",
      " [-0.47996952  0.06738815 -0.59269372 -0.28773521 -0.41703346 -1.06794186\n",
      "  -1.34571793  2.14756713 -1.12868707  0.89677268 -0.96273879 -1.4206623\n",
      "  -0.1682848 ]\n",
      " [-1.28187228 -1.14274909 -0.22940148  0.41350626  0.06241693  1.87631826\n",
      "   0.17519693 -1.8933786   0.06293794 -0.76432815  0.14554867  0.73409854\n",
      "   0.45263079]\n",
      " [-0.91851009  1.32169098 -0.59269372 -0.28773521  0.81583896 -1.46943187\n",
      "  -1.22240051 -0.60027597 -0.79301805  1.37076289 -1.30375031 -0.83679162\n",
      "   0.35185392]\n",
      " [ 1.65008468 -0.40960025  1.29642597  0.13300967  1.36378226  0.90605072\n",
      "   1.2028421  -0.27700031  0.60000837  0.51245629  0.48656019  0.06681777\n",
      "   1.73347237]\n",
      " [-0.12913706  0.53554343  0.13389077  0.13300967  0.26789566 -1.60326188\n",
      "  -0.77023663 -1.00437054 -1.31330503  0.17084172 -0.92011235 -1.64308922\n",
      "  -0.70467785]\n",
      " [ 0.6351765   1.06553054 -0.62902295 -0.00723862 -0.82799093 -1.06794186\n",
      "  -1.53069406  1.74347255 -1.22938777  0.29894719 -0.62172726 -1.08702191\n",
      "  -0.5421345 ]\n",
      " [ 0.72288462 -0.59509574 -0.19307225 -0.93287736  1.15830352  1.491557\n",
      "   1.35698888 -0.1961814   1.22099605  0.48256502 -0.02495709  1.08164061\n",
      "   0.1568019 ]\n",
      " [ 1.7002036  -0.6215951   1.22376752  1.5354926  -0.14306181  0.90605072\n",
      "  -0.67774857  1.33937798  1.82520028  3.41618011 -1.64476184 -0.89239835\n",
      "  -0.28206514]]\n"
     ]
    }
   ],
   "source": [
    "print(X_test_sc)"
   ]
  },
  {
   "cell_type": "markdown",
   "metadata": {},
   "source": [
    "### Selecting meaningful features "
   ]
  },
  {
   "cell_type": "code",
   "execution_count": 51,
   "metadata": {},
   "outputs": [],
   "source": [
    "from sklearn.linear_model import LogisticRegression"
   ]
  },
  {
   "cell_type": "code",
   "execution_count": 52,
   "metadata": {},
   "outputs": [
    {
     "data": {
      "text/plain": [
       "LogisticRegression(C=0.1, class_weight=None, dual=False, fit_intercept=True,\n",
       "          intercept_scaling=1, max_iter=100, multi_class='ovr', n_jobs=1,\n",
       "          penalty='l1', random_state=None, solver='liblinear', tol=0.0001,\n",
       "          verbose=0, warm_start=False)"
      ]
     },
     "execution_count": 52,
     "metadata": {},
     "output_type": "execute_result"
    }
   ],
   "source": [
    "lr = LogisticRegression(C = 0.1, penalty = 'l1')\n",
    "lr.fit(X_train_sc, y_train)"
   ]
  },
  {
   "cell_type": "code",
   "execution_count": 53,
   "metadata": {},
   "outputs": [
    {
     "name": "stdout",
     "output_type": "stream",
     "text": [
      "Training accuracy  0.9838709677419355\n"
     ]
    }
   ],
   "source": [
    "print('Training accuracy ', lr.score(X_train_sc, y_train))"
   ]
  },
  {
   "cell_type": "code",
   "execution_count": 54,
   "metadata": {},
   "outputs": [
    {
     "name": "stdout",
     "output_type": "stream",
     "text": [
      "Test accuracy  0.9814814814814815\n"
     ]
    }
   ],
   "source": [
    "print('Test accuracy ', lr.score(X_test_sc, y_test))"
   ]
  },
  {
   "cell_type": "code",
   "execution_count": 55,
   "metadata": {},
   "outputs": [
    {
     "data": {
      "text/plain": [
       "array([-0.38380794, -0.15808905, -0.7003888 ])"
      ]
     },
     "execution_count": 55,
     "metadata": {},
     "output_type": "execute_result"
    }
   ],
   "source": [
    "lr.intercept_"
   ]
  },
  {
   "cell_type": "code",
   "execution_count": 56,
   "metadata": {},
   "outputs": [
    {
     "data": {
      "text/plain": [
       "array([[ 0.28008549,  0.        ,  0.        , -0.02792869,  0.        ,\n",
       "         0.        ,  0.70997377,  0.        ,  0.        ,  0.        ,\n",
       "         0.        ,  0.        ,  1.23667747],\n",
       "       [-0.6439272 , -0.06874971, -0.05720031,  0.        ,  0.        ,\n",
       "         0.        ,  0.        ,  0.        ,  0.        , -0.92680976,\n",
       "         0.06021178,  0.        , -0.37110488],\n",
       "       [ 0.        ,  0.06147565,  0.        ,  0.        ,  0.        ,\n",
       "         0.        , -0.63648988,  0.        ,  0.        ,  0.49828335,\n",
       "        -0.3581456 , -0.57082459,  0.        ]])"
      ]
     },
     "execution_count": 56,
     "metadata": {},
     "output_type": "execute_result"
    }
   ],
   "source": [
    "lr.coef_"
   ]
  },
  {
   "cell_type": "code",
   "execution_count": 58,
   "metadata": {},
   "outputs": [
    {
     "data": {
      "image/png": "[encoded data removed]",
      "text/plain": [
       "<Figure size 432x288 with 1 Axes>"
      ]
     },
     "metadata": {},
     "output_type": "display_data"
    }
   ],
   "source": [
    "import matplotlib.pyplot as plt\n",
    "\n",
    "fig = plt.figure()\n",
    "ax = plt.subplot(111)\n",
    "    \n",
    "colors = ['blue', 'green', 'red', 'cyan', \n",
    "          'magenta', 'yellow', 'black', \n",
    "          'pink', 'lightgreen', 'lightblue', \n",
    "          'gray', 'indigo', 'orange']\n",
    "\n",
    "weights, params = [], []\n",
    "for c in np.arange(-4., 6.):\n",
    "    lr = LogisticRegression(penalty='l1', C=10.**c, random_state=0)\n",
    "    lr.fit(X_train_sc, y_train)\n",
    "    weights.append(lr.coef_[1])\n",
    "    params.append(10**c)\n",
    "\n",
    "weights = np.array(weights)\n",
    "\n",
    "for column, color in zip(range(weights.shape[1]), colors):\n",
    "    plt.plot(params, weights[:, column],\n",
    "             label=df_wine.columns[column + 1],\n",
    "             color=color)\n",
    "plt.axhline(0, color='black', linestyle='--', linewidth=3)\n",
    "plt.xlim([10**(-5), 10**5])\n",
    "plt.ylabel('weight coefficient')\n",
    "plt.xlabel('C')\n",
    "plt.xscale('log')\n",
    "plt.legend(loc='upper left')\n",
    "ax.legend(loc='upper center', \n",
    "          bbox_to_anchor=(1.38, 1.03),\n",
    "          ncol=1, fancybox=True)\n",
    "plt.show()"
   ]
  },
  {
   "cell_type": "markdown",
   "metadata": {},
   "source": [
    "#### Sequential Backward Selection (SBS)"
   ]
  },
  {
   "cell_type": "code",
   "execution_count": 59,
   "metadata": {},
   "outputs": [],
   "source": [
    "from sklearn.base import clone\n",
    "from itertools import combinations\n",
    "import numpy as np\n",
    "from sklearn.metrics import accuracy_score\n",
    "from sklearn.model_selection import train_test_split\n",
    "\n",
    "\n",
    "class SBS():\n",
    "    def __init__(self, estimator, k_features, scoring=accuracy_score,\n",
    "                 test_size=0.25, random_state=1):\n",
    "        self.scoring = scoring\n",
    "        self.estimator = clone(estimator)\n",
    "        self.k_features = k_features\n",
    "        self.test_size = test_size\n",
    "        self.random_state = random_state\n",
    "\n",
    "    def fit(self, X, y):\n",
    "        \n",
    "        X_train, X_test, y_train, y_test = \\\n",
    "            train_test_split(X, y, test_size=self.test_size,\n",
    "                             random_state=self.random_state)\n",
    "\n",
    "        dim = X_train.shape[1]\n",
    "        self.indices_ = tuple(range(dim))\n",
    "        self.subsets_ = [self.indices_]\n",
    "        score = self._calc_score(X_train, y_train, \n",
    "                                 X_test, y_test, self.indices_)\n",
    "        self.scores_ = [score]\n",
    "\n",
    "        while dim > self.k_features:\n",
    "            scores = []\n",
    "            subsets = []\n",
    "\n",
    "            for p in combinations(self.indices_, r=dim - 1):\n",
    "                score = self._calc_score(X_train, y_train, \n",
    "                                         X_test, y_test, p)\n",
    "                scores.append(score)\n",
    "                subsets.append(p)\n",
    "\n",
    "            best = np.argmax(scores)\n",
    "            self.indices_ = subsets[best]\n",
    "            self.subsets_.append(self.indices_)\n",
    "            dim -= 1\n",
    "\n",
    "            self.scores_.append(scores[best])\n",
    "        self.k_score_ = self.scores_[-1]\n",
    "\n",
    "        return self\n",
    "\n",
    "    def transform(self, X):\n",
    "        return X[:, self.indices_]\n",
    "\n",
    "    def _calc_score(self, X_train, y_train, X_test, y_test, indices):\n",
    "        self.estimator.fit(X_train[:, indices], y_train)\n",
    "        y_pred = self.estimator.predict(X_test[:, indices])\n",
    "        score = self.scoring(y_test, y_pred)\n",
    "        return score"
   ]
  },
  {
   "cell_type": "code",
   "execution_count": 60,
   "metadata": {},
   "outputs": [],
   "source": [
    "from sklearn.neighbors import KNeighborsClassifier"
   ]
  },
  {
   "cell_type": "code",
   "execution_count": 61,
   "metadata": {},
   "outputs": [],
   "source": [
    "knn = KNeighborsClassifier(n_neighbors = 2)"
   ]
  },
  {
   "cell_type": "code",
   "execution_count": 62,
   "metadata": {},
   "outputs": [
    {
     "data": {
      "text/plain": [
       "<__main__.SBS at 0x11ca216d8>"
      ]
     },
     "execution_count": 62,
     "metadata": {},
     "output_type": "execute_result"
    }
   ],
   "source": [
    "sbs = SBS(knn, k_features = 1)\n",
    "sbs.fit(X_train_sc, y_train)"
   ]
  },
  {
   "cell_type": "code",
   "execution_count": 63,
   "metadata": {},
   "outputs": [
    {
     "data": {
      "image/png": "[encoded data removed]",
      "text/plain": [
       "<Figure size 432x288 with 1 Axes>"
      ]
     },
     "metadata": {},
     "output_type": "display_data"
    }
   ],
   "source": [
    "k_feat = [len(k) for k in sbs.subsets_]\n",
    "plt.plot(k_feat, sbs.scores_, marker = 'o')\n",
    "plt.ylim([0.7, 1.1])\n",
    "plt.ylabel('Accuracy')\n",
    "plt.xlabel('Number of features')\n",
    "plt.grid()\n",
    "plt.show()"
   ]
  },
  {
   "cell_type": "code",
   "execution_count": 64,
   "metadata": {},
   "outputs": [
    {
     "name": "stdout",
     "output_type": "stream",
     "text": [
      "Index(['Alcohol', 'Malic Acid', 'Alcalinity of ash', 'Hue', 'Proline'], dtype='object')\n"
     ]
    }
   ],
   "source": [
    "k5 = list(sbs.subsets_[8])\n",
    "print(df_wine.columns[1:][k5])"
   ]
  },
  {
   "cell_type": "code",
   "execution_count": 65,
   "metadata": {},
   "outputs": [
    {
     "name": "stdout",
     "output_type": "stream",
     "text": [
      "Training accuracy  0.9838709677419355\n",
      "Testing accuracy  0.9444444444444444\n"
     ]
    }
   ],
   "source": [
    "knn.fit(X_train_sc, y_train)\n",
    "print('Training accuracy ', knn.score(X_train_sc, y_train))\n",
    "print('Testing accuracy ', knn.score(X_test_sc, y_test))"
   ]
  },
  {
   "cell_type": "code",
   "execution_count": 66,
   "metadata": {},
   "outputs": [
    {
     "name": "stdout",
     "output_type": "stream",
     "text": [
      "Training accuracy  0.9596774193548387\n",
      "Testing accuracy  0.9629629629629629\n"
     ]
    }
   ],
   "source": [
    "knn.fit(X_train_sc[:, k5], y_train)\n",
    "print('Training accuracy ', knn.score(X_train_sc[:, k5], y_train))\n",
    "print('Testing accuracy ', knn.score(X_test_sc[:, k5], y_test))"
   ]
  },
  {
   "cell_type": "markdown",
   "metadata": {},
   "source": [
    "#### Assessing feature importance with random forests "
   ]
  },
  {
   "cell_type": "code",
   "execution_count": 67,
   "metadata": {},
   "outputs": [],
   "source": [
    "from sklearn.ensemble import RandomForestClassifier"
   ]
  },
  {
   "cell_type": "code",
   "execution_count": 68,
   "metadata": {},
   "outputs": [],
   "source": [
    "feat_labels = df_wine.columns[1:]"
   ]
  },
  {
   "cell_type": "code",
   "execution_count": 69,
   "metadata": {},
   "outputs": [],
   "source": [
    "forest = RandomForestClassifier(n_estimators = 10000,\n",
    "                               random_state = 0,\n",
    "                               n_jobs = -1)"
   ]
  },
  {
   "cell_type": "code",
   "execution_count": 70,
   "metadata": {},
   "outputs": [
    {
     "data": {
      "text/plain": [
       "RandomForestClassifier(bootstrap=True, class_weight=None, criterion='gini',\n",
       "            max_depth=None, max_features='auto', max_leaf_nodes=None,\n",
       "            min_impurity_decrease=0.0, min_impurity_split=None,\n",
       "            min_samples_leaf=1, min_samples_split=2,\n",
       "            min_weight_fraction_leaf=0.0, n_estimators=10000, n_jobs=-1,\n",
       "            oob_score=False, random_state=0, verbose=0, warm_start=False)"
      ]
     },
     "execution_count": 70,
     "metadata": {},
     "output_type": "execute_result"
    }
   ],
   "source": [
    "forest.fit(X_train, y_train)"
   ]
  },
  {
   "cell_type": "code",
   "execution_count": 75,
   "metadata": {},
   "outputs": [
    {
     "name": "stdout",
     "output_type": "stream",
     "text": [
      " 1) Color intensity                0.182483\n",
      " 2) Proline                        0.158610\n",
      " 3) Flavanoids                     0.150948\n",
      " 4) OD280/OD315 of diluted wines   0.131987\n",
      " 5) Alcohol                        0.106589\n",
      " 6) Hue                            0.078243\n",
      " 7) Total phenols                  0.060718\n",
      " 8) Alcalinity of ash              0.032033\n",
      " 9) Malic Acid                     0.025400\n",
      "10) Proanthocyanins                0.022351\n",
      "11) Magnesium                      0.022078\n",
      "12) Nonflavanoid phenols           0.014645\n",
      "13) Ash                            0.013916\n"
     ]
    }
   ],
   "source": [
    "importances = forest.feature_importances_\n",
    "indices = np.argsort(importances)[::-1]\n",
    "for f in range(X_train.shape[1]):\n",
    "    print(\"%2d) %-*s %f\" %(f + 1, 30,\n",
    "                          feat_labels[indices[f]],\n",
    "                          importances[indices[f]]))"
   ]
  },
  {
   "cell_type": "code",
   "execution_count": 76,
   "metadata": {},
   "outputs": [
    {
     "data": {
      "image/png": "[encoded data removed]",
      "text/plain": [
       "<Figure size 432x288 with 1 Axes>"
      ]
     },
     "metadata": {},
     "output_type": "display_data"
    }
   ],
   "source": [
    "plt.title('Feature Importances')\n",
    "plt.bar(range(X_train.shape[1]),\n",
    "       importances[indices],\n",
    "       color = 'lightblue',\n",
    "       align = 'center')\n",
    "plt.xticks(range(X_train.shape[1]),\n",
    "          feat_labels[indices], rotation = 90)\n",
    "plt.xlim([-1, X_train.shape[1]])\n",
    "plt.tight_layout()\n",
    "plt.show()"
   ]
  },
  {
   "cell_type": "code",
   "execution_count": 79,
   "metadata": {},
   "outputs": [],
   "source": [
    "from sklearn.feature_selection import SelectFromModel"
   ]
  },
  {
   "cell_type": "code",
   "execution_count": 84,
   "metadata": {},
   "outputs": [],
   "source": [
    "sfm = SelectFromModel(forest, threshold = 0.1, prefit = True)"
   ]
  },
  {
   "cell_type": "code",
   "execution_count": 85,
   "metadata": {},
   "outputs": [],
   "source": [
    "X_selected = sfm.transform(X_train)"
   ]
  },
  {
   "cell_type": "code",
   "execution_count": 86,
   "metadata": {},
   "outputs": [
    {
     "data": {
      "text/plain": [
       "(124, 5)"
      ]
     },
     "execution_count": 86,
     "metadata": {},
     "output_type": "execute_result"
    }
   ],
   "source": [
    "X_selected.shape"
   ]
  },
  {
   "cell_type": "code",
   "execution_count": 87,
   "metadata": {},
   "outputs": [
    {
     "data": {
      "text/plain": [
       "array([[1.371000e+01, 2.880000e+00, 3.800000e+00, 4.000000e+00,\n",
       "        1.035000e+03],\n",
       "       [1.222000e+01, 2.040000e+00, 2.700000e+00, 3.020000e+00,\n",
       "        3.120000e+02],\n",
       "       [1.327000e+01, 6.900000e-01, 1.020000e+01, 1.560000e+00,\n",
       "        8.350000e+02],\n",
       "       [1.316000e+01, 5.500000e-01, 4.000000e+00, 1.680000e+00,\n",
       "        8.300000e+02],\n",
       "       [1.386000e+01, 2.860000e+00, 3.380000e+00, 3.160000e+00,\n",
       "        4.100000e+02],\n",
       "       [1.285000e+01, 6.000000e-01, 5.580000e+00, 2.110000e+00,\n",
       "        5.700000e+02],\n",
       "       [1.384000e+01, 8.300000e-01, 9.010000e+00, 1.640000e+00,\n",
       "        4.800000e+02],\n",
       "       [1.330000e+01, 2.190000e+00, 3.950000e+00, 2.770000e+00,\n",
       "        1.285000e+03],\n",
       "       [1.305000e+01, 1.590000e+00, 4.800000e+00, 2.010000e+00,\n",
       "        5.150000e+02],\n",
       "       [1.251000e+01, 5.800000e-01, 5.450000e+00, 1.510000e+00,\n",
       "        6.500000e+02],\n",
       "       [1.229000e+01, 2.500000e+00, 2.900000e+00, 2.740000e+00,\n",
       "        4.280000e+02],\n",
       "       [1.277000e+01, 1.250000e+00, 3.400000e+00, 2.120000e+00,\n",
       "        3.720000e+02],\n",
       "       [1.296000e+01, 7.000000e-01, 5.280000e+00, 1.750000e+00,\n",
       "        6.750000e+02],\n",
       "       [1.367000e+01, 1.790000e+00, 3.800000e+00, 2.460000e+00,\n",
       "        6.300000e+02],\n",
       "       [1.316000e+01, 3.240000e+00, 5.680000e+00, 3.170000e+00,\n",
       "        1.185000e+03],\n",
       "       [1.237000e+01, 5.700000e-01, 1.950000e+00, 1.820000e+00,\n",
       "        5.200000e+02],\n",
       "       [1.247000e+01, 2.270000e+00, 2.600000e+00, 2.630000e+00,\n",
       "        9.370000e+02],\n",
       "       [1.181000e+01, 9.900000e-01, 2.500000e+00, 2.260000e+00,\n",
       "        6.250000e+02],\n",
       "       [1.324000e+01, 2.630000e+00, 4.360000e+00, 3.000000e+00,\n",
       "        6.800000e+02],\n",
       "       [1.410000e+01, 3.320000e+00, 5.750000e+00, 3.170000e+00,\n",
       "        1.510000e+03],\n",
       "       [1.161000e+01, 2.920000e+00, 2.650000e+00, 3.260000e+00,\n",
       "        6.800000e+02],\n",
       "       [1.299000e+01, 2.890000e+00, 3.350000e+00, 3.500000e+00,\n",
       "        9.850000e+02],\n",
       "       [1.277000e+01, 5.100000e-01, 9.899999e+00, 1.630000e+00,\n",
       "        4.700000e+02],\n",
       "       [1.348000e+01, 1.100000e+00, 1.175000e+01, 1.780000e+00,\n",
       "        6.200000e+02],\n",
       "       [1.146000e+01, 2.580000e+00, 2.900000e+00, 2.810000e+00,\n",
       "        5.620000e+02],\n",
       "       [1.207000e+01, 2.650000e+00, 2.760000e+00, 3.280000e+00,\n",
       "        3.780000e+02],\n",
       "       [1.182000e+01, 1.600000e+00, 1.950000e+00, 3.330000e+00,\n",
       "        4.950000e+02],\n",
       "       [1.345000e+01, 9.200000e-01, 1.068000e+01, 1.560000e+00,\n",
       "        6.950000e+02],\n",
       "       [1.220000e+01, 4.900000e-01, 5.500000e+00, 1.830000e+00,\n",
       "        5.100000e+02],\n",
       "       [1.305000e+01, 3.270000e+00, 7.200000e+00, 2.910000e+00,\n",
       "        1.150000e+03],\n",
       "       [1.317000e+01, 6.300000e-01, 7.900000e+00, 1.480000e+00,\n",
       "        7.250000e+02],\n",
       "       [1.208000e+01, 1.590000e+00, 1.740000e+00, 3.210000e+00,\n",
       "        6.250000e+02],\n",
       "       [1.217000e+01, 1.750000e+00, 2.950000e+00, 2.230000e+00,\n",
       "        3.550000e+02],\n",
       "       [1.242000e+01, 2.130000e+00, 2.080000e+00, 3.120000e+00,\n",
       "        3.650000e+02],\n",
       "       [1.187000e+01, 3.030000e+00, 2.800000e+00, 3.640000e+00,\n",
       "        3.800000e+02],\n",
       "       [1.221000e+01, 1.280000e+00, 2.850000e+00, 3.070000e+00,\n",
       "        7.180000e+02],\n",
       "       [1.394000e+01, 3.540000e+00, 8.900000e+00, 3.100000e+00,\n",
       "        1.260000e+03],\n",
       "       [1.410000e+01, 2.920000e+00, 6.200000e+00, 2.750000e+00,\n",
       "        1.060000e+03],\n",
       "       [1.267000e+01, 1.940000e+00, 2.620000e+00, 3.160000e+00,\n",
       "        4.500000e+02],\n",
       "       [1.475000e+01, 3.690000e+00, 5.400000e+00, 2.730000e+00,\n",
       "        1.150000e+03],\n",
       "       [1.225000e+01, 4.700000e-01, 3.850000e+00, 1.270000e+00,\n",
       "        7.200000e+02],\n",
       "       [1.285000e+01, 2.370000e+00, 3.930000e+00, 3.630000e+00,\n",
       "        1.015000e+03],\n",
       "       [1.373000e+01, 4.700000e-01, 6.620000e+00, 1.750000e+00,\n",
       "        5.200000e+02],\n",
       "       [1.406000e+01, 3.170000e+00, 5.650000e+00, 3.710000e+00,\n",
       "        7.800000e+02],\n",
       "       [1.363000e+01, 2.910000e+00, 7.300000e+00, 2.880000e+00,\n",
       "        1.310000e+03],\n",
       "       [1.233000e+01, 1.850000e+00, 3.400000e+00, 2.310000e+00,\n",
       "        7.500000e+02],\n",
       "       [1.382000e+01, 3.740000e+00, 7.050000e+00, 3.260000e+00,\n",
       "        1.190000e+03],\n",
       "       [1.208000e+01, 2.170000e+00, 3.300000e+00, 2.960000e+00,\n",
       "        7.100000e+02],\n",
       "       [1.303000e+01, 2.030000e+00, 4.600000e+00, 2.480000e+00,\n",
       "        3.920000e+02],\n",
       "       [1.437000e+01, 3.490000e+00, 7.800000e+00, 3.450000e+00,\n",
       "        1.480000e+03],\n",
       "       [1.317000e+01, 6.800000e-01, 9.300000e+00, 1.620000e+00,\n",
       "        8.400000e+02],\n",
       "       [1.272000e+01, 1.760000e+00, 3.300000e+00, 2.420000e+00,\n",
       "        4.880000e+02],\n",
       "       [1.439000e+01, 2.520000e+00, 5.250000e+00, 3.580000e+00,\n",
       "        1.290000e+03],\n",
       "       [1.334000e+01, 1.300000e+00, 3.170000e+00, 1.930000e+00,\n",
       "        7.500000e+02],\n",
       "       [1.166000e+01, 1.570000e+00, 3.800000e+00, 2.140000e+00,\n",
       "        4.280000e+02],\n",
       "       [1.184000e+01, 2.210000e+00, 3.050000e+00, 3.080000e+00,\n",
       "        5.200000e+02],\n",
       "       [1.286000e+01, 1.250000e+00, 4.100000e+00, 1.290000e+00,\n",
       "        6.300000e+02],\n",
       "       [1.375000e+01, 2.760000e+00, 5.600000e+00, 2.900000e+00,\n",
       "        1.320000e+03],\n",
       "       [1.253000e+01, 6.000000e-01, 5.000000e+00, 1.690000e+00,\n",
       "        5.150000e+02],\n",
       "       [1.311000e+01, 1.280000e+00, 7.100000e+00, 1.330000e+00,\n",
       "        4.250000e+02],\n",
       "       [1.438000e+01, 3.640000e+00, 7.500000e+00, 3.000000e+00,\n",
       "        1.547000e+03],\n",
       "       [1.423000e+01, 3.060000e+00, 5.640000e+00, 3.920000e+00,\n",
       "        1.065000e+03],\n",
       "       [1.200000e+01, 1.250000e+00, 3.600000e+00, 2.650000e+00,\n",
       "        4.500000e+02],\n",
       "       [1.323000e+01, 8.300000e-01, 1.052000e+01, 1.510000e+00,\n",
       "        6.750000e+02],\n",
       "       [1.438000e+01, 3.170000e+00, 4.900000e+00, 3.440000e+00,\n",
       "        1.065000e+03],\n",
       "       [1.412000e+01, 2.430000e+00, 5.000000e+00, 2.820000e+00,\n",
       "        1.280000e+03],\n",
       "       [1.200000e+01, 1.640000e+00, 1.280000e+00, 3.050000e+00,\n",
       "        5.640000e+02],\n",
       "       [1.234000e+01, 2.110000e+00, 2.800000e+00, 3.380000e+00,\n",
       "        4.380000e+02],\n",
       "       [1.348000e+01, 2.980000e+00, 5.100000e+00, 3.470000e+00,\n",
       "        9.200000e+02],\n",
       "       [1.329000e+01, 3.230000e+00, 6.000000e+00, 2.840000e+00,\n",
       "        1.270000e+03],\n",
       "       [1.341000e+01, 2.680000e+00, 4.280000e+00, 3.000000e+00,\n",
       "        1.035000e+03],\n",
       "       [1.371000e+01, 6.100000e-01, 7.700000e+00, 1.740000e+00,\n",
       "        7.400000e+02],\n",
       "       [1.237000e+01, 2.650000e+00, 4.600000e+00, 2.300000e+00,\n",
       "        6.780000e+02],\n",
       "       [1.320000e+01, 2.760000e+00, 4.380000e+00, 3.400000e+00,\n",
       "        1.050000e+03],\n",
       "       [1.145000e+01, 2.790000e+00, 3.250000e+00, 3.390000e+00,\n",
       "        6.250000e+02],\n",
       "       [1.362000e+01, 8.000000e-01, 4.400000e+00, 2.050000e+00,\n",
       "        5.500000e+02],\n",
       "       [1.388000e+01, 3.560000e+00, 5.430000e+00, 3.560000e+00,\n",
       "        1.095000e+03],\n",
       "       [1.242000e+01, 1.840000e+00, 2.700000e+00, 3.300000e+00,\n",
       "        3.150000e+02],\n",
       "       [1.281000e+01, 1.090000e+00, 5.700000e+00, 1.360000e+00,\n",
       "        5.600000e+02],\n",
       "       [1.258000e+01, 5.800000e-01, 7.600000e+00, 1.550000e+00,\n",
       "        6.400000e+02],\n",
       "       [1.383000e+01, 3.400000e+00, 6.600000e+00, 2.570000e+00,\n",
       "        1.130000e+03],\n",
       "       [1.307000e+01, 2.640000e+00, 3.700000e+00, 2.690000e+00,\n",
       "        1.020000e+03],\n",
       "       [1.270000e+01, 1.200000e+00, 5.000000e+00, 1.290000e+00,\n",
       "        6.000000e+02],\n",
       "       [1.377000e+01, 2.790000e+00, 6.300000e+00, 2.930000e+00,\n",
       "        1.375000e+03],\n",
       "       [1.284000e+01, 6.000000e-01, 4.920000e+00, 2.150000e+00,\n",
       "        5.900000e+02],\n",
       "       [1.237000e+01, 2.450000e+00, 2.120000e+00, 2.780000e+00,\n",
       "        3.420000e+02],\n",
       "       [1.351000e+01, 2.530000e+00, 4.200000e+00, 2.870000e+00,\n",
       "        1.095000e+03],\n",
       "       [1.387000e+01, 2.970000e+00, 4.500000e+00, 3.400000e+00,\n",
       "        9.150000e+02],\n",
       "       [1.208000e+01, 2.290000e+00, 2.900000e+00, 3.190000e+00,\n",
       "        3.850000e+02],\n",
       "       [1.358000e+01, 3.190000e+00, 6.900000e+00, 2.880000e+00,\n",
       "        1.515000e+03],\n",
       "       [1.308000e+01, 1.390000e+00, 9.400000e+00, 1.330000e+00,\n",
       "        5.500000e+02],\n",
       "       [1.179000e+01, 2.240000e+00, 3.000000e+00, 2.440000e+00,\n",
       "        4.660000e+02],\n",
       "       [1.245000e+01, 5.800000e-01, 7.500000e+00, 1.730000e+00,\n",
       "        8.800000e+02],\n",
       "       [1.368000e+01, 2.690000e+00, 3.840000e+00, 2.870000e+00,\n",
       "        9.900000e+02],\n",
       "       [1.352000e+01, 5.200000e-01, 4.350000e+00, 2.060000e+00,\n",
       "        5.200000e+02],\n",
       "       [1.350000e+01, 1.570000e+00, 8.600000e+00, 1.300000e+00,\n",
       "        5.000000e+02],\n",
       "       [1.287000e+01, 6.500000e-01, 7.650000e+00, 1.860000e+00,\n",
       "        6.250000e+02],\n",
       "       [1.402000e+01, 2.330000e+00, 4.700000e+00, 3.590000e+00,\n",
       "        1.035000e+03],\n",
       "       [1.229000e+01, 2.990000e+00, 2.300000e+00, 2.830000e+00,\n",
       "        4.060000e+02],\n",
       "       [1.208000e+01, 1.580000e+00, 2.200000e+00, 2.720000e+00,\n",
       "        6.300000e+02],\n",
       "       [1.270000e+01, 2.550000e+00, 2.570000e+00, 3.130000e+00,\n",
       "        4.630000e+02],\n",
       "       [1.103000e+01, 2.170000e+00, 1.900000e+00, 2.870000e+00,\n",
       "        4.070000e+02],\n",
       "       [1.332000e+01, 7.600000e-01, 8.420000e+00, 1.620000e+00,\n",
       "        6.500000e+02],\n",
       "       [1.413000e+01, 7.600000e-01, 9.200000e+00, 1.600000e+00,\n",
       "        5.600000e+02],\n",
       "       [1.349000e+01, 1.840000e+00, 3.740000e+00, 2.780000e+00,\n",
       "        4.720000e+02],\n",
       "       [1.184000e+01, 1.320000e+00, 2.650000e+00, 2.520000e+00,\n",
       "        5.000000e+02],\n",
       "       [1.305000e+01, 2.680000e+00, 3.580000e+00, 3.200000e+00,\n",
       "        8.300000e+02],\n",
       "       [1.272000e+01, 2.530000e+00, 3.900000e+00, 3.140000e+00,\n",
       "        7.140000e+02],\n",
       "       [1.282000e+01, 6.600000e-01, 1.026000e+01, 1.750000e+00,\n",
       "        6.850000e+02],\n",
       "       [1.340000e+01, 9.600000e-01, 8.500000e+00, 1.920000e+00,\n",
       "        6.300000e+02],\n",
       "       [1.422000e+01, 3.040000e+00, 5.100000e+00, 3.530000e+00,\n",
       "        7.600000e+02],\n",
       "       [1.372000e+01, 3.670000e+00, 6.800000e+00, 2.870000e+00,\n",
       "        1.285000e+03],\n",
       "       [1.293000e+01, 5.000000e-01, 4.600000e+00, 2.310000e+00,\n",
       "        6.000000e+02],\n",
       "       [1.164000e+01, 1.690000e+00, 2.800000e+00, 2.750000e+00,\n",
       "        6.800000e+02],\n",
       "       [1.229000e+01, 1.020000e+00, 3.050000e+00, 1.820000e+00,\n",
       "        8.700000e+02],\n",
       "       [1.165000e+01, 1.610000e+00, 2.600000e+00, 3.210000e+00,\n",
       "        5.620000e+02],\n",
       "       [1.328000e+01, 2.680000e+00, 4.600000e+00, 2.780000e+00,\n",
       "        8.800000e+02],\n",
       "       [1.293000e+01, 2.410000e+00, 4.500000e+00, 3.520000e+00,\n",
       "        7.700000e+02],\n",
       "       [1.386000e+01, 3.150000e+00, 7.220000e+00, 3.550000e+00,\n",
       "        1.045000e+03],\n",
       "       [1.182000e+01, 1.640000e+00, 2.060000e+00, 2.440000e+00,\n",
       "        4.150000e+02],\n",
       "       [1.237000e+01, 2.000000e+00, 4.680000e+00, 3.480000e+00,\n",
       "        5.100000e+02],\n",
       "       [1.242000e+01, 2.090000e+00, 2.060000e+00, 2.960000e+00,\n",
       "        3.450000e+02],\n",
       "       [1.390000e+01, 3.390000e+00, 6.100000e+00, 3.330000e+00,\n",
       "        9.850000e+02],\n",
       "       [1.416000e+01, 7.000000e-01, 9.700000e+00, 1.710000e+00,\n",
       "        6.600000e+02]])"
      ]
     },
     "execution_count": 87,
     "metadata": {},
     "output_type": "execute_result"
    }
   ],
   "source": [
    "X_selected"
   ]
  },
  {
   "cell_type": "code",
   "execution_count": 88,
   "metadata": {},
   "outputs": [
    {
     "name": "stdout",
     "output_type": "stream",
     "text": [
      "Number of features added:  5\n"
     ]
    }
   ],
   "source": [
    "print('Number of features added: ', X_selected.shape[1])"
   ]
  },
  {
   "cell_type": "code",
   "execution_count": 89,
   "metadata": {},
   "outputs": [
    {
     "name": "stdout",
     "output_type": "stream",
     "text": [
      " 1) Color intensity                0.182483\n",
      " 2) Proline                        0.158610\n",
      " 3) Flavanoids                     0.150948\n",
      " 4) OD280/OD315 of diluted wines   0.131987\n",
      " 5) Alcohol                        0.106589\n"
     ]
    }
   ],
   "source": [
    "for f in range(X_selected.shape[1]):\n",
    "    print(\"%2d) %-*s %f\" % (f + 1, 30,\n",
    "                           feat_labels[indices[f]],\n",
    "                           importances[indices[f]]))"
   ]
  },
  {
   "cell_type": "code",
   "execution_count": null,
   "metadata": {},
   "outputs": [],
   "source": []
  }
 ],
 "metadata": {
  "kernelspec": {
   "display_name": "Python 3",
   "language": "python",
   "name": "python3"
  },
  "language_info": {
   "codemirror_mode": {
    "name": "ipython",
    "version": 3
   },
   "file_extension": ".py",
   "mimetype": "text/x-python",
   "name": "python",
   "nbconvert_exporter": "python",
   "pygments_lexer": "ipython3",
   "version": "3.6.4"
  }
 },
 "nbformat": 4,
 "nbformat_minor": 2
}
